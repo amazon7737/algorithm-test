{
 "cells": [
  {
   "cell_type": "code",
   "execution_count": 3,
   "id": "06185abf",
   "metadata": {},
   "outputs": [
    {
     "name": "stdout",
     "output_type": "stream",
     "text": [
      "baekjoon\n"
     ]
    }
   ],
   "source": [
    "s = str(input())"
   ]
  },
  {
   "cell_type": "code",
   "execution_count": 6,
   "id": "fdac4db1",
   "metadata": {},
   "outputs": [
    {
     "name": "stdout",
     "output_type": "stream",
     "text": [
      "baekjoon\n",
      "0 0 -1 -1 0 -1 -1 -1 -1 0 0 -1 -1 0 1 -1 -1 -1 -1 -1 -1 -1 -1 -1 -1 -1 "
     ]
    }
   ],
   "source": [
    "def solve(word):\n",
    "    a = {chr(x):0 for x in range(97, 122+1)}\n",
    "\n",
    "    for x in word:\n",
    "        if x in a:\n",
    "            a[x] += 1\n",
    "            \n",
    "    for x in a:\n",
    "        print(a[x], end = ' ')\n",
    "        \n",
    "if __name__ == '__main__':\n",
    "    s = str(input())\n",
    "    \n",
    "    solve(s)\n",
    "    "
   ]
  },
  {
   "cell_type": "code",
   "execution_count": 7,
   "id": "e03473e5",
   "metadata": {},
   "outputs": [
    {
     "name": "stdout",
     "output_type": "stream",
     "text": [
      "baekjoon\n"
     ]
    }
   ],
   "source": [
    "s = str(input())\n",
    "\n"
   ]
  },
  {
   "cell_type": "code",
   "execution_count": 9,
   "id": "d10293d5",
   "metadata": {},
   "outputs": [],
   "source": [
    "a = [chr(i) for i in range(97, 122+1)]"
   ]
  },
  {
   "cell_type": "code",
   "execution_count": 10,
   "id": "23e8ba26",
   "metadata": {},
   "outputs": [
    {
     "data": {
      "text/plain": [
       "['a',\n",
       " 'b',\n",
       " 'c',\n",
       " 'd',\n",
       " 'e',\n",
       " 'f',\n",
       " 'g',\n",
       " 'h',\n",
       " 'i',\n",
       " 'j',\n",
       " 'k',\n",
       " 'l',\n",
       " 'm',\n",
       " 'n',\n",
       " 'o',\n",
       " 'p',\n",
       " 'q',\n",
       " 'r',\n",
       " 's',\n",
       " 't',\n",
       " 'u',\n",
       " 'v',\n",
       " 'w',\n",
       " 'x',\n",
       " 'y',\n",
       " 'z']"
      ]
     },
     "execution_count": 10,
     "metadata": {},
     "output_type": "execute_result"
    }
   ],
   "source": [
    "a"
   ]
  },
  {
   "cell_type": "code",
   "execution_count": 11,
   "id": "85eef51d",
   "metadata": {},
   "outputs": [
    {
     "name": "stdout",
     "output_type": "stream",
     "text": [
      "1 0 -1 -1 2 -1 -1 -1 -1 4 3 -1 -1 7 5 -1 -1 -1 -1 -1 -1 -1 -1 -1 -1 -1 "
     ]
    }
   ],
   "source": [
    "for i in a:\n",
    "    try:\n",
    "        print(s.index(i), end = ' ')\n",
    "    except:\n",
    "        print(-1, end = ' ')\n",
    "        "
   ]
  },
  {
   "cell_type": "code",
   "execution_count": 12,
   "id": "2c8c9141",
   "metadata": {},
   "outputs": [
    {
     "name": "stdout",
     "output_type": "stream",
     "text": [
      "baekjoon\n"
     ]
    }
   ],
   "source": [
    "# 2022_10_10\n",
    "\n",
    "# 10809\n",
    "\n",
    "s = str(input())"
   ]
  },
  {
   "cell_type": "code",
   "execution_count": 32,
   "id": "3efe041d",
   "metadata": {},
   "outputs": [],
   "source": [
    "a = {chr(i):0 for i in range(97, 122+1)}"
   ]
  },
  {
   "cell_type": "code",
   "execution_count": 33,
   "id": "46999238",
   "metadata": {},
   "outputs": [
    {
     "data": {
      "text/plain": [
       "{'a': 0,\n",
       " 'b': 0,\n",
       " 'c': 0,\n",
       " 'd': 0,\n",
       " 'e': 0,\n",
       " 'f': 0,\n",
       " 'g': 0,\n",
       " 'h': 0,\n",
       " 'i': 0,\n",
       " 'j': 0,\n",
       " 'k': 0,\n",
       " 'l': 0,\n",
       " 'm': 0,\n",
       " 'n': 0,\n",
       " 'o': 0,\n",
       " 'p': 0,\n",
       " 'q': 0,\n",
       " 'r': 0,\n",
       " 's': 0,\n",
       " 't': 0,\n",
       " 'u': 0,\n",
       " 'v': 0,\n",
       " 'w': 0,\n",
       " 'x': 0,\n",
       " 'y': 0,\n",
       " 'z': 0}"
      ]
     },
     "execution_count": 33,
     "metadata": {},
     "output_type": "execute_result"
    }
   ],
   "source": [
    "a"
   ]
  },
  {
   "cell_type": "code",
   "execution_count": 38,
   "id": "8f69d0f0",
   "metadata": {},
   "outputs": [],
   "source": [
    "arr = [0 for i in range(len(a))]"
   ]
  },
  {
   "cell_type": "code",
   "execution_count": 39,
   "id": "bb6aa1a3",
   "metadata": {},
   "outputs": [
    {
     "data": {
      "text/plain": [
       "[0, 0, 0, 0, 0, 0, 0, 0, 0, 0, 0, 0, 0, 0, 0, 0, 0, 0, 0, 0, 0, 0, 0, 0, 0, 0]"
      ]
     },
     "execution_count": 39,
     "metadata": {},
     "output_type": "execute_result"
    }
   ],
   "source": [
    "arr"
   ]
  },
  {
   "cell_type": "code",
   "execution_count": 40,
   "id": "fccfab80",
   "metadata": {},
   "outputs": [
    {
     "name": "stdout",
     "output_type": "stream",
     "text": [
      "baekjoon\n"
     ]
    }
   ],
   "source": [
    "s = str(input())\n",
    "\n",
    "a = [chr(i) for i in range(97, 122+1)]\n"
   ]
  },
  {
   "cell_type": "code",
   "execution_count": 48,
   "id": "07923e39",
   "metadata": {},
   "outputs": [
    {
     "data": {
      "text/plain": [
       "'baekjoon'"
      ]
     },
     "execution_count": 48,
     "metadata": {},
     "output_type": "execute_result"
    }
   ],
   "source": [
    "s"
   ]
  },
  {
   "cell_type": "code",
   "execution_count": 41,
   "id": "8eafbd60",
   "metadata": {},
   "outputs": [
    {
     "data": {
      "text/plain": [
       "['a',\n",
       " 'b',\n",
       " 'c',\n",
       " 'd',\n",
       " 'e',\n",
       " 'f',\n",
       " 'g',\n",
       " 'h',\n",
       " 'i',\n",
       " 'j',\n",
       " 'k',\n",
       " 'l',\n",
       " 'm',\n",
       " 'n',\n",
       " 'o',\n",
       " 'p',\n",
       " 'q',\n",
       " 'r',\n",
       " 's',\n",
       " 't',\n",
       " 'u',\n",
       " 'v',\n",
       " 'w',\n",
       " 'x',\n",
       " 'y',\n",
       " 'z']"
      ]
     },
     "execution_count": 41,
     "metadata": {},
     "output_type": "execute_result"
    }
   ],
   "source": [
    "a"
   ]
  },
  {
   "cell_type": "code",
   "execution_count": null,
   "id": "4f6ccbd5",
   "metadata": {},
   "outputs": [],
   "source": []
  },
  {
   "cell_type": "code",
   "execution_count": null,
   "id": "291aab43",
   "metadata": {},
   "outputs": [],
   "source": []
  },
  {
   "cell_type": "code",
   "execution_count": 42,
   "id": "dda6c529",
   "metadata": {},
   "outputs": [
    {
     "name": "stdout",
     "output_type": "stream",
     "text": [
      "그냥 하는거\n",
      "그냥 하는거\n",
      "그냥 하는거\n",
      "그냥 하는거\n",
      "그냥 하는거\n",
      "그냥 하는거\n",
      "그냥 하는거\n",
      "그냥 하는거\n",
      "그냥 하는거\n",
      "그냥 하는거\n",
      "그냥 하는거\n",
      "그냥 하는거\n",
      "그냥 하는거\n",
      "그냥 하는거\n",
      "그냥 하는거\n",
      "그냥 하는거\n",
      "그냥 하는거\n",
      "그냥 하는거\n",
      "그냥 하는거\n",
      "그냥 하는거\n",
      "그냥 하는거\n",
      "그냥 하는거\n",
      "그냥 하는거\n",
      "그냥 하는거\n",
      "그냥 하는거\n",
      "그냥 하는거\n"
     ]
    }
   ],
   "source": [
    "for i in a:\n",
    "    try:\n",
    "        print(\"그냥 하는거\")\n",
    "        \n",
    "    except:\n",
    "        print(\"제외된거\")"
   ]
  },
  {
   "cell_type": "code",
   "execution_count": 47,
   "id": "688eb67c",
   "metadata": {},
   "outputs": [
    {
     "name": "stdout",
     "output_type": "stream",
     "text": [
      "???\n"
     ]
    }
   ],
   "source": [
    "\n",
    "\n",
    "try:\n",
    "    print(x)\n",
    "except:\n",
    "    print(\"??\")"
   ]
  },
  {
   "cell_type": "code",
   "execution_count": null,
   "id": "8cf3ca73",
   "metadata": {},
   "outputs": [],
   "source": []
  }
 ],
 "metadata": {
  "kernelspec": {
   "display_name": "Python 3 (ipykernel)",
   "language": "python",
   "name": "python3"
  },
  "language_info": {
   "codemirror_mode": {
    "name": "ipython",
    "version": 3
   },
   "file_extension": ".py",
   "mimetype": "text/x-python",
   "name": "python",
   "nbconvert_exporter": "python",
   "pygments_lexer": "ipython3",
   "version": "3.9.7"
  }
 },
 "nbformat": 4,
 "nbformat_minor": 5
}

{
 "cells": [
  {
   "cell_type": "code",
   "execution_count": 1,
   "id": "3c368adf",
   "metadata": {},
   "outputs": [],
   "source": [
    "#감 잃어서 복습"
   ]
  },
  {
   "cell_type": "code",
   "execution_count": 2,
   "id": "a8163fa6",
   "metadata": {},
   "outputs": [],
   "source": [
    "#소수 구하기 # 1929"
   ]
  },
  {
   "cell_type": "code",
   "execution_count": 3,
   "id": "91517d40",
   "metadata": {},
   "outputs": [
    {
     "name": "stdout",
     "output_type": "stream",
     "text": [
      "3 16\n"
     ]
    }
   ],
   "source": [
    "m, n = map(int, input().split())"
   ]
  },
  {
   "cell_type": "code",
   "execution_count": 4,
   "id": "54e62df9",
   "metadata": {},
   "outputs": [],
   "source": [
    "# 에라토스테네스의 체"
   ]
  },
  {
   "cell_type": "code",
   "execution_count": 5,
   "id": "41bd5cba",
   "metadata": {},
   "outputs": [
    {
     "name": "stdout",
     "output_type": "stream",
     "text": [
      "3 16\n"
     ]
    }
   ],
   "source": [
    "m, n = map(int,input().split())\n",
    "check = [0] * (n+1)\n",
    "\n"
   ]
  },
  {
   "cell_type": "code",
   "execution_count": 6,
   "id": "d113f1b6",
   "metadata": {},
   "outputs": [
    {
     "data": {
      "text/plain": [
       "[0, 0, 0, 0, 0, 0, 0, 0, 0, 0, 0, 0, 0, 0, 0, 0, 0]"
      ]
     },
     "execution_count": 6,
     "metadata": {},
     "output_type": "execute_result"
    }
   ],
   "source": [
    "check"
   ]
  },
  {
   "cell_type": "code",
   "execution_count": 12,
   "id": "2b7bf1f7",
   "metadata": {},
   "outputs": [
    {
     "name": "stdout",
     "output_type": "stream",
     "text": [
      "3\n",
      "check:  [0, 0, 0, 0, 1, 0, 1, 0, 1, 1, 1, 0, 1, 0, 1, 1, 1]\n",
      "5\n",
      "check:  [0, 0, 0, 0, 1, 0, 1, 0, 1, 1, 1, 0, 1, 0, 1, 1, 1]\n",
      "7\n",
      "check:  [0, 0, 0, 0, 1, 0, 1, 0, 1, 1, 1, 0, 1, 0, 1, 1, 1]\n",
      "11\n",
      "check:  [0, 0, 0, 0, 1, 0, 1, 0, 1, 1, 1, 0, 1, 0, 1, 1, 1]\n",
      "13\n",
      "check:  [0, 0, 0, 0, 1, 0, 1, 0, 1, 1, 1, 0, 1, 0, 1, 1, 1]\n"
     ]
    }
   ],
   "source": [
    "for i in range(2, n+1):\n",
    "    if check[i] == 0:\n",
    "        if i >= m:\n",
    "            print(i)\n",
    "            print(\"check: \", check)\n",
    "        for j in range(i*2, n+1, i):\n",
    "            if check[j] == 0:\n",
    "                check[j] = 1\n",
    "                print(\"check:\", check)"
   ]
  },
  {
   "cell_type": "code",
   "execution_count": 9,
   "id": "f8b9dfb8",
   "metadata": {},
   "outputs": [],
   "source": [
    "# 소수를 판별하는 알고리즘\n",
    "# 특정 소수의 배수들을 계산에 포함되지 않도록 하는 원리\n",
    "# 마치 체에 걸러지는 것과 같아 에라토스테네스의 체라고 부름\n",
    "\n",
    "# 구현하는 방식\n",
    "# 1. 소수를 판별할 범위만큼 배열을 생성하고 0으로 초기화합니다. (저는 개인적으로 0초기화를 좋아함)\n",
    "# 2. 2부터 시작해서 배수에 해당하는 숫자들을 지우며 진행합니다.\n",
    "# 3. 2부터 시작해서 지워지지 않은 수들은 모두 소수이므로 출력합니다.\n",
    "\n"
   ]
  },
  {
   "cell_type": "code",
   "execution_count": 13,
   "id": "be2e7e79",
   "metadata": {},
   "outputs": [
    {
     "name": "stdout",
     "output_type": "stream",
     "text": [
      "3 16\n"
     ]
    }
   ],
   "source": [
    "m, n = map(int, input().split())"
   ]
  },
  {
   "cell_type": "code",
   "execution_count": 14,
   "id": "97d0b9b9",
   "metadata": {},
   "outputs": [],
   "source": [
    "# 3 16"
   ]
  },
  {
   "cell_type": "code",
   "execution_count": 15,
   "id": "037427fd",
   "metadata": {},
   "outputs": [],
   "source": [
    "check = [0] * (n+1)"
   ]
  },
  {
   "cell_type": "code",
   "execution_count": 16,
   "id": "7eabeb32",
   "metadata": {},
   "outputs": [
    {
     "name": "stdout",
     "output_type": "stream",
     "text": [
      "[0, 0, 0, 0, 0, 0, 0, 0, 0, 0, 0, 0, 0, 0, 0, 0, 0]\n"
     ]
    }
   ],
   "source": [
    "print(check)"
   ]
  },
  {
   "cell_type": "code",
   "execution_count": 19,
   "id": "38d44315",
   "metadata": {},
   "outputs": [
    {
     "name": "stdout",
     "output_type": "stream",
     "text": [
      "i:  3\n",
      "3\n",
      "i:  5\n",
      "5\n",
      "i:  7\n",
      "7\n",
      "i:  11\n",
      "11\n",
      "i:  13\n",
      "13\n"
     ]
    }
   ],
   "source": [
    "for i in range(2, n+1):\n",
    "    if check[i] == 0:\n",
    "        if i >= m:\n",
    "            print(\"i: \", i)\n",
    "            print(i)\n",
    "        for j in range(i*2, n+1, i):\n",
    "            if check[j] == 0 :\n",
    "                check[j] = 1\n",
    "                print(check)"
   ]
  },
  {
   "cell_type": "code",
   "execution_count": 20,
   "id": "8b965f9f",
   "metadata": {},
   "outputs": [
    {
     "name": "stdout",
     "output_type": "stream",
     "text": [
      "[2, 3, 5, 7, 11, 13, 17, 19, 23, 29, 31, 37, 41, 43, 47, 53, 59, 61, 67, 71, 73, 79, 83, 89, 97]\n"
     ]
    }
   ],
   "source": [
    "# N 까지의 수 중 소수를 찾아 기록한 리스트를 출력한다. 여기서 N은 100으로 설정했다.\n",
    "\n",
    "def find_prime_number(n):\n",
    "    check = [0] * (n+1)\n",
    "    result = []\n",
    "    for i in range(2, n+1):\n",
    "        if check[i] == 0:\n",
    "            for j in range(i*2, n+1, i):\n",
    "                if check[i] == 0:\n",
    "                    check[j] = 1\n",
    "    for i in range(2, n+1):\n",
    "        if check[i] == 0:\n",
    "            result.append(i)\n",
    "    return result\n",
    "\n",
    "if __name__ == \"__main__\":\n",
    "    n = 100\n",
    "    print(find_prime_number(n))\n",
    "    "
   ]
  },
  {
   "cell_type": "code",
   "execution_count": 21,
   "id": "19aa8017",
   "metadata": {},
   "outputs": [
    {
     "name": "stdout",
     "output_type": "stream",
     "text": [
      "[2, 3, 5, 7, 9, 11, 13, 15, 17, 19, 21, 23, 25, 27, 29, 31, 33, 35, 37, 39, 41, 43, 45, 47, 49, 51, 53, 55, 57, 59, 61, 63, 65, 67, 69, 71, 73, 75, 77, 79, 81, 83, 85, 87, 89, 91, 93, 95, 97, 99]\n"
     ]
    }
   ],
   "source": [
    "def find_prime_number(n):\n",
    "    check = [0] * (n+1)\n",
    "    result = []\n",
    "    for i in range(2, n+1):\n",
    "        if check[i] == 0:\n",
    "            for j in range(i*2, n+1, i):\n",
    "                if check[j] == 0:\n",
    "                    check[j] = 1\n",
    "                \n",
    "            for i in range(2, n+1):\n",
    "                if check[i] == 0:\n",
    "                    result.append(i)\n",
    "            return result\n",
    "    \n",
    "if __name__ == \"__main__\":\n",
    "    n = 100\n",
    "    print(find_prime_number(n))"
   ]
  },
  {
   "cell_type": "code",
   "execution_count": 1,
   "id": "63c5d07d",
   "metadata": {},
   "outputs": [
    {
     "name": "stdout",
     "output_type": "stream",
     "text": [
      "[2, 3, 5, 7, 9, 11, 13, 15, 17, 19, 21, 23, 25, 27, 29, 31, 33, 35, 37, 39, 41, 43, 45, 47, 49, 51, 53, 55, 57, 59, 61, 63, 65, 67, 69, 71, 73, 75, 77, 79, 81, 83, 85, 87, 89, 91, 93, 95, 97, 99]\n"
     ]
    }
   ],
   "source": [
    "def find_prime_number(n):\n",
    "    check = [0] * (n+1)\n",
    "    result = []\n",
    "    for i in range(2, n+1):\n",
    "        if check[i] == 0:\n",
    "            for j in range(i*2, n+1, i):\n",
    "                if check[j] == 0:\n",
    "                    check[j] = 1\n",
    "            for i in range(2, n+1):\n",
    "                if check[i] == 0:\n",
    "                    result.append(i)\n",
    "            return result\n",
    "        \n",
    "if __name__ == \"__main__\":\n",
    "    n = 100\n",
    "    print(find_prime_number(n))\n",
    "    \n",
    "    "
   ]
  },
  {
   "cell_type": "code",
   "execution_count": 2,
   "id": "d5571011",
   "metadata": {},
   "outputs": [],
   "source": [
    "check = [0] * (n+1)"
   ]
  },
  {
   "cell_type": "code",
   "execution_count": 3,
   "id": "3a59f25e",
   "metadata": {},
   "outputs": [
    {
     "name": "stdout",
     "output_type": "stream",
     "text": [
      "3 16\n"
     ]
    }
   ],
   "source": [
    "m, n = map(int, input().split())"
   ]
  },
  {
   "cell_type": "code",
   "execution_count": 4,
   "id": "b801e754",
   "metadata": {},
   "outputs": [],
   "source": [
    "# m <= i <= n\n",
    "\n"
   ]
  },
  {
   "cell_type": "code",
   "execution_count": 5,
   "id": "35a19907",
   "metadata": {},
   "outputs": [],
   "source": [
    "# 3, 5, 7, 11 , 13"
   ]
  },
  {
   "cell_type": "code",
   "execution_count": 6,
   "id": "179c6fbb",
   "metadata": {},
   "outputs": [],
   "source": [
    "#2004"
   ]
  },
  {
   "cell_type": "code",
   "execution_count": 7,
   "id": "72ea61b0",
   "metadata": {},
   "outputs": [
    {
     "name": "stdout",
     "output_type": "stream",
     "text": [
      "25 12\n"
     ]
    }
   ],
   "source": [
    "n, m = map(int, input().split())"
   ]
  },
  {
   "cell_type": "code",
   "execution_count": 8,
   "id": "598af488",
   "metadata": {},
   "outputs": [],
   "source": [
    "# (n, m) 의 끝자리 0의 개수를 출력하는 프로그램\n"
   ]
  },
  {
   "cell_type": "code",
   "execution_count": 9,
   "id": "04869f2a",
   "metadata": {},
   "outputs": [
    {
     "name": "stdout",
     "output_type": "stream",
     "text": [
      "25 12\n",
      "2\n"
     ]
    }
   ],
   "source": [
    "def five_count(n):\n",
    "    answer = 0\n",
    "    while n != 0:\n",
    "        n = n // 5\n",
    "        answer += n\n",
    "    return answer\n",
    "\n",
    "\n",
    "def two_count(n):\n",
    "    answer = 0\n",
    "    while n != 0:\n",
    "        n = n//2\n",
    "        answer += n\n",
    "    return answer\n",
    "\n",
    "n, m = map(int, input().split())\n",
    "\n",
    "if m == 0:\n",
    "    print(0)\n",
    "else:\n",
    "    print(min(two_count(n) - two_count(m) - two_count(n-m), five_count(n) - five_count(m) - five_count(n-m)))"
   ]
  },
  {
   "cell_type": "code",
   "execution_count": 10,
   "id": "20b1bc67",
   "metadata": {},
   "outputs": [],
   "source": [
    "#1260 2차원리스트로 구현\n",
    "\n"
   ]
  },
  {
   "cell_type": "code",
   "execution_count": 13,
   "id": "28be5c61",
   "metadata": {},
   "outputs": [
    {
     "name": "stdout",
     "output_type": "stream",
     "text": [
      "\n"
     ]
    },
    {
     "ename": "ValueError",
     "evalue": "not enough values to unpack (expected 3, got 0)",
     "output_type": "error",
     "traceback": [
      "\u001b[0;31m---------------------------------------------------------------------------\u001b[0m",
      "\u001b[0;31mValueError\u001b[0m                                Traceback (most recent call last)",
      "Cell \u001b[0;32mIn [13], line 24\u001b[0m\n\u001b[1;32m     20\u001b[0m                 queue\u001b[38;5;241m.\u001b[39mappend(i)\n\u001b[1;32m     21\u001b[0m                 visited[i] \u001b[38;5;241m=\u001b[39m \u001b[38;5;28;01mTrue\u001b[39;00m\n\u001b[0;32m---> 24\u001b[0m N,M,V \u001b[38;5;241m=\u001b[39m \u001b[38;5;28mmap\u001b[39m(\u001b[38;5;28mint\u001b[39m,\u001b[38;5;28minput\u001b[39m()\u001b[38;5;241m.\u001b[39msplit())\n\u001b[1;32m     25\u001b[0m \u001b[38;5;66;03m#0행과 0열은 쓰지않는다\u001b[39;00m\n\u001b[1;32m     26\u001b[0m matrix \u001b[38;5;241m=\u001b[39m [[\u001b[38;5;241m0\u001b[39m \u001b[38;5;28;01mfor\u001b[39;00m _ \u001b[38;5;129;01min\u001b[39;00m \u001b[38;5;28mrange\u001b[39m(N\u001b[38;5;241m+\u001b[39m\u001b[38;5;241m1\u001b[39m)] \u001b[38;5;28;01mfor\u001b[39;00m _ \u001b[38;5;129;01min\u001b[39;00m \u001b[38;5;28mrange\u001b[39m(N\u001b[38;5;241m+\u001b[39m\u001b[38;5;241m1\u001b[39m)]\n",
      "\u001b[0;31mValueError\u001b[0m: not enough values to unpack (expected 3, got 0)"
     ]
    }
   ],
   "source": [
    "#1\n",
    "from collections import deque\n",
    "def dfs(matrix,v,visited):\n",
    "    visited[v]= True\n",
    "    print(v, end=' ')\n",
    "\n",
    "    for i in range(1,N+1):\n",
    "        if not visited[i] and matrix[v][i] == 1:\n",
    "            dfs(matrix,i,visited)\n",
    "\n",
    "def bfs(matrix,start,visited):\n",
    "    queue = deque([start])\n",
    "\n",
    "    visited[start] = True\n",
    "    while queue:\n",
    "        v = queue.popleft()\n",
    "        print(v,end =' ')\n",
    "        for i in range(1,N+1):\n",
    "            if not visited[i] and matrix[v][i] == 1:\n",
    "                queue.append(i)\n",
    "                visited[i] = True\n",
    "\n",
    "\n",
    "N,M,V = map(int,input().split())\n",
    "#0행과 0열은 쓰지않는다\n",
    "matrix = [[0 for _ in range(N+1)] for _ in range(N+1)]\n",
    "\n",
    "for i in range(M):\n",
    "     v,w= map(int,input().split())\n",
    "     matrix[v][w] = 1\n",
    "     matrix[w][v] = 1\n",
    "     \n",
    "visited = [False] * (N+1)\n",
    "\n",
    "dfs(matrix,V,visited)\n",
    "visited = [False] * (N+1)\n",
    "print()\n",
    "bfs(matrix,V,visited)"
   ]
  },
  {
   "cell_type": "code",
   "execution_count": 14,
   "id": "09b02732",
   "metadata": {},
   "outputs": [],
   "source": [
    "#11724"
   ]
  },
  {
   "cell_type": "code",
   "execution_count": 16,
   "id": "3e546bff",
   "metadata": {},
   "outputs": [
    {
     "name": "stdout",
     "output_type": "stream",
     "text": [
      "6 5\n"
     ]
    }
   ],
   "source": [
    "n, m = map(int, input().split())"
   ]
  },
  {
   "cell_type": "code",
   "execution_count": 17,
   "id": "6cffa6d4",
   "metadata": {},
   "outputs": [],
   "source": [
    "import sys\n",
    "from collections import deque\n",
    "\n"
   ]
  },
  {
   "cell_type": "code",
   "execution_count": 23,
   "id": "7d36a8c5",
   "metadata": {},
   "outputs": [
    {
     "data": {
      "text/plain": [
       "3"
      ]
     },
     "execution_count": 23,
     "metadata": {},
     "output_type": "execute_result"
    }
   ],
   "source": [
    "v"
   ]
  },
  {
   "cell_type": "code",
   "execution_count": 28,
   "id": "2dbeabe3",
   "metadata": {},
   "outputs": [],
   "source": [
    "def bfs(graph, v, visit):\n",
    "    que = deque([v])\n",
    "    visit[v] = True\n",
    "    while que:\n",
    "        v = que.popleft()\n",
    "        for i in graph[v]:\n",
    "            if not visit[i]:\n",
    "                if not visit[i]:\n",
    "                    que.append(i)\n",
    "                    visit[i] = True"
   ]
  },
  {
   "cell_type": "code",
   "execution_count": 30,
   "id": "9d869952",
   "metadata": {},
   "outputs": [
    {
     "name": "stdout",
     "output_type": "stream",
     "text": [
      "3 16\n"
     ]
    }
   ],
   "source": [
    "\n",
    "n, m = map(int, input().split())\n",
    "\n"
   ]
  },
  {
   "cell_type": "code",
   "execution_count": 35,
   "id": "044e2d56",
   "metadata": {},
   "outputs": [
    {
     "ename": "ValueError",
     "evalue": "not enough values to unpack (expected 2, got 0)",
     "output_type": "error",
     "traceback": [
      "\u001b[0;31m---------------------------------------------------------------------------\u001b[0m",
      "\u001b[0;31mValueError\u001b[0m                                Traceback (most recent call last)",
      "Cell \u001b[0;32mIn [35], line 18\u001b[0m\n\u001b[1;32m     14\u001b[0m \t\t\t\tvisit[i] \u001b[38;5;241m=\u001b[39m \u001b[38;5;28;01mTrue\u001b[39;00m\n\u001b[1;32m     17\u001b[0m read \u001b[38;5;241m=\u001b[39m sys\u001b[38;5;241m.\u001b[39mstdin\u001b[38;5;241m.\u001b[39mreadline\n\u001b[0;32m---> 18\u001b[0m N, M \u001b[38;5;241m=\u001b[39m \u001b[38;5;28mmap\u001b[39m(\u001b[38;5;28mint\u001b[39m, read()\u001b[38;5;241m.\u001b[39msplit())\n\u001b[1;32m     20\u001b[0m graph \u001b[38;5;241m=\u001b[39m [ [] \u001b[38;5;28;01mfor\u001b[39;00m _ \u001b[38;5;129;01min\u001b[39;00m \u001b[38;5;28mrange\u001b[39m(N\u001b[38;5;241m+\u001b[39m\u001b[38;5;241m1\u001b[39m) ]\n\u001b[1;32m     21\u001b[0m \u001b[38;5;28;01mfor\u001b[39;00m _ \u001b[38;5;129;01min\u001b[39;00m \u001b[38;5;28mrange\u001b[39m(M):\n",
      "\u001b[0;31mValueError\u001b[0m: not enough values to unpack (expected 2, got 0)"
     ]
    }
   ],
   "source": [
    "#Solution 1 BFS\n",
    "import sys\n",
    "from collections import deque\n",
    "\n",
    "# BFS: 너비우선탐색\n",
    "def bfs(graph, v, visit):\n",
    "\tque = deque([v])\n",
    "\tvisit[v] = True\n",
    "\twhile que:\n",
    "\t\tv = que.popleft()\n",
    "\t\tfor i in graph[v]:\n",
    "\t\t\tif not visit[i]:\n",
    "\t\t\t\tque.append(i)\n",
    "\t\t\t\tvisit[i] = True\n",
    "\n",
    "\n",
    "read = sys.stdin.readline\n",
    "N, M = map(int, read().split())\n",
    "\n",
    "graph = [ [] for _ in range(N+1) ]\n",
    "for _ in range(M):\n",
    "    v1,v2 = map(int, read().split())\n",
    "    graph[v1].append(v2)\n",
    "    graph[v2].append(v1)\n",
    "\n",
    "visit = [False] * (N+1)\n",
    "cnt = 0\n",
    "\n",
    "for v in range(1, N+1):\n",
    "    if visit[v]: continue\n",
    "    bfs(graph, v, visit)\n",
    "    cnt += 1\n",
    "\n",
    "print(cnt)"
   ]
  },
  {
   "cell_type": "code",
   "execution_count": 36,
   "id": "fc5b02a9",
   "metadata": {},
   "outputs": [
    {
     "ename": "ValueError",
     "evalue": "not enough values to unpack (expected 2, got 0)",
     "output_type": "error",
     "traceback": [
      "\u001b[0;31m---------------------------------------------------------------------------\u001b[0m",
      "\u001b[0;31mValueError\u001b[0m                                Traceback (most recent call last)",
      "Cell \u001b[0;32mIn [36], line 14\u001b[0m\n\u001b[1;32m     10\u001b[0m \t\t\tdfs(graph, v, visit)\n\u001b[1;32m     13\u001b[0m read \u001b[38;5;241m=\u001b[39m sys\u001b[38;5;241m.\u001b[39mstdin\u001b[38;5;241m.\u001b[39mreadline\n\u001b[0;32m---> 14\u001b[0m N, M \u001b[38;5;241m=\u001b[39m \u001b[38;5;28mmap\u001b[39m(\u001b[38;5;28mint\u001b[39m, read()\u001b[38;5;241m.\u001b[39msplit())\n\u001b[1;32m     16\u001b[0m graph \u001b[38;5;241m=\u001b[39m [ [] \u001b[38;5;28;01mfor\u001b[39;00m _ \u001b[38;5;129;01min\u001b[39;00m \u001b[38;5;28mrange\u001b[39m(N\u001b[38;5;241m+\u001b[39m\u001b[38;5;241m1\u001b[39m) ]\n\u001b[1;32m     17\u001b[0m \u001b[38;5;28;01mfor\u001b[39;00m _ \u001b[38;5;129;01min\u001b[39;00m \u001b[38;5;28mrange\u001b[39m(M):\n",
      "\u001b[0;31mValueError\u001b[0m: not enough values to unpack (expected 2, got 0)"
     ]
    }
   ],
   "source": [
    "#Solution2 DFS\n",
    "import sys\n",
    "sys.setrecursionlimit(10000)  # 재귀 제한을 확대해야 함.\n",
    "\n",
    "# DFS: 깊이우선탐색\n",
    "def dfs(graph, v, visit):\n",
    "\tvisit[v] = True\n",
    "\tfor i in graph[v]:\n",
    "\t\tif not visit[i]:\n",
    "\t\t\tdfs(graph, v, visit)\n",
    "\n",
    "\n",
    "read = sys.stdin.readline\n",
    "N, M = map(int, read().split())\n",
    "\n",
    "graph = [ [] for _ in range(N+1) ]\n",
    "for _ in range(M):\n",
    "    v1,v2 = map(int, read().split())\n",
    "    graph[v1].append(v2)\n",
    "    graph[v2].append(v1)\n",
    "\n",
    "visit = [False] * (N+1)\n",
    "cnt = 0\n",
    "\n",
    "for v in range(1, N+1):\n",
    "    if visit[v]: continue\n",
    "    dfs(graph, v, visit)\n",
    "    cnt += 1\n",
    "\n",
    "print(cnt)\n"
   ]
  },
  {
   "cell_type": "code",
   "execution_count": 37,
   "id": "f1829b85",
   "metadata": {},
   "outputs": [],
   "source": [
    "#1707"
   ]
  },
  {
   "cell_type": "code",
   "execution_count": 38,
   "id": "4b8c0f95",
   "metadata": {},
   "outputs": [
    {
     "ename": "ValueError",
     "evalue": "invalid literal for int() with base 10: ''",
     "output_type": "error",
     "traceback": [
      "\u001b[0;31m---------------------------------------------------------------------------\u001b[0m",
      "\u001b[0;31mValueError\u001b[0m                                Traceback (most recent call last)",
      "Cell \u001b[0;32mIn [38], line 4\u001b[0m\n\u001b[1;32m      1\u001b[0m \u001b[38;5;28;01mimport\u001b[39;00m \u001b[38;5;21;01msys\u001b[39;00m\n\u001b[1;32m      3\u001b[0m \u001b[38;5;28minput\u001b[39m \u001b[38;5;241m=\u001b[39m sys\u001b[38;5;241m.\u001b[39mstdin\u001b[38;5;241m.\u001b[39mreadline\n\u001b[0;32m----> 4\u001b[0m K \u001b[38;5;241m=\u001b[39m \u001b[38;5;28mint\u001b[39m(\u001b[38;5;28minput\u001b[39m())\n\u001b[1;32m      5\u001b[0m RED, BLUE \u001b[38;5;241m=\u001b[39m \u001b[38;5;241m1\u001b[39m, \u001b[38;5;241m-\u001b[39m\u001b[38;5;241m1\u001b[39m\n\u001b[1;32m      6\u001b[0m sys\u001b[38;5;241m.\u001b[39msetrecursionlimit(\u001b[38;5;241m10\u001b[39m \u001b[38;5;241m*\u001b[39m\u001b[38;5;241m*\u001b[39m \u001b[38;5;241m6\u001b[39m)\n",
      "\u001b[0;31mValueError\u001b[0m: invalid literal for int() with base 10: ''"
     ]
    }
   ],
   "source": [
    "import sys\n",
    "\n",
    "input = sys.stdin.readline\n",
    "K = int(input())\n",
    "RED, BLUE = 1, -1\n",
    "sys.setrecursionlimit(10 ** 6)\n",
    "# 백준에서 재귀의 깊이 제한이 1000 이라고 함.\n",
    "# 재귀 제한을 설정해주지 않으면 recursionError 가 발생함. 따라서 재귀 제한을 설정해줬음. \n",
    "\n",
    "\n",
    "def dfs(vertex, color):\n",
    "    global flag\n",
    "    colors[vertex] = color  # 시작 정점 color 색으로 칠함.\n",
    "    \n",
    "    # 인접한 정점들 중에서\n",
    "    for graph in graphs[vertex]:\n",
    "        # 인접한 정점의 색상이 같으면 이분 그래프 X 이므로 종료\n",
    "        if colors[graph] == color:\n",
    "            flag = False\n",
    "            return\n",
    "        # 정점을 칠한적이 없으면 재귀 함수 호출\n",
    "        if colors[graph] == 0:\n",
    "            dfs(graph, -color)\n",
    "\n",
    "\n",
    "for i in range(K):\n",
    "    V, E = map(int, input().split())\n",
    "\n",
    "    graphs = [[] for _ in range(V + 1)]   # 연결리스트 그래프\n",
    "    colors = [0] * (V + 1)   # 색상 저장\n",
    "    flag = True\n",
    "    for _ in range(E):\n",
    "        x, y = map(int, input().split())\n",
    "        graphs[x].append(y)\n",
    "        graphs[y].append(x)\n",
    "\n",
    "    for v in range(1, V + 1):\n",
    "        if not flag:\n",
    "            break\n",
    "        if colors[v] == 0:\n",
    "            dfs(v, RED)   # 처음에 빨간색으로 칠함. (파란색으로 먼저 칠해도 상관 X)\n",
    "\n",
    "    print('YES' if flag else \"NO\")"
   ]
  },
  {
   "cell_type": "code",
   "execution_count": 39,
   "id": "526ab50a",
   "metadata": {},
   "outputs": [],
   "source": [
    "#10451"
   ]
  },
  {
   "cell_type": "code",
   "execution_count": 40,
   "id": "d316aeeb",
   "metadata": {},
   "outputs": [
    {
     "ename": "ValueError",
     "evalue": "invalid literal for int() with base 10: ''",
     "output_type": "error",
     "traceback": [
      "\u001b[0;31m---------------------------------------------------------------------------\u001b[0m",
      "\u001b[0;31mValueError\u001b[0m                                Traceback (most recent call last)",
      "Cell \u001b[0;32mIn [40], line 1\u001b[0m\n\u001b[0;32m----> 1\u001b[0m t \u001b[38;5;241m=\u001b[39m \u001b[38;5;28mint\u001b[39m(\u001b[38;5;28minput\u001b[39m())\n",
      "\u001b[0;31mValueError\u001b[0m: invalid literal for int() with base 10: ''"
     ]
    }
   ],
   "source": [
    "t = int(input())"
   ]
  },
  {
   "cell_type": "code",
   "execution_count": 41,
   "id": "dcad9046",
   "metadata": {},
   "outputs": [
    {
     "ename": "ValueError",
     "evalue": "invalid literal for int() with base 10: ''",
     "output_type": "error",
     "traceback": [
      "\u001b[0;31m---------------------------------------------------------------------------\u001b[0m",
      "\u001b[0;31mValueError\u001b[0m                                Traceback (most recent call last)",
      "Cell \u001b[0;32mIn [41], line 1\u001b[0m\n\u001b[0;32m----> 1\u001b[0m n \u001b[38;5;241m=\u001b[39m \u001b[38;5;28mint\u001b[39m(\u001b[38;5;28minput\u001b[39m())\n",
      "\u001b[0;31mValueError\u001b[0m: invalid literal for int() with base 10: ''"
     ]
    }
   ],
   "source": [
    "n = int(input())"
   ]
  },
  {
   "cell_type": "code",
   "execution_count": 44,
   "id": "7d119721",
   "metadata": {},
   "outputs": [
    {
     "ename": "ValueError",
     "evalue": "invalid literal for int() with base 10: ''",
     "output_type": "error",
     "traceback": [
      "\u001b[0;31m---------------------------------------------------------------------------\u001b[0m",
      "\u001b[0;31mValueError\u001b[0m                                Traceback (most recent call last)",
      "Cell \u001b[0;32mIn [44], line 2\u001b[0m\n\u001b[1;32m      1\u001b[0m \u001b[38;5;66;03m#solution1 BFS\u001b[39;00m\n\u001b[0;32m----> 2\u001b[0m T\u001b[38;5;241m=\u001b[39m\u001b[38;5;28mint\u001b[39m(\u001b[38;5;28minput\u001b[39m())\n\u001b[1;32m      4\u001b[0m \u001b[38;5;28;01mdef\u001b[39;00m \u001b[38;5;21mbfs\u001b[39m(V):\n\u001b[1;32m      5\u001b[0m     queue \u001b[38;5;241m=\u001b[39m [V]\n",
      "\u001b[0;31mValueError\u001b[0m: invalid literal for int() with base 10: ''"
     ]
    }
   ],
   "source": [
    "#solution1 BFS\n",
    "T=int(input())\n",
    "\n",
    "def bfs(V):\n",
    "    queue = [V]\n",
    "    visited[V] = 1  #방문한 곳 1로 표시\n",
    "    while queue:\n",
    "        V = queue[0]\n",
    "        queue.pop(0)\n",
    "        next = arr[V]\n",
    "        if visited[next] == 0: #아직 방문하지 않은 곳인 경우\n",
    "            visited[next] = 1\n",
    "            queue.append(next)\n",
    "    return 1\n",
    "\n",
    "for i in range(T):\n",
    "    answer = 0\n",
    "    N = int(input())\n",
    "    arr = [0] + list(map(int, input().split()))\n",
    "    visited = [0] * (N + 1)\n",
    "\n",
    "    for i in range(1, N+1):\n",
    "        if visited[i] == 0:\n",
    "            answer += bfs(i)\n",
    "    print(answer) #순열 사이클의 개수"
   ]
  },
  {
   "cell_type": "code",
   "execution_count": 45,
   "id": "749b7610",
   "metadata": {},
   "outputs": [
    {
     "ename": "ValueError",
     "evalue": "invalid literal for int() with base 10: ''",
     "output_type": "error",
     "traceback": [
      "\u001b[0;31m---------------------------------------------------------------------------\u001b[0m",
      "\u001b[0;31mValueError\u001b[0m                                Traceback (most recent call last)",
      "Cell \u001b[0;32mIn [45], line 6\u001b[0m\n\u001b[1;32m      3\u001b[0m \u001b[38;5;28;01mimport\u001b[39;00m \u001b[38;5;21;01msys\u001b[39;00m\n\u001b[1;32m      4\u001b[0m sys\u001b[38;5;241m.\u001b[39msetrecursionlimit(\u001b[38;5;241m10\u001b[39m\u001b[38;5;241m*\u001b[39m\u001b[38;5;241m*\u001b[39m\u001b[38;5;241m7\u001b[39m)\n\u001b[0;32m----> 6\u001b[0m T\u001b[38;5;241m=\u001b[39m\u001b[38;5;28mint\u001b[39m(\u001b[38;5;28minput\u001b[39m())\n\u001b[1;32m      8\u001b[0m \u001b[38;5;28;01mdef\u001b[39;00m \u001b[38;5;21mdfs\u001b[39m(V):\n\u001b[1;32m      9\u001b[0m     visited[V]\u001b[38;5;241m=\u001b[39m\u001b[38;5;241m1\u001b[39m  \u001b[38;5;66;03m#방문한 곳 1로 표시\u001b[39;00m\n",
      "\u001b[0;31mValueError\u001b[0m: invalid literal for int() with base 10: ''"
     ]
    }
   ],
   "source": [
    "#solution2 DFS\n",
    "\n",
    "import sys\n",
    "sys.setrecursionlimit(10**7)\n",
    "\n",
    "T=int(input())\n",
    "\n",
    "def dfs(V):\n",
    "    visited[V]=1  #방문한 곳 1로 표시\n",
    "    next=arr[V]\n",
    "    if visited[next]==0: #아직 방문하지 않은 곳인 경우\n",
    "        dfs(next)\n",
    "\n",
    "for i in range(T):\n",
    "    answer = 0\n",
    "    N = int(input())\n",
    "    arr = [0] + list(map(int, input().split()))\n",
    "    visited = [0] * (N + 1)\n",
    "\n",
    "    for i in range(1, N+1):\n",
    "        if visited[i]==0:\n",
    "            dfs(i)\n",
    "            answer+=1\n",
    "    print(answer) #순열 사이클의 개수"
   ]
  },
  {
   "cell_type": "code",
   "execution_count": null,
   "id": "a877bb01",
   "metadata": {},
   "outputs": [],
   "source": []
  }
 ],
 "metadata": {
  "kernelspec": {
   "display_name": "Python 3 (ipykernel)",
   "language": "python",
   "name": "python3"
  },
  "language_info": {
   "codemirror_mode": {
    "name": "ipython",
    "version": 3
   },
   "file_extension": ".py",
   "mimetype": "text/x-python",
   "name": "python",
   "nbconvert_exporter": "python",
   "pygments_lexer": "ipython3",
   "version": "3.9.7"
  }
 },
 "nbformat": 4,
 "nbformat_minor": 5
}

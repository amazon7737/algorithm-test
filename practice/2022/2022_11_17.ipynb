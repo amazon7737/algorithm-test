{
 "cells": [
  {
   "cell_type": "code",
   "execution_count": 1,
   "id": "d172a8ee",
   "metadata": {},
   "outputs": [],
   "source": [
    "#1991"
   ]
  },
  {
   "cell_type": "code",
   "execution_count": 3,
   "id": "45f44ffc",
   "metadata": {
    "scrolled": true
   },
   "outputs": [
    {
     "name": "stdout",
     "output_type": "stream",
     "text": [
      "7\n"
     ]
    }
   ],
   "source": [
    "n = int(input())\n",
    "tree = {}"
   ]
  },
  {
   "cell_type": "code",
   "execution_count": 4,
   "id": "da065498",
   "metadata": {
    "scrolled": true
   },
   "outputs": [
    {
     "name": "stdout",
     "output_type": "stream",
     "text": [
      "A B C\n"
     ]
    }
   ],
   "source": [
    "data, left, right = input().split()"
   ]
  },
  {
   "cell_type": "code",
   "execution_count": 5,
   "id": "11481ae8",
   "metadata": {
    "scrolled": true
   },
   "outputs": [],
   "source": [
    "tree[data] = [left, right]"
   ]
  },
  {
   "cell_type": "code",
   "execution_count": 8,
   "id": "e9528958",
   "metadata": {},
   "outputs": [
    {
     "data": {
      "text/plain": [
       "{'A': ['B', 'C']}"
      ]
     },
     "execution_count": 8,
     "metadata": {},
     "output_type": "execute_result"
    }
   ],
   "source": [
    "tree"
   ]
  },
  {
   "cell_type": "code",
   "execution_count": null,
   "id": "0f21791a",
   "metadata": {},
   "outputs": [],
   "source": []
  },
  {
   "cell_type": "code",
   "execution_count": 10,
   "id": "ae0df111",
   "metadata": {},
   "outputs": [
    {
     "data": {
      "text/plain": [
       "['B', 'C']"
      ]
     },
     "execution_count": 10,
     "metadata": {},
     "output_type": "execute_result"
    }
   ],
   "source": [
    "tree['A']"
   ]
  },
  {
   "cell_type": "code",
   "execution_count": 11,
   "id": "a8092d03",
   "metadata": {},
   "outputs": [],
   "source": [
    "#전위 순회\n",
    "#중위 순회\n",
    "#후위 순회"
   ]
  },
  {
   "cell_type": "code",
   "execution_count": 18,
   "id": "858489fe",
   "metadata": {},
   "outputs": [
    {
     "name": "stdout",
     "output_type": "stream",
     "text": [
      "Apreorder(tree[root][0]): \n",
      "Bpreorder(tree[root][0]): \n"
     ]
    },
    {
     "ename": "KeyError",
     "evalue": "'B'",
     "output_type": "error",
     "traceback": [
      "\u001b[0;31m---------------------------------------------------------------------------\u001b[0m",
      "\u001b[0;31mKeyError\u001b[0m                                  Traceback (most recent call last)",
      "Cell \u001b[0;32mIn [18], line 23\u001b[0m\n\u001b[1;32m     20\u001b[0m         postorder(tree[root][\u001b[38;5;241m1\u001b[39m])\n\u001b[1;32m     21\u001b[0m         \u001b[38;5;28mprint\u001b[39m(root, end \u001b[38;5;241m=\u001b[39m \u001b[38;5;124m'\u001b[39m\u001b[38;5;124m'\u001b[39m)\n\u001b[0;32m---> 23\u001b[0m preorder(\u001b[38;5;124m'\u001b[39m\u001b[38;5;124mA\u001b[39m\u001b[38;5;124m'\u001b[39m)\n\u001b[1;32m     24\u001b[0m \u001b[38;5;28mprint\u001b[39m()\n\u001b[1;32m     25\u001b[0m inorder(\u001b[38;5;124m'\u001b[39m\u001b[38;5;124mA\u001b[39m\u001b[38;5;124m'\u001b[39m)\n",
      "Cell \u001b[0;32mIn [18], line 5\u001b[0m, in \u001b[0;36mpreorder\u001b[0;34m(root)\u001b[0m\n\u001b[1;32m      3\u001b[0m \u001b[38;5;28mprint\u001b[39m(root, end\u001b[38;5;241m=\u001b[39m\u001b[38;5;124m'\u001b[39m\u001b[38;5;124m'\u001b[39m)\n\u001b[1;32m      4\u001b[0m \u001b[38;5;28mprint\u001b[39m(\u001b[38;5;124m'\u001b[39m\u001b[38;5;124mpreorder(tree[root][0]): \u001b[39m\u001b[38;5;124m'\u001b[39m,)\n\u001b[0;32m----> 5\u001b[0m \u001b[43mpreorder\u001b[49m\u001b[43m(\u001b[49m\u001b[43mtree\u001b[49m\u001b[43m[\u001b[49m\u001b[43mroot\u001b[49m\u001b[43m]\u001b[49m\u001b[43m[\u001b[49m\u001b[38;5;241;43m0\u001b[39;49m\u001b[43m]\u001b[49m\u001b[43m)\u001b[49m\n\u001b[1;32m      6\u001b[0m preorder(tree[root][\u001b[38;5;241m1\u001b[39m])\n",
      "Cell \u001b[0;32mIn [18], line 5\u001b[0m, in \u001b[0;36mpreorder\u001b[0;34m(root)\u001b[0m\n\u001b[1;32m      3\u001b[0m \u001b[38;5;28mprint\u001b[39m(root, end\u001b[38;5;241m=\u001b[39m\u001b[38;5;124m'\u001b[39m\u001b[38;5;124m'\u001b[39m)\n\u001b[1;32m      4\u001b[0m \u001b[38;5;28mprint\u001b[39m(\u001b[38;5;124m'\u001b[39m\u001b[38;5;124mpreorder(tree[root][0]): \u001b[39m\u001b[38;5;124m'\u001b[39m,)\n\u001b[0;32m----> 5\u001b[0m preorder(\u001b[43mtree\u001b[49m\u001b[43m[\u001b[49m\u001b[43mroot\u001b[49m\u001b[43m]\u001b[49m[\u001b[38;5;241m0\u001b[39m])\n\u001b[1;32m      6\u001b[0m preorder(tree[root][\u001b[38;5;241m1\u001b[39m])\n",
      "\u001b[0;31mKeyError\u001b[0m: 'B'"
     ]
    }
   ],
   "source": [
    "def preorder(root): # 전위 순회\n",
    "    if root != '.':\n",
    "        print(root, end='')\n",
    "        print('preorder(tree[root][0]): ',)\n",
    "        preorder(tree[root][0])\n",
    "        preorder(tree[root][1])\n",
    "\n",
    "def inorder(root): # 중위 순회\n",
    "    if root != '.':\n",
    "        print('inorder(tree[root][0]): ',)\n",
    "        inorder(tree[root][0])\n",
    "\n",
    "        print(root, end = '')\n",
    "        inorder(tree[root][1])\n",
    "\n",
    "def postorder(root): # 후위 순회\n",
    "    if root != '.':\n",
    "        print('postorder(tree[root][0]): ',)\n",
    "        postorder(tree[root][0])\n",
    "        postorder(tree[root][1])\n",
    "        print(root, end = '')\n",
    "        \n",
    "preorder('A')\n",
    "print()\n",
    "inorder('A')\n",
    "print()\n",
    "postorder('A')"
   ]
  },
  {
   "cell_type": "code",
   "execution_count": 17,
   "id": "7b7f96c3",
   "metadata": {
    "scrolled": false
   },
   "outputs": [
    {
     "name": "stdout",
     "output_type": "stream",
     "text": [
      "Apreorder(tree[root][0]): \n",
      "Bpreorder(tree[root][0]): \n"
     ]
    },
    {
     "ename": "KeyError",
     "evalue": "'B'",
     "output_type": "error",
     "traceback": [
      "\u001b[0;31m---------------------------------------------------------------------------\u001b[0m",
      "\u001b[0;31mKeyError\u001b[0m                                  Traceback (most recent call last)",
      "Cell \u001b[0;32mIn [17], line 1\u001b[0m\n\u001b[0;32m----> 1\u001b[0m preorder(\u001b[38;5;124m'\u001b[39m\u001b[38;5;124mA\u001b[39m\u001b[38;5;124m'\u001b[39m)\n",
      "Cell \u001b[0;32mIn [13], line 5\u001b[0m, in \u001b[0;36mpreorder\u001b[0;34m(root)\u001b[0m\n\u001b[1;32m      3\u001b[0m \u001b[38;5;28mprint\u001b[39m(root, end\u001b[38;5;241m=\u001b[39m\u001b[38;5;124m'\u001b[39m\u001b[38;5;124m'\u001b[39m)\n\u001b[1;32m      4\u001b[0m \u001b[38;5;28mprint\u001b[39m(\u001b[38;5;124m'\u001b[39m\u001b[38;5;124mpreorder(tree[root][0]): \u001b[39m\u001b[38;5;124m'\u001b[39m,)\n\u001b[0;32m----> 5\u001b[0m \u001b[43mpreorder\u001b[49m\u001b[43m(\u001b[49m\u001b[43mtree\u001b[49m\u001b[43m[\u001b[49m\u001b[43mroot\u001b[49m\u001b[43m]\u001b[49m\u001b[43m[\u001b[49m\u001b[38;5;241;43m0\u001b[39;49m\u001b[43m]\u001b[49m\u001b[43m)\u001b[49m\n\u001b[1;32m      6\u001b[0m preorder(tree[root][\u001b[38;5;241m1\u001b[39m])\n",
      "Cell \u001b[0;32mIn [13], line 5\u001b[0m, in \u001b[0;36mpreorder\u001b[0;34m(root)\u001b[0m\n\u001b[1;32m      3\u001b[0m \u001b[38;5;28mprint\u001b[39m(root, end\u001b[38;5;241m=\u001b[39m\u001b[38;5;124m'\u001b[39m\u001b[38;5;124m'\u001b[39m)\n\u001b[1;32m      4\u001b[0m \u001b[38;5;28mprint\u001b[39m(\u001b[38;5;124m'\u001b[39m\u001b[38;5;124mpreorder(tree[root][0]): \u001b[39m\u001b[38;5;124m'\u001b[39m,)\n\u001b[0;32m----> 5\u001b[0m preorder(\u001b[43mtree\u001b[49m\u001b[43m[\u001b[49m\u001b[43mroot\u001b[49m\u001b[43m]\u001b[49m[\u001b[38;5;241m0\u001b[39m])\n\u001b[1;32m      6\u001b[0m preorder(tree[root][\u001b[38;5;241m1\u001b[39m])\n",
      "\u001b[0;31mKeyError\u001b[0m: 'B'"
     ]
    }
   ],
   "source": [
    "preorder('A')\n"
   ]
  },
  {
   "cell_type": "code",
   "execution_count": 19,
   "id": "53474061",
   "metadata": {},
   "outputs": [],
   "source": [
    "#11725"
   ]
  },
  {
   "cell_type": "code",
   "execution_count": 20,
   "id": "c15cba61",
   "metadata": {},
   "outputs": [
    {
     "name": "stdout",
     "output_type": "stream",
     "text": [
      "7\n"
     ]
    }
   ],
   "source": [
    "n = int(input())"
   ]
  },
  {
   "cell_type": "code",
   "execution_count": 21,
   "id": "c58013e2",
   "metadata": {
    "scrolled": true
   },
   "outputs": [
    {
     "ename": "ValueError",
     "evalue": "invalid literal for int() with base 10: ''",
     "output_type": "error",
     "traceback": [
      "\u001b[0;31m---------------------------------------------------------------------------\u001b[0m",
      "\u001b[0;31mValueError\u001b[0m                                Traceback (most recent call last)",
      "Cell \u001b[0;32mIn [21], line 11\u001b[0m\n\u001b[1;32m      8\u001b[0m             parents[i] \u001b[38;5;241m=\u001b[39m start \u001b[38;5;66;03m#부모노드 저장\u001b[39;00m\n\u001b[1;32m      9\u001b[0m             dfs(i, tree, parents) \u001b[38;5;66;03m#해당 노드의 자식노드 탐색\u001b[39;00m\n\u001b[0;32m---> 11\u001b[0m n \u001b[38;5;241m=\u001b[39m \u001b[38;5;28mint\u001b[39m(\u001b[38;5;28minput\u001b[39m())\n\u001b[1;32m     12\u001b[0m tree \u001b[38;5;241m=\u001b[39m [[] \u001b[38;5;28;01mfor\u001b[39;00m _ \u001b[38;5;129;01min\u001b[39;00m \u001b[38;5;28mrange\u001b[39m(n\u001b[38;5;241m+\u001b[39m\u001b[38;5;241m1\u001b[39m)]\n\u001b[1;32m     13\u001b[0m \u001b[38;5;28;01mfor\u001b[39;00m _ \u001b[38;5;129;01min\u001b[39;00m \u001b[38;5;28mrange\u001b[39m(n\u001b[38;5;241m-\u001b[39m\u001b[38;5;241m1\u001b[39m):\n",
      "\u001b[0;31mValueError\u001b[0m: invalid literal for int() with base 10: ''"
     ]
    }
   ],
   "source": [
    "import sys\n",
    "sys.setrecursionlimit(10 ** 9)\n",
    "input = sys.stdin.readline\n",
    "\n",
    "def dfs(start, tree, parents):\n",
    "    for i in tree[start]: #연결된 노드 모두 탐색\n",
    "        if parents[i] == 0: #한번도 방문한 적이 없다면\n",
    "            parents[i] = start #부모노드 저장\n",
    "            dfs(i, tree, parents) #해당 노드의 자식노드 탐색\n",
    "\n",
    "n = int(input())\n",
    "tree = [[] for _ in range(n+1)]\n",
    "for _ in range(n-1):\n",
    "    a, b = map(int, input().split())\n",
    "    tree[a].append(b)\n",
    "    tree[b].append(a)\n",
    "\n",
    "#부모 저장 리스트\n",
    "parents = [0 for _ in range(n+1)]\n",
    "\n",
    "dfs(1, tree, parents)\n",
    "\n",
    "for i in range(2, n+1):\n",
    "    print(parents[i])"
   ]
  },
  {
   "cell_type": "code",
   "execution_count": null,
   "id": "392f869f",
   "metadata": {},
   "outputs": [],
   "source": []
  }
 ],
 "metadata": {
  "kernelspec": {
   "display_name": "Python 3 (ipykernel)",
   "language": "python",
   "name": "python3"
  },
  "language_info": {
   "codemirror_mode": {
    "name": "ipython",
    "version": 3
   },
   "file_extension": ".py",
   "mimetype": "text/x-python",
   "name": "python",
   "nbconvert_exporter": "python",
   "pygments_lexer": "ipython3",
   "version": "3.9.7"
  }
 },
 "nbformat": 4,
 "nbformat_minor": 5
}

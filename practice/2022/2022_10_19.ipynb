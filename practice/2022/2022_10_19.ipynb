{
 "cells": [
  {
   "cell_type": "code",
   "execution_count": 1,
   "id": "94653643",
   "metadata": {},
   "outputs": [],
   "source": [
    "#1330\n"
   ]
  },
  {
   "cell_type": "code",
   "execution_count": 6,
   "id": "c3be480b",
   "metadata": {},
   "outputs": [
    {
     "name": "stdout",
     "output_type": "stream",
     "text": [
      "5 5\n"
     ]
    }
   ],
   "source": [
    "a, b = list(map(int, input().split()))"
   ]
  },
  {
   "cell_type": "code",
   "execution_count": 7,
   "id": "82116556",
   "metadata": {},
   "outputs": [
    {
     "name": "stdout",
     "output_type": "stream",
     "text": [
      "==\n"
     ]
    }
   ],
   "source": [
    "if a > b :\n",
    "    print('>')\n",
    "elif a < b :\n",
    "    print('<')\n",
    "else:\n",
    "    print('==')"
   ]
  },
  {
   "cell_type": "code",
   "execution_count": 9,
   "id": "cbaa10c8",
   "metadata": {},
   "outputs": [],
   "source": [
    "def function():\n",
    "    a, b = list(map(int, input().split()))\n",
    "    if a > b :\n",
    "        print('>')\n",
    "    elif a < b :\n",
    "        print('<')\n",
    "    else:\n",
    "        print('==')"
   ]
  },
  {
   "cell_type": "code",
   "execution_count": 10,
   "id": "25ae0d8f",
   "metadata": {},
   "outputs": [
    {
     "name": "stdout",
     "output_type": "stream",
     "text": [
      "\n"
     ]
    },
    {
     "ename": "ValueError",
     "evalue": "not enough values to unpack (expected 2, got 0)",
     "output_type": "error",
     "traceback": [
      "\u001b[0;31m---------------------------------------------------------------------------\u001b[0m",
      "\u001b[0;31mValueError\u001b[0m                                Traceback (most recent call last)",
      "Cell \u001b[0;32mIn [10], line 1\u001b[0m\n\u001b[0;32m----> 1\u001b[0m function()\n",
      "Cell \u001b[0;32mIn [9], line 2\u001b[0m, in \u001b[0;36mfunction\u001b[0;34m()\u001b[0m\n\u001b[1;32m      1\u001b[0m \u001b[38;5;28;01mdef\u001b[39;00m \u001b[38;5;21mfunction\u001b[39m():\n\u001b[0;32m----> 2\u001b[0m     a, b \u001b[38;5;241m=\u001b[39m \u001b[38;5;28mlist\u001b[39m(\u001b[38;5;28mmap\u001b[39m(\u001b[38;5;28mint\u001b[39m, \u001b[38;5;28minput\u001b[39m()\u001b[38;5;241m.\u001b[39msplit()))\n\u001b[1;32m      3\u001b[0m     \u001b[38;5;28;01mif\u001b[39;00m a \u001b[38;5;241m>\u001b[39m b :\n\u001b[1;32m      4\u001b[0m         \u001b[38;5;28mprint\u001b[39m(\u001b[38;5;124m'\u001b[39m\u001b[38;5;124m>\u001b[39m\u001b[38;5;124m'\u001b[39m)\n",
      "\u001b[0;31mValueError\u001b[0m: not enough values to unpack (expected 2, got 0)"
     ]
    }
   ],
   "source": [
    "function()"
   ]
  },
  {
   "cell_type": "code",
   "execution_count": null,
   "id": "4a6e5a4a",
   "metadata": {},
   "outputs": [],
   "source": []
  }
 ],
 "metadata": {
  "kernelspec": {
   "display_name": "Python 3 (ipykernel)",
   "language": "python",
   "name": "python3"
  },
  "language_info": {
   "codemirror_mode": {
    "name": "ipython",
    "version": 3
   },
   "file_extension": ".py",
   "mimetype": "text/x-python",
   "name": "python",
   "nbconvert_exporter": "python",
   "pygments_lexer": "ipython3",
   "version": "3.9.7"
  }
 },
 "nbformat": 4,
 "nbformat_minor": 5
}

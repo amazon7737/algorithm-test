{
 "cells": [
  {
   "cell_type": "code",
   "execution_count": 1,
   "id": "d8bb4e6e",
   "metadata": {},
   "outputs": [],
   "source": [
    "#10819\n"
   ]
  },
  {
   "cell_type": "code",
   "execution_count": 2,
   "id": "4e379eb0",
   "metadata": {},
   "outputs": [
    {
     "ename": "ValueError",
     "evalue": "invalid literal for int() with base 10: ''",
     "output_type": "error",
     "traceback": [
      "\u001b[0;31m---------------------------------------------------------------------------\u001b[0m",
      "\u001b[0;31mValueError\u001b[0m                                Traceback (most recent call last)",
      "Cell \u001b[0;32mIn [2], line 5\u001b[0m\n\u001b[1;32m      2\u001b[0m \u001b[38;5;28;01mfrom\u001b[39;00m \u001b[38;5;21;01mitertools\u001b[39;00m \u001b[38;5;28;01mimport\u001b[39;00m permutations\n\u001b[1;32m      4\u001b[0m \u001b[38;5;28minput\u001b[39m \u001b[38;5;241m=\u001b[39m sys\u001b[38;5;241m.\u001b[39mstdin\u001b[38;5;241m.\u001b[39mreadline\n\u001b[0;32m----> 5\u001b[0m N \u001b[38;5;241m=\u001b[39m \u001b[38;5;28mint\u001b[39m(\u001b[38;5;28minput\u001b[39m())\n\u001b[1;32m      6\u001b[0m A \u001b[38;5;241m=\u001b[39m \u001b[38;5;28mlist\u001b[39m(\u001b[38;5;28mmap\u001b[39m(\u001b[38;5;28mint\u001b[39m, \u001b[38;5;28minput\u001b[39m()\u001b[38;5;241m.\u001b[39msplit()))\n\u001b[1;32m      8\u001b[0m cases \u001b[38;5;241m=\u001b[39m \u001b[38;5;28mlist\u001b[39m(permutations(A))\n",
      "\u001b[0;31mValueError\u001b[0m: invalid literal for int() with base 10: ''"
     ]
    }
   ],
   "source": [
    "import sys\n",
    "from itertools import permutations\n",
    "\n",
    "input = sys.stdin.readline\n",
    "N = int(input())\n",
    "A = list(map(int, input().split()))\n",
    "\n",
    "cases = list(permutations(A))\n",
    "\n",
    "answer = 0\n",
    "for case in cases:\n",
    "    mid_sum = 0\n",
    "    for i in range(N - 1):\n",
    "        mid_sum += abs(case[i] - case[i + 1])\n",
    "    answer = max(mid_sum, answer)\n",
    "\n",
    "print(answer)\n"
   ]
  },
  {
   "cell_type": "code",
   "execution_count": 3,
   "id": "26fb58e1",
   "metadata": {},
   "outputs": [
    {
     "ename": "ValueError",
     "evalue": "invalid literal for int() with base 10: ''",
     "output_type": "error",
     "traceback": [
      "\u001b[0;31m---------------------------------------------------------------------------\u001b[0m",
      "\u001b[0;31mValueError\u001b[0m                                Traceback (most recent call last)",
      "Cell \u001b[0;32mIn [3], line 17\u001b[0m\n\u001b[1;32m     14\u001b[0m         explore\u001b[38;5;241m.\u001b[39mpop()\n\u001b[1;32m     16\u001b[0m \u001b[38;5;28minput\u001b[39m \u001b[38;5;241m=\u001b[39m sys\u001b[38;5;241m.\u001b[39mstdin\u001b[38;5;241m.\u001b[39mreadline\n\u001b[0;32m---> 17\u001b[0m N \u001b[38;5;241m=\u001b[39m \u001b[38;5;28mint\u001b[39m(\u001b[38;5;28minput\u001b[39m())\n\u001b[1;32m     18\u001b[0m A \u001b[38;5;241m=\u001b[39m \u001b[38;5;28mlist\u001b[39m(\u001b[38;5;28mmap\u001b[39m(\u001b[38;5;28mint\u001b[39m, \u001b[38;5;28minput\u001b[39m()\u001b[38;5;241m.\u001b[39msplit()))\n\u001b[1;32m     20\u001b[0m visited \u001b[38;5;241m=\u001b[39m [\u001b[38;5;241m0\u001b[39m] \u001b[38;5;241m*\u001b[39m N\n",
      "\u001b[0;31mValueError\u001b[0m: invalid literal for int() with base 10: ''"
     ]
    }
   ],
   "source": [
    "import sys\n",
    "\n",
    "def dfs(depth):\n",
    "    if depth == N:\n",
    "        result.append(sum(abs(explore[i] - explore[i + 1]) for i in range(N - 1)))\n",
    "        return\n",
    "    for i in range(N):\n",
    "        if visited[i]:\n",
    "            continue\n",
    "        explore.append(A[i])\n",
    "        visited[i] = 1\n",
    "        dfs(depth + 1)\n",
    "        visited[i] = 0\n",
    "        explore.pop()\n",
    "\n",
    "input = sys.stdin.readline\n",
    "N = int(input())\n",
    "A = list(map(int, input().split()))\n",
    "\n",
    "visited = [0] * N\n",
    "result, explore = [], []\n",
    "dfs(0)\n",
    "print(max(result))"
   ]
  },
  {
   "cell_type": "code",
   "execution_count": 4,
   "id": "7ad04037",
   "metadata": {},
   "outputs": [],
   "source": [
    "#10971"
   ]
  },
  {
   "cell_type": "code",
   "execution_count": 6,
   "id": "8eaed7ed",
   "metadata": {},
   "outputs": [
    {
     "ename": "ValueError",
     "evalue": "invalid literal for int() with base 10: ''",
     "output_type": "error",
     "traceback": [
      "\u001b[0;31m---------------------------------------------------------------------------\u001b[0m",
      "\u001b[0;31mValueError\u001b[0m                                Traceback (most recent call last)",
      "Cell \u001b[0;32mIn [6], line 1\u001b[0m\n\u001b[0;32m----> 1\u001b[0m n \u001b[38;5;241m=\u001b[39m \u001b[38;5;28mint\u001b[39m(\u001b[38;5;28minput\u001b[39m())\n\u001b[1;32m      2\u001b[0m maps \u001b[38;5;241m=\u001b[39m []\n\u001b[1;32m      3\u001b[0m \u001b[38;5;28;01mfor\u001b[39;00m _ \u001b[38;5;129;01min\u001b[39;00m \u001b[38;5;28mrange\u001b[39m(n):\n",
      "\u001b[0;31mValueError\u001b[0m: invalid literal for int() with base 10: ''"
     ]
    }
   ],
   "source": [
    "n = int(input())\n",
    "maps = []\n",
    "for _ in range(n):\n",
    "    maps.append(list(map(int, input().split())))\n",
    "visited = [0] * n\n",
    "res = 123456789\n",
    "\n",
    "add = 0\n",
    "\n",
    "def DFS(f, add, visited):\n",
    "    global res\n",
    "    if add > res:\n",
    "            return\n",
    "    if sum(visited) == N-1:\n",
    "        if maps[f][0]:\n",
    "            res = min(res, add + maps[f][0])\n",
    "        return\n",
    "    for i in range(1, N):\n",
    "        if maps[f][i] and visited[i] == 0:\n",
    "            visited[i] = 1\n",
    "            DFS(i, add + maps[f][i], visited)\n",
    "            visited[i] = 0\n",
    "for i in range(1, n):\n",
    "    if maps[0][i]:\n",
    "        visited[i] = 1\n",
    "        DFS(i, maps[0][i], visited)\n",
    "        visited[i] = 0\n",
    "print(res)\n"
   ]
  },
  {
   "cell_type": "code",
   "execution_count": 7,
   "id": "7152c80a",
   "metadata": {},
   "outputs": [],
   "source": [
    "#1697\n"
   ]
  },
  {
   "cell_type": "code",
   "execution_count": 9,
   "id": "2a7d023a",
   "metadata": {},
   "outputs": [
    {
     "ename": "SyntaxError",
     "evalue": "closing parenthesis ')' does not match opening parenthesis '[' (976973569.py, line 11)",
     "output_type": "error",
     "traceback": [
      "\u001b[0;36m  Cell \u001b[0;32mIn [9], line 11\u001b[0;36m\u001b[0m\n\u001b[0;31m    print(dist[x)\u001b[0m\n\u001b[0m                ^\u001b[0m\n\u001b[0;31mSyntaxError\u001b[0m\u001b[0;31m:\u001b[0m closing parenthesis ')' does not match opening parenthesis '['\n"
     ]
    }
   ],
   "source": [
    "import sys\n",
    "from collections import deque\n",
    "input = sys.stdin.readline\n",
    "\n",
    "def bfs():\n",
    "        q = deque()\n",
    "        q.append(n)\n",
    "        while q:\n",
    "            x = q.popleft()\n",
    "            if x == k:\n",
    "                print(dist[x)\n",
    "                break\n",
    "            for j in (x-1 x+1, x*2):\n",
    "                if 0<= j <= MAX and not dist[j]:\n",
    "                    dist[j] = dist[x] + 1\n",
    "                    q.append(j)\n",
    "                           \n",
    "MAX = 100000\n",
    "n, k = map(int, input().split())\n",
    "dist = [0] * (MAX + 1)\n",
    "bfs()\n",
    "                           \n",
    "                           "
   ]
  },
  {
   "cell_type": "code",
   "execution_count": null,
   "id": "f2c64843",
   "metadata": {},
   "outputs": [],
   "source": []
  }
 ],
 "metadata": {
  "kernelspec": {
   "display_name": "Python 3 (ipykernel)",
   "language": "python",
   "name": "python3"
  },
  "language_info": {
   "codemirror_mode": {
    "name": "ipython",
    "version": 3
   },
   "file_extension": ".py",
   "mimetype": "text/x-python",
   "name": "python",
   "nbconvert_exporter": "python",
   "pygments_lexer": "ipython3",
   "version": "3.9.7"
  }
 },
 "nbformat": 4,
 "nbformat_minor": 5
}

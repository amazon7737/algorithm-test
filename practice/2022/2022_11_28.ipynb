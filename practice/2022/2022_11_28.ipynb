{
 "cells": [
  {
   "cell_type": "code",
   "execution_count": 1,
   "id": "220c8a78",
   "metadata": {},
   "outputs": [],
   "source": [
    "#11728\n"
   ]
  },
  {
   "cell_type": "code",
   "execution_count": 3,
   "id": "e9f35be8",
   "metadata": {},
   "outputs": [],
   "source": [
    "def function():\n",
    "    n, m = map(int, input().split())\n",
    "    A = list(map(int, input().split()))\n",
    "    B = list(map(int, input().split()))\n",
    "    \n",
    "    ans = []\n",
    "    \n",
    "    a = 0\n",
    "    b = 0\n",
    "    \n",
    "    while a!= len(A) or b!=len(B):\n",
    "        if a == len(A):\n",
    "            ans.append(B[b])\n",
    "            b += 1\n",
    "        elif b == len(B):\n",
    "            ans.append(A[a])\n",
    "            a += 1\n",
    "        else:\n",
    "            if A[a] < B[b]:\n",
    "                ans.append(A[a])\n",
    "                a+= 1\n",
    "            else:\n",
    "                ans.append(B[b])\n",
    "                b+=1\n",
    "                \n",
    "    print(*ans) # * 배열의 틀을 없애고 출력해준다."
   ]
  },
  {
   "cell_type": "code",
   "execution_count": null,
   "id": "d796d5ee",
   "metadata": {},
   "outputs": [],
   "source": []
  }
 ],
 "metadata": {
  "kernelspec": {
   "display_name": "Python 3 (ipykernel)",
   "language": "python",
   "name": "python3"
  },
  "language_info": {
   "codemirror_mode": {
    "name": "ipython",
    "version": 3
   },
   "file_extension": ".py",
   "mimetype": "text/x-python",
   "name": "python",
   "nbconvert_exporter": "python",
   "pygments_lexer": "ipython3",
   "version": "3.9.7"
  }
 },
 "nbformat": 4,
 "nbformat_minor": 5
}

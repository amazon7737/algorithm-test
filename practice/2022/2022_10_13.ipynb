{
 "cells": [
  {
   "cell_type": "code",
   "execution_count": 4,
   "id": "c170df60",
   "metadata": {},
   "outputs": [],
   "source": [
    "#10998"
   ]
  },
  {
   "cell_type": "code",
   "execution_count": 5,
   "id": "fc74a043",
   "metadata": {},
   "outputs": [
    {
     "name": "stdout",
     "output_type": "stream",
     "text": [
      "1 2\n"
     ]
    }
   ],
   "source": [
    "a, b = list(map(int, input().split()))"
   ]
  },
  {
   "cell_type": "code",
   "execution_count": 6,
   "id": "a5b7d0ec",
   "metadata": {},
   "outputs": [
    {
     "name": "stdout",
     "output_type": "stream",
     "text": [
      "2\n"
     ]
    }
   ],
   "source": [
    "print(a*b)"
   ]
  },
  {
   "cell_type": "code",
   "execution_count": 7,
   "id": "1b34fbb0",
   "metadata": {},
   "outputs": [],
   "source": [
    "def function():\n",
    "    a, b = list(map(int, input().split()))\n",
    "    print(a*b)"
   ]
  },
  {
   "cell_type": "code",
   "execution_count": null,
   "id": "ebf969fe",
   "metadata": {},
   "outputs": [],
   "source": []
  }
 ],
 "metadata": {
  "kernelspec": {
   "display_name": "Python 3 (ipykernel)",
   "language": "python",
   "name": "python3"
  },
  "language_info": {
   "codemirror_mode": {
    "name": "ipython",
    "version": 3
   },
   "file_extension": ".py",
   "mimetype": "text/x-python",
   "name": "python",
   "nbconvert_exporter": "python",
   "pygments_lexer": "ipython3",
   "version": "3.9.7"
  }
 },
 "nbformat": 4,
 "nbformat_minor": 5
}

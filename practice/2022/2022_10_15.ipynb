{
 "cells": [
  {
   "cell_type": "code",
   "execution_count": 1,
   "id": "ff09fbbd",
   "metadata": {},
   "outputs": [],
   "source": [
    "#10926"
   ]
  },
  {
   "cell_type": "code",
   "execution_count": 2,
   "id": "07ad6463",
   "metadata": {},
   "outputs": [
    {
     "name": "stdout",
     "output_type": "stream",
     "text": [
      "joonas\n"
     ]
    }
   ],
   "source": [
    "s = str(input())"
   ]
  },
  {
   "cell_type": "code",
   "execution_count": 3,
   "id": "7713397d",
   "metadata": {},
   "outputs": [],
   "source": [
    "w = \"??!\""
   ]
  },
  {
   "cell_type": "code",
   "execution_count": 4,
   "id": "311e394b",
   "metadata": {},
   "outputs": [
    {
     "name": "stdout",
     "output_type": "stream",
     "text": [
      "joonas??!\n"
     ]
    }
   ],
   "source": [
    "print(s+w)"
   ]
  },
  {
   "cell_type": "code",
   "execution_count": null,
   "id": "b93aeaaf",
   "metadata": {},
   "outputs": [],
   "source": []
  }
 ],
 "metadata": {
  "kernelspec": {
   "display_name": "Python 3 (ipykernel)",
   "language": "python",
   "name": "python3"
  },
  "language_info": {
   "codemirror_mode": {
    "name": "ipython",
    "version": 3
   },
   "file_extension": ".py",
   "mimetype": "text/x-python",
   "name": "python",
   "nbconvert_exporter": "python",
   "pygments_lexer": "ipython3",
   "version": "3.9.7"
  }
 },
 "nbformat": 4,
 "nbformat_minor": 5
}

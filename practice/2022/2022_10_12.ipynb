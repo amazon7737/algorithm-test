{
 "cells": [
  {
   "cell_type": "code",
   "execution_count": null,
   "id": "aa848b56",
   "metadata": {},
   "outputs": [],
   "source": [
    "# 시험기간이라 굉장히 쉬운 문제로 빨리 하나만 풀었다"
   ]
  },
  {
   "cell_type": "code",
   "execution_count": 4,
   "id": "ab9c19a8",
   "metadata": {},
   "outputs": [
    {
     "name": "stdout",
     "output_type": "stream",
     "text": [
      "3 2\n",
      "1\n"
     ]
    }
   ],
   "source": [
    "\n",
    "def function():\n",
    "    \n",
    "    a, b = list(map(int, input().split()))\n",
    "\n",
    "    print(a-b)\n",
    "    \n",
    "function()    "
   ]
  },
  {
   "cell_type": "code",
   "execution_count": null,
   "id": "3e25fce4",
   "metadata": {},
   "outputs": [],
   "source": []
  }
 ],
 "metadata": {
  "kernelspec": {
   "display_name": "Python 3 (ipykernel)",
   "language": "python",
   "name": "python3"
  },
  "language_info": {
   "codemirror_mode": {
    "name": "ipython",
    "version": 3
   },
   "file_extension": ".py",
   "mimetype": "text/x-python",
   "name": "python",
   "nbconvert_exporter": "python",
   "pygments_lexer": "ipython3",
   "version": "3.9.7"
  }
 },
 "nbformat": 4,
 "nbformat_minor": 5
}

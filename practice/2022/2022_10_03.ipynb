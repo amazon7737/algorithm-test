{
 "cells": [
  {
   "cell_type": "code",
   "execution_count": 1,
   "id": "e7bee23f",
   "metadata": {},
   "outputs": [],
   "source": [
    "# dp -> 점화식\n",
    "\n",
    "\n",
    "\n",
    "# 작은 문제부터 생각해보기\n",
    "\n",
    "# 카드를 한개 사는법부터\n",
    "\n",
    "# dp[i] = 카드 i개 구매하는 최대 가격, p[k] = k개가 들어있는 카드팩 가격 이라고 했을때\n",
    "\n",
    "# 카드를 i개 구매하는 최대 비용은 다음과 같다.\n",
    "\n",
    "# p[1] + dp[i-1]\n",
    "\n",
    "# !!! 묻는 것을 집중해야한다. 묻는것이뭔가? -> 카드 N개를 갖기 위해 지불해야 하는 금액의\n",
    "# 최댓값"
   ]
  },
  {
   "cell_type": "code",
   "execution_count": 2,
   "id": "79da8142",
   "metadata": {},
   "outputs": [
    {
     "name": "stdout",
     "output_type": "stream",
     "text": [
      "4\n"
     ]
    }
   ],
   "source": [
    "n = int(input())"
   ]
  },
  {
   "cell_type": "code",
   "execution_count": 8,
   "id": "f96bf42e",
   "metadata": {},
   "outputs": [
    {
     "name": "stdout",
     "output_type": "stream",
     "text": [
      "1 5 6 7\n"
     ]
    }
   ],
   "source": [
    "p =list(map(int, input().split()))"
   ]
  },
  {
   "cell_type": "code",
   "execution_count": 3,
   "id": "5eea867e",
   "metadata": {},
   "outputs": [],
   "source": [
    "dp = [0] *n"
   ]
  },
  {
   "cell_type": "code",
   "execution_count": 4,
   "id": "97190d37",
   "metadata": {},
   "outputs": [],
   "source": [
    "p = [0] * n"
   ]
  },
  {
   "cell_type": "code",
   "execution_count": 9,
   "id": "807b3b68",
   "metadata": {},
   "outputs": [
    {
     "name": "stdout",
     "output_type": "stream",
     "text": [
      "i:  1\n",
      "j:  0\n",
      "i:  2\n",
      "j:  0\n",
      "j:  1\n",
      "i:  3\n",
      "j:  0\n",
      "j:  1\n",
      "j:  2\n",
      "i:  4\n",
      "j:  0\n",
      "j:  1\n",
      "j:  2\n",
      "j:  3\n"
     ]
    }
   ],
   "source": [
    "for i in range(1, n+1):\n",
    "    print(\"i: \", i)\n",
    "    for j in range(i):\n",
    "        dp[i] =\n",
    "        print(\"j: \", j)"
   ]
  },
  {
   "cell_type": "code",
   "execution_count": 10,
   "id": "c95fd03f",
   "metadata": {},
   "outputs": [],
   "source": [
    "# 2751\n",
    "\n"
   ]
  },
  {
   "cell_type": "code",
   "execution_count": 11,
   "id": "d5a4835e",
   "metadata": {},
   "outputs": [
    {
     "name": "stdout",
     "output_type": "stream",
     "text": [
      "5\n"
     ]
    }
   ],
   "source": [
    "N = int(input())"
   ]
  },
  {
   "cell_type": "code",
   "execution_count": 15,
   "id": "b904f56c",
   "metadata": {},
   "outputs": [],
   "source": [
    "b = []*N"
   ]
  },
  {
   "cell_type": "code",
   "execution_count": 16,
   "id": "73276d83",
   "metadata": {},
   "outputs": [
    {
     "name": "stdout",
     "output_type": "stream",
     "text": [
      "5\n",
      "4\n",
      "3\n",
      "2\n",
      "1\n"
     ]
    }
   ],
   "source": [
    "for i in range(N):\n",
    "    b.append(int(input()))"
   ]
  },
  {
   "cell_type": "code",
   "execution_count": 18,
   "id": "ea68604c",
   "metadata": {},
   "outputs": [],
   "source": [
    "b.sort()"
   ]
  },
  {
   "cell_type": "code",
   "execution_count": 19,
   "id": "4aa4779d",
   "metadata": {},
   "outputs": [
    {
     "data": {
      "text/plain": [
       "[1, 2, 3, 4, 5]"
      ]
     },
     "execution_count": 19,
     "metadata": {},
     "output_type": "execute_result"
    }
   ],
   "source": [
    "b"
   ]
  },
  {
   "cell_type": "code",
   "execution_count": 20,
   "id": "b60b714e",
   "metadata": {},
   "outputs": [
    {
     "name": "stdout",
     "output_type": "stream",
     "text": [
      "1\n",
      "2\n",
      "3\n",
      "4\n",
      "5\n"
     ]
    }
   ],
   "source": [
    "for i in range(N):\n",
    "    print(b[i])"
   ]
  },
  {
   "cell_type": "code",
   "execution_count": 21,
   "id": "bd7561c1",
   "metadata": {},
   "outputs": [],
   "source": [
    "#11650"
   ]
  },
  {
   "cell_type": "code",
   "execution_count": 22,
   "id": "635a349b",
   "metadata": {},
   "outputs": [
    {
     "name": "stdout",
     "output_type": "stream",
     "text": [
      "5\n"
     ]
    }
   ],
   "source": [
    "N = int(input())"
   ]
  },
  {
   "cell_type": "code",
   "execution_count": 23,
   "id": "a427cb11",
   "metadata": {},
   "outputs": [],
   "source": [
    "s = [[0]*N]"
   ]
  },
  {
   "cell_type": "code",
   "execution_count": 24,
   "id": "a9d9a413",
   "metadata": {},
   "outputs": [
    {
     "data": {
      "text/plain": [
       "[[0, 0, 0, 0, 0]]"
      ]
     },
     "execution_count": 24,
     "metadata": {},
     "output_type": "execute_result"
    }
   ],
   "source": [
    "s"
   ]
  },
  {
   "cell_type": "code",
   "execution_count": null,
   "id": "651021ab",
   "metadata": {},
   "outputs": [],
   "source": []
  }
 ],
 "metadata": {
  "kernelspec": {
   "display_name": "Python 3 (ipykernel)",
   "language": "python",
   "name": "python3"
  },
  "language_info": {
   "codemirror_mode": {
    "name": "ipython",
    "version": 3
   },
   "file_extension": ".py",
   "mimetype": "text/x-python",
   "name": "python",
   "nbconvert_exporter": "python",
   "pygments_lexer": "ipython3",
   "version": "3.9.7"
  }
 },
 "nbformat": 4,
 "nbformat_minor": 5
}

{
 "cells": [
  {
   "cell_type": "code",
   "execution_count": 1,
   "id": "c4a01361",
   "metadata": {},
   "outputs": [],
   "source": [
    "# 11052"
   ]
  },
  {
   "cell_type": "code",
   "execution_count": 8,
   "id": "b9f981a9",
   "metadata": {},
   "outputs": [
    {
     "data": {
      "text/plain": [
       "'\\n전설카드\\n레드카드\\n오렌지카드\\n퍼플카드\\n블루카드\\n청록카드\\n그린카드\\n그레이카드\\n\\n카드팩으로만 구매가능 -> 카드 1개 포함된 카드팩, 카드 2개 포함된 카드팩, 카드 N개가 포함된 카드팩\\n총 N가지\\n\\n최대한 돈 많이 지불 -> 카드 N개 구매 , 카드가 i개 포함된 카드팩 가격 P_i원\\n\\nP_1 = 1\\nP_2 = 5\\nP_3 = 6\\nP_4 = 7\\n\\n카드 4개를 갖기위해 지불해야하는 금액의 최댓값 10원 -> 2개가 들어있는 카드 팩 2번 구매\\n\\nP_1 = 5\\nP_2 = 2\\nP_3 = 8\\nP_4 = 10\\n\\n카드 1개 카드팩 4번 사면 20원 ( 금액의 최댓값)\\n\\n\\nP_1 = 3\\nP_2 = 5\\nP_3 = 15\\nP_4 = 16\\n\\n3개 들어있는 카드팩 + 1개 들어있는 카드팩 구매 -> 18원 최댓값\\n\\n1. 민규가 구매하려고 하는 카드의 개수 N\\n\\n2. P_i 가 P_1 부터 P_N 까지 순서대로 주어짐\\n\\noutput : 민규가 카드 N개를 갖기 위해 지불해야 하는 금액의 최댓값\\n\\n'"
      ]
     },
     "execution_count": 8,
     "metadata": {},
     "output_type": "execute_result"
    }
   ],
   "source": [
    "'''\n",
    "전설카드\n",
    "레드카드\n",
    "오렌지카드\n",
    "퍼플카드\n",
    "블루카드\n",
    "청록카드\n",
    "그린카드\n",
    "그레이카드\n",
    "\n",
    "카드팩으로만 구매가능 -> 카드 1개 포함된 카드팩, 카드 2개 포함된 카드팩, 카드 N개가 포함된 카드팩\n",
    "총 N가지\n",
    "\n",
    "최대한 돈 많이 지불 -> 카드 N개 구매 , 카드가 i개 포함된 카드팩 가격 P_i원\n",
    "\n",
    "P_1 = 1\n",
    "P_2 = 5\n",
    "P_3 = 6\n",
    "P_4 = 7\n",
    "\n",
    "카드 4개를 갖기위해 지불해야하는 금액의 최댓값 10원 -> 2개가 들어있는 카드 팩 2번 구매\n",
    "\n",
    "P_1 = 5\n",
    "P_2 = 2\n",
    "P_3 = 8\n",
    "P_4 = 10\n",
    "\n",
    "카드 1개 카드팩 4번 사면 20원 ( 금액의 최댓값)\n",
    "\n",
    "\n",
    "P_1 = 3\n",
    "P_2 = 5\n",
    "P_3 = 15\n",
    "P_4 = 16\n",
    "\n",
    "3개 들어있는 카드팩 + 1개 들어있는 카드팩 구매 -> 18원 최댓값\n",
    "\n",
    "1. 민규가 구매하려고 하는 카드의 개수 N\n",
    "\n",
    "2. P_i 가 P_1 부터 P_N 까지 순서대로 주어짐\n",
    "\n",
    "output : 민규가 카드 N개를 갖기 위해 지불해야 하는 금액의 최댓값\n",
    "\n",
    "'''"
   ]
  },
  {
   "cell_type": "code",
   "execution_count": 3,
   "id": "192cd955",
   "metadata": {},
   "outputs": [],
   "source": [
    "# N = 1\n",
    "# 1개를 구매하려고한다\n",
    "\n",
    "# 1 5 6 7\n",
    "\n",
    "\n"
   ]
  },
  {
   "cell_type": "code",
   "execution_count": 32,
   "id": "e05a169b",
   "metadata": {},
   "outputs": [
    {
     "name": "stdout",
     "output_type": "stream",
     "text": [
      "2\n"
     ]
    }
   ],
   "source": [
    "N = int(input())"
   ]
  },
  {
   "cell_type": "code",
   "execution_count": 33,
   "id": "e7c5d07d",
   "metadata": {},
   "outputs": [
    {
     "name": "stdout",
     "output_type": "stream",
     "text": [
      "1 5 6 7\n"
     ]
    }
   ],
   "source": [
    "P = list(map(int, input().split()))"
   ]
  },
  {
   "cell_type": "code",
   "execution_count": 9,
   "id": "8b68f879",
   "metadata": {},
   "outputs": [],
   "source": [
    "# 민규가 카드 N개를 갖기 위해 지불해야하는 금액의 최댓값"
   ]
  },
  {
   "cell_type": "code",
   "execution_count": 10,
   "id": "b42589d6",
   "metadata": {},
   "outputs": [],
   "source": [
    "# <배열 index 마다 카드의 개수 구매임>\n",
    "#"
   ]
  },
  {
   "cell_type": "code",
   "execution_count": 37,
   "id": "88a4b64e",
   "metadata": {},
   "outputs": [
    {
     "data": {
      "text/plain": [
       "[1, 5, 6, 7]"
      ]
     },
     "execution_count": 37,
     "metadata": {},
     "output_type": "execute_result"
    }
   ],
   "source": [
    "P"
   ]
  },
  {
   "cell_type": "code",
   "execution_count": 36,
   "id": "d653a2f9",
   "metadata": {},
   "outputs": [],
   "source": [
    "price = []"
   ]
  },
  {
   "cell_type": "code",
   "execution_count": 28,
   "id": "0d969d3b",
   "metadata": {},
   "outputs": [],
   "source": [
    "\n",
    "#for i in range(len(P)):\n",
    " #   price.append(P.index(P[i]))\n",
    "    \n",
    "    "
   ]
  },
  {
   "cell_type": "code",
   "execution_count": 29,
   "id": "668cf68a",
   "metadata": {},
   "outputs": [
    {
     "data": {
      "text/plain": [
       "[0, 1, 2, 3]"
      ]
     },
     "execution_count": 29,
     "metadata": {},
     "output_type": "execute_result"
    }
   ],
   "source": [
    "price"
   ]
  },
  {
   "cell_type": "code",
   "execution_count": 30,
   "id": "79986703",
   "metadata": {},
   "outputs": [],
   "source": [
    "# *구매하려고 하는 카드의 개수가 1이면\n",
    "\n",
    "# # if P_1 == N:\n",
    "#        print(P_1)\n",
    "\n",
    "# *구매하려고 하는 카드의 개수가 2이면\n",
    "\n",
    "# N = 2\n",
    "\n",
    "# 1 5 6 7\n",
    "# N // index+1\n",
    "# price.append(P[0] * (N// index+1))\n",
    "\n",
    "# price.append(P[1] * (N // index+1))\n",
    "\n",
    "# price.append(P[2] * (N // index+1))\n",
    "# if (P[2] * (N // index+1)) % N != 0:\n",
    "#    price.append(0)\n",
    "# price.append(P[3] * (N // index+1))\n",
    "\n",
    "# print(max(price))"
   ]
  },
  {
   "cell_type": "code",
   "execution_count": 62,
   "id": "9eec5ea8",
   "metadata": {},
   "outputs": [],
   "source": [
    "def function():\n",
    "    \n",
    "    if P[0] == N:\n",
    "        print(P[0])\n",
    "    for i in range(len(P)):\n",
    "        price.append(P[i] * (N // i+1))\n",
    "        if ((P[i] * (N // i+1) % N )) != 0:\n",
    "            price.append(0)\n",
    "        \n",
    "    print(max(price))"
   ]
  },
  {
   "cell_type": "code",
   "execution_count": 63,
   "id": "8f44d01c",
   "metadata": {},
   "outputs": [
    {
     "ename": "ZeroDivisionError",
     "evalue": "integer division or modulo by zero",
     "output_type": "error",
     "traceback": [
      "\u001b[0;31m---------------------------------------------------------------------------\u001b[0m",
      "\u001b[0;31mZeroDivisionError\u001b[0m                         Traceback (most recent call last)",
      "Cell \u001b[0;32mIn [63], line 1\u001b[0m\n\u001b[0;32m----> 1\u001b[0m \u001b[43mfunction\u001b[49m\u001b[43m(\u001b[49m\u001b[43m)\u001b[49m\n",
      "Cell \u001b[0;32mIn [62], line 6\u001b[0m, in \u001b[0;36mfunction\u001b[0;34m()\u001b[0m\n\u001b[1;32m      4\u001b[0m     \u001b[38;5;28mprint\u001b[39m(P[\u001b[38;5;241m0\u001b[39m])\n\u001b[1;32m      5\u001b[0m \u001b[38;5;28;01mfor\u001b[39;00m i \u001b[38;5;129;01min\u001b[39;00m \u001b[38;5;28mrange\u001b[39m(\u001b[38;5;28mlen\u001b[39m(P)):\n\u001b[0;32m----> 6\u001b[0m     price\u001b[38;5;241m.\u001b[39mappend(P[i] \u001b[38;5;241m*\u001b[39m (\u001b[38;5;28mint\u001b[39m(\u001b[43mN\u001b[49m\u001b[43m \u001b[49m\u001b[38;5;241;43m/\u001b[39;49m\u001b[38;5;241;43m/\u001b[39;49m\u001b[43m \u001b[49m\u001b[43mi\u001b[49m\u001b[38;5;241m+\u001b[39m\u001b[38;5;241m1\u001b[39m)))\n\u001b[1;32m      7\u001b[0m     \u001b[38;5;28;01mif\u001b[39;00m ((P[i] \u001b[38;5;241m*\u001b[39m (N \u001b[38;5;241m/\u001b[39m\u001b[38;5;241m/\u001b[39m i\u001b[38;5;241m+\u001b[39m\u001b[38;5;241m1\u001b[39m) \u001b[38;5;241m%\u001b[39m N )) \u001b[38;5;241m!=\u001b[39m \u001b[38;5;241m0\u001b[39m:\n\u001b[1;32m      8\u001b[0m         price\u001b[38;5;241m.\u001b[39mappend(\u001b[38;5;241m0\u001b[39m)\n",
      "\u001b[0;31mZeroDivisionError\u001b[0m: integer division or modulo by zero"
     ]
    }
   ],
   "source": [
    "function()"
   ]
  },
  {
   "cell_type": "code",
   "execution_count": 57,
   "id": "798fc067",
   "metadata": {},
   "outputs": [
    {
     "data": {
      "text/plain": [
       "0"
      ]
     },
     "execution_count": 57,
     "metadata": {},
     "output_type": "execute_result"
    }
   ],
   "source": [
    "P.index(1)"
   ]
  },
  {
   "cell_type": "code",
   "execution_count": 66,
   "id": "5998bf03",
   "metadata": {},
   "outputs": [
    {
     "name": "stdout",
     "output_type": "stream",
     "text": [
      "2\n",
      "1 5 6 7\n"
     ]
    }
   ],
   "source": [
    "# dp\n",
    "N = int(input())\n",
    "P = list(map(int, input().split()))\n",
    "\n"
   ]
  },
  {
   "cell_type": "code",
   "execution_count": 74,
   "id": "5b5bd5fa",
   "metadata": {},
   "outputs": [],
   "source": [
    "price = []\n",
    "dp = []"
   ]
  },
  {
   "cell_type": "code",
   "execution_count": 75,
   "id": "52665fff",
   "metadata": {},
   "outputs": [
    {
     "name": "stdout",
     "output_type": "stream",
     "text": [
      "[1]\n"
     ]
    }
   ],
   "source": [
    "# N = 1\n",
    "if P[0] == 1:\n",
    "    dp.append(1)\n",
    "    "
   ]
  },
  {
   "cell_type": "code",
   "execution_count": 76,
   "id": "69c78c8f",
   "metadata": {},
   "outputs": [],
   "source": [
    "# N = 1 일때의 최댓값 -> 1이지\n",
    "# N = 2 일때의 최댓값 규칙\n",
    "# N = 3 일때의 최댓값\n",
    "# N = 4 일때의 최댓값"
   ]
  },
  {
   "cell_type": "code",
   "execution_count": 77,
   "id": "d595ad11",
   "metadata": {},
   "outputs": [],
   "source": [
    "# N = 2 일때의 최댓값\n",
    "\n",
    "# 배열0번째와 배열1번째 가격을 비교 -> max 값\n",
    "\n"
   ]
  },
  {
   "cell_type": "code",
   "execution_count": 78,
   "id": "39890c4e",
   "metadata": {},
   "outputs": [],
   "source": [
    "# N = 3 일때의 최댓값\n",
    "\n",
    "# 배열 0 번째그리고 배열 2번째의 가격을 비교 -> max 값\n",
    "\n"
   ]
  },
  {
   "cell_type": "code",
   "execution_count": 79,
   "id": "10cd9c94",
   "metadata": {},
   "outputs": [],
   "source": [
    "# P 배열 -> price 에 해당하는 인덱스당 가격 입력 -> 최댓값 산출되면 dp에 입력\n"
   ]
  },
  {
   "cell_type": "code",
   "execution_count": null,
   "id": "7b114707",
   "metadata": {},
   "outputs": [],
   "source": [
    "\n",
    "\n"
   ]
  },
  {
   "cell_type": "code",
   "execution_count": 83,
   "id": "c77d5590",
   "metadata": {},
   "outputs": [],
   "source": [
    "# N = 2\n",
    "if N == 2:\n",
    "    dp.append(max(P[0]*2 , P[1]*1))"
   ]
  },
  {
   "cell_type": "code",
   "execution_count": 86,
   "id": "77d6b4f5",
   "metadata": {},
   "outputs": [],
   "source": [
    "# N = 3 ~\n",
    "\n",
    "dp.append(max(P[0]*3, P[2]*1))\n"
   ]
  },
  {
   "cell_type": "code",
   "execution_count": 92,
   "id": "2a13798b",
   "metadata": {},
   "outputs": [
    {
     "data": {
      "text/plain": [
       "[1, 5, 6, 10]"
      ]
     },
     "execution_count": 92,
     "metadata": {},
     "output_type": "execute_result"
    }
   ],
   "source": [
    "dp"
   ]
  },
  {
   "cell_type": "code",
   "execution_count": 88,
   "id": "5b14cff8",
   "metadata": {},
   "outputs": [],
   "source": [
    "# N = 4 일때의 최댓값\n",
    "\n"
   ]
  },
  {
   "cell_type": "code",
   "execution_count": 91,
   "id": "6f0f762c",
   "metadata": {},
   "outputs": [],
   "source": [
    "dp.append(max(P[0]*4, P[1] *2, P[3]*1))"
   ]
  },
  {
   "cell_type": "code",
   "execution_count": null,
   "id": "f282e798",
   "metadata": {},
   "outputs": [],
   "source": [
    "# # N = 5 일때의 최댓값\n",
    "# N = 홀수 -> 처음 + 해당하는 인덱스\n",
    "# N = 짝수 -> 처음 + 2의 배수 + 해당하는인덱스 ( 2제외)\n",
    "# P[0]*5, P"
   ]
  },
  {
   "cell_type": "code",
   "execution_count": 99,
   "id": "b976d4fc",
   "metadata": {},
   "outputs": [
    {
     "name": "stdout",
     "output_type": "stream",
     "text": [
      "5\n"
     ]
    }
   ],
   "source": [
    "# 출력 부분\n",
    "\n",
    "\n",
    "for i in range(1, N+1):\n",
    "    if N == i:\n",
    "        print(dp[i-1])\n",
    "    else:\n",
    "        pass"
   ]
  },
  {
   "cell_type": "code",
   "execution_count": 97,
   "id": "c5cb1192",
   "metadata": {},
   "outputs": [
    {
     "data": {
      "text/plain": [
       "2"
      ]
     },
     "execution_count": 97,
     "metadata": {},
     "output_type": "execute_result"
    }
   ],
   "source": []
  },
  {
   "cell_type": "code",
   "execution_count": 1,
   "id": "ee0981a9",
   "metadata": {},
   "outputs": [
    {
     "name": "stdout",
     "output_type": "stream",
     "text": [
      "3\n",
      "1 4 6 7\n"
     ]
    }
   ],
   "source": [
    "n = int(input())\n",
    "d = [0] * (n + 1)\n",
    "p = [0] + list(map(int, input().split()))\n",
    "d[1] = p[1]"
   ]
  },
  {
   "cell_type": "code",
   "execution_count": 3,
   "id": "2abc38c4",
   "metadata": {},
   "outputs": [
    {
     "name": "stdout",
     "output_type": "stream",
     "text": [
      "i= 2\n",
      "j= 1\n",
      "j= 2\n",
      "i= 3\n",
      "j= 1\n",
      "j= 2\n",
      "j= 3\n"
     ]
    }
   ],
   "source": [
    "for i in range(2, n + 1):\n",
    "    print(\"i=\", i)\n",
    "    for j in range(1, i + 1):\n",
    "        print(\"j=\", j)\n",
    "        if d[i] < d[i - j] + p[j]:\n",
    "            d[i] = d[i - j] + p[j]\n",
    "\n",
    "# # d[n] 배열은 n개의 최댓값을 저장하는 배열\n",
    "# p배열은 입력을 받는 각각의 가격 -> 헷갈리지 않게 [0]에는 0을 넣어주고 [1]부터 값을 받는다.\n",
    "# d[1] -> 1개를 사낟고 했을때의 최댓값은 당연하게도 p[1]이다.\n",
    "# d[2]부터 최댓값 보기"
   ]
  },
  {
   "cell_type": "code",
   "execution_count": 107,
   "id": "01865a3f",
   "metadata": {},
   "outputs": [
    {
     "name": "stdout",
     "output_type": "stream",
     "text": [
      "5\n"
     ]
    }
   ],
   "source": [
    "print(d[n])"
   ]
  },
  {
   "cell_type": "code",
   "execution_count": null,
   "id": "a8318116",
   "metadata": {},
   "outputs": [],
   "source": [
    "d[2] = d[1] + p[1]"
   ]
  },
  {
   "cell_type": "code",
   "execution_count": 116,
   "id": "760aa561",
   "metadata": {},
   "outputs": [
    {
     "data": {
      "text/plain": [
       "[0, 1, 5]"
      ]
     },
     "execution_count": 116,
     "metadata": {},
     "output_type": "execute_result"
    }
   ],
   "source": [
    "d"
   ]
  },
  {
   "cell_type": "code",
   "execution_count": 115,
   "id": "c5e827e6",
   "metadata": {},
   "outputs": [
    {
     "data": {
      "text/plain": [
       "[0, 1, 5, 6, 7]"
      ]
     },
     "execution_count": 115,
     "metadata": {},
     "output_type": "execute_result"
    }
   ],
   "source": [
    "p"
   ]
  },
  {
   "cell_type": "code",
   "execution_count": null,
   "id": "503586cc",
   "metadata": {},
   "outputs": [],
   "source": []
  }
 ],
 "metadata": {
  "kernelspec": {
   "display_name": "Python 3 (ipykernel)",
   "language": "python",
   "name": "python3"
  },
  "language_info": {
   "codemirror_mode": {
    "name": "ipython",
    "version": 3
   },
   "file_extension": ".py",
   "mimetype": "text/x-python",
   "name": "python",
   "nbconvert_exporter": "python",
   "pygments_lexer": "ipython3",
   "version": "3.8.13"
  }
 },
 "nbformat": 4,
 "nbformat_minor": 5
}

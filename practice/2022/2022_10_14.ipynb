{
 "cells": [
  {
   "cell_type": "code",
   "execution_count": 1,
   "id": "3f56fa5e",
   "metadata": {},
   "outputs": [
    {
     "name": "stdout",
     "output_type": "stream",
     "text": [
      "7 3\n"
     ]
    }
   ],
   "source": [
    "a, b = list(map(int, input().split()))\n"
   ]
  },
  {
   "cell_type": "code",
   "execution_count": 5,
   "id": "bc3a82c0",
   "metadata": {},
   "outputs": [],
   "source": [
    "def function():\n",
    "    print(int(a+b))\n",
    "    print(int(a-b))\n",
    "    print(int(a*b))\n",
    "    print(int(a/b))\n",
    "    print(int(a%b))\n",
    "    "
   ]
  },
  {
   "cell_type": "code",
   "execution_count": 6,
   "id": "8db03b67",
   "metadata": {},
   "outputs": [
    {
     "name": "stdout",
     "output_type": "stream",
     "text": [
      "10\n",
      "4\n",
      "21\n",
      "2\n",
      "1\n"
     ]
    }
   ],
   "source": [
    "function()"
   ]
  },
  {
   "cell_type": "code",
   "execution_count": null,
   "id": "8c0826e8",
   "metadata": {},
   "outputs": [],
   "source": [
    "# 공부한 기능 복습\n",
    "\n",
    "# [chr(i) for _ in range(97, 122+1)]\n",
    "\n",
    "# lambda"
   ]
  },
  {
   "cell_type": "code",
   "execution_count": 26,
   "id": "f7221f60",
   "metadata": {},
   "outputs": [],
   "source": [
    "# 10814"
   ]
  },
  {
   "cell_type": "code",
   "execution_count": 2,
   "id": "1d7913f0",
   "metadata": {},
   "outputs": [
    {
     "name": "stdout",
     "output_type": "stream",
     "text": [
      "3\n"
     ]
    }
   ],
   "source": [
    "n = int(input())\n",
    "\n"
   ]
  },
  {
   "cell_type": "code",
   "execution_count": 3,
   "id": "2d633fc3",
   "metadata": {},
   "outputs": [
    {
     "name": "stdout",
     "output_type": "stream",
     "text": [
      "21 Junkyu\n",
      "21 Dohyun\n",
      "20 Sunyoung\n"
     ]
    }
   ],
   "source": [
    "p = [input().split() for _ in range(n)]"
   ]
  },
  {
   "cell_type": "code",
   "execution_count": 4,
   "id": "b780093c",
   "metadata": {},
   "outputs": [],
   "source": [
    "ip_p = []\n"
   ]
  },
  {
   "cell_type": "code",
   "execution_count": 5,
   "id": "47e25414",
   "metadata": {},
   "outputs": [],
   "source": [
    "for i,v in enumerate(p):\n",
    "    ip_p.append([i, int(v[0]) , v[1]])"
   ]
  },
  {
   "cell_type": "code",
   "execution_count": 1,
   "id": "4e9be1a6",
   "metadata": {
    "scrolled": true
   },
   "outputs": [
    {
     "ename": "NameError",
     "evalue": "name 'ip_p' is not defined",
     "output_type": "error",
     "traceback": [
      "\u001b[0;31m---------------------------------------------------------------------------\u001b[0m",
      "\u001b[0;31mNameError\u001b[0m                                 Traceback (most recent call last)",
      "Cell \u001b[0;32mIn [1], line 1\u001b[0m\n\u001b[0;32m----> 1\u001b[0m ip_p \u001b[38;5;241m=\u001b[39m \u001b[38;5;28msorted\u001b[39m(ip_p, key\u001b[38;5;241m=\u001b[39m\u001b[38;5;28;01mlambda\u001b[39;00m x:(x[\u001b[38;5;241m1\u001b[39m], x[\u001b[38;5;241m0\u001b[39m]))\n",
      "\u001b[0;31mNameError\u001b[0m: name 'ip_p' is not defined"
     ]
    }
   ],
   "source": [
    "ip_p = sorted(ip_p, key=lambda x:(x[1], x[0]))"
   ]
  },
  {
   "cell_type": "code",
   "execution_count": 6,
   "id": "8b8587a6",
   "metadata": {},
   "outputs": [
    {
     "data": {
      "text/plain": [
       "[[0, 21, 'Junkyu'], [1, 21, 'Dohyun'], [2, 20, 'Sunyoung']]"
      ]
     },
     "execution_count": 6,
     "metadata": {},
     "output_type": "execute_result"
    }
   ],
   "source": [
    "ip_p"
   ]
  },
  {
   "cell_type": "code",
   "execution_count": 11,
   "id": "d361ec29",
   "metadata": {},
   "outputs": [],
   "source": [
    "mem = []"
   ]
  },
  {
   "cell_type": "code",
   "execution_count": 12,
   "id": "59d41f04",
   "metadata": {},
   "outputs": [
    {
     "name": "stdout",
     "output_type": "stream",
     "text": [
      "21 Junkyu\n",
      "21 Dohyun\n",
      "20 Sunyoung\n"
     ]
    }
   ],
   "source": [
    "for i in range(n):\n",
    "    age, name = map(str, input().split())\n",
    "    age = int(age)\n",
    "    mem.append((age, name))"
   ]
  },
  {
   "cell_type": "code",
   "execution_count": 13,
   "id": "a07f9de8",
   "metadata": {},
   "outputs": [
    {
     "data": {
      "text/plain": [
       "[(21, 'Junkyu'), (21, 'Dohyun'), (20, 'Sunyoung')]"
      ]
     },
     "execution_count": 13,
     "metadata": {},
     "output_type": "execute_result"
    }
   ],
   "source": [
    "mem"
   ]
  },
  {
   "cell_type": "code",
   "execution_count": 14,
   "id": "d3c6d829",
   "metadata": {},
   "outputs": [],
   "source": [
    "sorted_mem = sorted(mem , key= lambda mem: mem[1])"
   ]
  },
  {
   "cell_type": "code",
   "execution_count": 15,
   "id": "e1ba4e9a",
   "metadata": {},
   "outputs": [
    {
     "data": {
      "text/plain": [
       "[(21, 'Dohyun'), (21, 'Junkyu'), (20, 'Sunyoung')]"
      ]
     },
     "execution_count": 15,
     "metadata": {},
     "output_type": "execute_result"
    }
   ],
   "source": [
    "sorted_mem"
   ]
  },
  {
   "cell_type": "code",
   "execution_count": 16,
   "id": "c7dae1d5",
   "metadata": {},
   "outputs": [
    {
     "name": "stdout",
     "output_type": "stream",
     "text": [
      "21 Dohyun\n",
      "21 Junkyu\n",
      "20 Sunyoung\n"
     ]
    }
   ],
   "source": [
    "for age, name in sorted_mem:\n",
    "    print(age, name)"
   ]
  },
  {
   "cell_type": "code",
   "execution_count": 19,
   "id": "cc154c90",
   "metadata": {},
   "outputs": [],
   "source": [
    "arr = []"
   ]
  },
  {
   "cell_type": "code",
   "execution_count": 20,
   "id": "a41a3d6b",
   "metadata": {},
   "outputs": [
    {
     "name": "stdout",
     "output_type": "stream",
     "text": [
      "1 Kim\n",
      "2 Kang\n",
      "3 Min\n"
     ]
    }
   ],
   "source": [
    "for i in range(n):\n",
    "    \n",
    "    a, b = map(str, input().split())\n",
    "    a = int(a)\n",
    "    arr.append((a, b))"
   ]
  },
  {
   "cell_type": "code",
   "execution_count": 25,
   "id": "cbd40d04",
   "metadata": {},
   "outputs": [
    {
     "data": {
      "text/plain": [
       "[(1, 'Kim'), (2, 'Kang'), (3, 'Min')]"
      ]
     },
     "execution_count": 25,
     "metadata": {},
     "output_type": "execute_result"
    }
   ],
   "source": [
    "arr"
   ]
  },
  {
   "cell_type": "code",
   "execution_count": 24,
   "id": "b4ee5415",
   "metadata": {},
   "outputs": [],
   "source": [
    "sorted_arr = sorted(arr, key = lambda arr: arr[1])"
   ]
  },
  {
   "cell_type": "code",
   "execution_count": 27,
   "id": "ecd7a326",
   "metadata": {},
   "outputs": [],
   "source": [
    "# 10825"
   ]
  },
  {
   "cell_type": "code",
   "execution_count": 54,
   "id": "9c71c937",
   "metadata": {},
   "outputs": [
    {
     "name": "stdout",
     "output_type": "stream",
     "text": [
      "10\n"
     ]
    }
   ],
   "source": [
    "n = int(input())"
   ]
  },
  {
   "cell_type": "code",
   "execution_count": 67,
   "id": "e136a65e",
   "metadata": {},
   "outputs": [],
   "source": [
    "arr = []"
   ]
  },
  {
   "cell_type": "code",
   "execution_count": 68,
   "id": "1ef6806f",
   "metadata": {},
   "outputs": [
    {
     "name": "stdout",
     "output_type": "stream",
     "text": [
      "Junkyu 50 60 100\n",
      "Sangkeun 80 60 50\n",
      "Sunyoung 80 70 100\n",
      "Soong 50 60 90\n",
      "Haebin 50 60 100\n",
      "Kangsoo 60 80 100\n",
      "Donghyuk 80 60 100\n",
      "Sei 70 70 70\n",
      "Wonseob 70 70 90\n",
      "Sanghyun 70 70 80\n"
     ]
    }
   ],
   "source": [
    "for _ in range(n):\n",
    "    a, b, c, d = map(str, input().split())\n",
    "    arr.append([a, b, c, d])"
   ]
  },
  {
   "cell_type": "code",
   "execution_count": 69,
   "id": "e71a5977",
   "metadata": {},
   "outputs": [
    {
     "data": {
      "text/plain": [
       "'50'"
      ]
     },
     "execution_count": 69,
     "metadata": {},
     "output_type": "execute_result"
    }
   ],
   "source": [
    "arr[0][1]"
   ]
  },
  {
   "cell_type": "code",
   "execution_count": 41,
   "id": "6978911b",
   "metadata": {},
   "outputs": [
    {
     "data": {
      "text/plain": [
       "50"
      ]
     },
     "execution_count": 41,
     "metadata": {},
     "output_type": "execute_result"
    }
   ],
   "source": []
  },
  {
   "cell_type": "code",
   "execution_count": 44,
   "id": "25743aaf",
   "metadata": {},
   "outputs": [
    {
     "name": "stdout",
     "output_type": "stream",
     "text": [
      "2\n"
     ]
    }
   ],
   "source": [
    "a = int(input())"
   ]
  },
  {
   "cell_type": "code",
   "execution_count": 70,
   "id": "0755f7c0",
   "metadata": {},
   "outputs": [
    {
     "data": {
      "text/plain": [
       "[['Junkyu', '50', '60', '100'],\n",
       " ['Sangkeun', '80', '60', '50'],\n",
       " ['Sunyoung', '80', '70', '100'],\n",
       " ['Soong', '50', '60', '90'],\n",
       " ['Haebin', '50', '60', '100'],\n",
       " ['Kangsoo', '60', '80', '100'],\n",
       " ['Donghyuk', '80', '60', '100'],\n",
       " ['Sei', '70', '70', '70'],\n",
       " ['Wonseob', '70', '70', '90'],\n",
       " ['Sanghyun', '70', '70', '80']]"
      ]
     },
     "execution_count": 70,
     "metadata": {},
     "output_type": "execute_result"
    }
   ],
   "source": [
    "arr"
   ]
  },
  {
   "cell_type": "code",
   "execution_count": 79,
   "id": "65680066",
   "metadata": {},
   "outputs": [],
   "source": [
    "sorted_arr = sorted(arr, key = lambda x: (int(x[3]), int(x[1]), -int(x[2]), x[0]))\n"
   ]
  },
  {
   "cell_type": "code",
   "execution_count": 80,
   "id": "5303461e",
   "metadata": {},
   "outputs": [
    {
     "data": {
      "text/plain": [
       "[['Sangkeun', '80', '60', '50'],\n",
       " ['Sei', '70', '70', '70'],\n",
       " ['Sanghyun', '70', '70', '80'],\n",
       " ['Soong', '50', '60', '90'],\n",
       " ['Wonseob', '70', '70', '90'],\n",
       " ['Haebin', '50', '60', '100'],\n",
       " ['Junkyu', '50', '60', '100'],\n",
       " ['Kangsoo', '60', '80', '100'],\n",
       " ['Sunyoung', '80', '70', '100'],\n",
       " ['Donghyuk', '80', '60', '100']]"
      ]
     },
     "execution_count": 80,
     "metadata": {},
     "output_type": "execute_result"
    }
   ],
   "source": [
    "sorted_arr"
   ]
  },
  {
   "cell_type": "code",
   "execution_count": 85,
   "id": "ea8d2839",
   "metadata": {},
   "outputs": [],
   "source": [
    "# 10808\n"
   ]
  },
  {
   "cell_type": "code",
   "execution_count": 86,
   "id": "ba435eaf",
   "metadata": {},
   "outputs": [
    {
     "name": "stdout",
     "output_type": "stream",
     "text": [
      "baekjoon\n"
     ]
    }
   ],
   "source": [
    "s = str(input())"
   ]
  },
  {
   "cell_type": "code",
   "execution_count": 91,
   "id": "9f242ad7",
   "metadata": {},
   "outputs": [],
   "source": [
    "alpa = {chr(i):0 for i in range(97, 122+1)}"
   ]
  },
  {
   "cell_type": "code",
   "execution_count": 95,
   "id": "ec1803ba",
   "metadata": {},
   "outputs": [
    {
     "data": {
      "text/plain": [
       "{'a': 0,\n",
       " 'b': 0,\n",
       " 'c': 0,\n",
       " 'd': 0,\n",
       " 'e': 0,\n",
       " 'f': 0,\n",
       " 'g': 0,\n",
       " 'h': 0,\n",
       " 'i': 0,\n",
       " 'j': 0,\n",
       " 'k': 0,\n",
       " 'l': 0,\n",
       " 'm': 0,\n",
       " 'n': 0,\n",
       " 'o': 0,\n",
       " 'p': 0,\n",
       " 'q': 0,\n",
       " 'r': 0,\n",
       " 's': 0,\n",
       " 't': 0,\n",
       " 'u': 0,\n",
       " 'v': 0,\n",
       " 'w': 0,\n",
       " 'x': 0,\n",
       " 'y': 0,\n",
       " 'z': 0}"
      ]
     },
     "execution_count": 95,
     "metadata": {},
     "output_type": "execute_result"
    }
   ],
   "source": [
    "alpa"
   ]
  },
  {
   "cell_type": "code",
   "execution_count": 98,
   "id": "bdd66feb",
   "metadata": {},
   "outputs": [
    {
     "data": {
      "text/plain": [
       "0"
      ]
     },
     "execution_count": 98,
     "metadata": {},
     "output_type": "execute_result"
    }
   ],
   "source": [
    "alpa['a']"
   ]
  },
  {
   "cell_type": "code",
   "execution_count": 100,
   "id": "94d8fdec",
   "metadata": {},
   "outputs": [
    {
     "name": "stdout",
     "output_type": "stream",
     "text": [
      "2 2 0 0 2 0 0 0 0 2 2 0 0 2 4 0 0 0 0 0 0 0 0 0 0 0 "
     ]
    }
   ],
   "source": [
    "for i in s:\n",
    "    if i in alpa:\n",
    "        alpa[i] = alpa[i] +1\n",
    "    \n",
    "for i in alpa:\n",
    "    print(alpa[i], end = ' ')"
   ]
  },
  {
   "cell_type": "code",
   "execution_count": 103,
   "id": "0b0d40b7",
   "metadata": {},
   "outputs": [],
   "source": [
    "for i in s:\n",
    "    if i in alpa:\n",
    "        alpa[i] = alpa[i] +1\n"
   ]
  },
  {
   "cell_type": "code",
   "execution_count": 102,
   "id": "d6df984b",
   "metadata": {},
   "outputs": [
    {
     "name": "stdout",
     "output_type": "stream",
     "text": [
      "3 3 0 0 3 0 0 0 0 3 3 0 0 3 6 0 0 0 0 0 0 0 0 0 0 0 "
     ]
    }
   ],
   "source": [
    "for i in alpa:\n",
    "    print(alpa[i], end = ' ')"
   ]
  },
  {
   "cell_type": "code",
   "execution_count": 113,
   "id": "9d6702e0",
   "metadata": {},
   "outputs": [],
   "source": [
    "for i in s:\n",
    "    if i in alpa:\n",
    "        alpa[i] += 1"
   ]
  },
  {
   "cell_type": "code",
   "execution_count": 114,
   "id": "242341b7",
   "metadata": {
    "scrolled": true
   },
   "outputs": [
    {
     "name": "stdout",
     "output_type": "stream",
     "text": [
      "9 9 0 0 9 0 0 0 0 9 9 0 0 9 18 0 0 0 0 0 0 0 0 0 0 0 "
     ]
    }
   ],
   "source": [
    "for i in alpa:\n",
    "    print(alpa[i], end = ' ')"
   ]
  },
  {
   "cell_type": "code",
   "execution_count": 117,
   "id": "52f78f8d",
   "metadata": {},
   "outputs": [],
   "source": [
    "for _ in s:\n",
    "    if _ in alpa:\n",
    "        alpa[i] += 1\n",
    "        "
   ]
  },
  {
   "cell_type": "code",
   "execution_count": 118,
   "id": "a977957b",
   "metadata": {},
   "outputs": [
    {
     "name": "stdout",
     "output_type": "stream",
     "text": [
      "8 8 8 8 8 8 8 8 8 8 8 8 8 8 8 8 8 8 8 8 8 8 8 8 8 8 "
     ]
    }
   ],
   "source": [
    "for _ in alpa:\n",
    "    print(alpa[i], end = ' ')"
   ]
  },
  {
   "cell_type": "code",
   "execution_count": null,
   "id": "46151c2b",
   "metadata": {},
   "outputs": [],
   "source": []
  }
 ],
 "metadata": {
  "kernelspec": {
   "display_name": "Python 3 (ipykernel)",
   "language": "python",
   "name": "python3"
  },
  "language_info": {
   "codemirror_mode": {
    "name": "ipython",
    "version": 3
   },
   "file_extension": ".py",
   "mimetype": "text/x-python",
   "name": "python",
   "nbconvert_exporter": "python",
   "pygments_lexer": "ipython3",
   "version": "3.9.7"
  }
 },
 "nbformat": 4,
 "nbformat_minor": 5
}

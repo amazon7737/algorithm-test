{
 "cells": [
  {
   "cell_type": "code",
   "execution_count": 38,
   "id": "4a72c7ec",
   "metadata": {},
   "outputs": [
    {
     "ename": "SyntaxError",
     "evalue": "invalid syntax (234292145.py, line 12)",
     "output_type": "error",
     "traceback": [
      "\u001b[0;36m  File \u001b[0;32m\"/var/folders/6w/_g25983j4rn_kzwyvx0qh91r0000gn/T/ipykernel_51770/234292145.py\"\u001b[0;36m, line \u001b[0;32m12\u001b[0m\n\u001b[0;31m    print(format(numpy.mean(list_1), 0.1f)\u001b[0m\n\u001b[0m                                        ^\u001b[0m\n\u001b[0;31mSyntaxError\u001b[0m\u001b[0;31m:\u001b[0m invalid syntax\n"
     ]
    }
   ],
   "source": [
    "from scipy.stats import mode\n",
    "import numpy\n",
    "\n",
    "N = int(input())\n",
    "a = 0\n",
    "\n",
    "for j in range(N):\n",
    "    print(j)\n",
    "    a = int(input())\n",
    "    list_1[j] = a\n",
    "    \n",
    "b = numpy.mean(list_1)\n",
    "\n",
    "d = numpy.median(list_1)\n",
    "g = mode(list_1)\n",
    "print(round(b, 1))\n",
    "print(d)\n",
    "print(g)\n",
    "\n",
    "c = max(list_1) - min(list_1)\n",
    "print(c)"
   ]
  },
  {
   "cell_type": "markdown",
   "id": "97f1866a",
   "metadata": {},
   "source": [
    "a = 1"
   ]
  },
  {
   "cell_type": "code",
   "execution_count": 25,
   "id": "807e393c",
   "metadata": {},
   "outputs": [
    {
     "name": "stdout",
     "output_type": "stream",
     "text": [
      "1\n"
     ]
    }
   ],
   "source": [
    "\n",
    "list_1 = [0] * N"
   ]
  },
  {
   "cell_type": "code",
   "execution_count": 26,
   "id": "573712a3",
   "metadata": {},
   "outputs": [
    {
     "data": {
      "text/plain": [
       "[0, 0, 0, 0, 0]"
      ]
     },
     "execution_count": 26,
     "metadata": {},
     "output_type": "execute_result"
    }
   ],
   "source": [
    "list_1"
   ]
  },
  {
   "cell_type": "code",
   "execution_count": 35,
   "id": "faef0c63",
   "metadata": {},
   "outputs": [
    {
     "name": "stdout",
     "output_type": "stream",
     "text": [
      "0\n",
      "1\n",
      "1\n",
      "3\n",
      "2\n",
      "8\n",
      "3\n",
      "-2\n",
      "4\n",
      "2\n"
     ]
    }
   ],
   "source": []
  },
  {
   "cell_type": "code",
   "execution_count": 36,
   "id": "168c423c",
   "metadata": {},
   "outputs": [
    {
     "data": {
      "text/plain": [
       "[1, 3, 8, -2, 2]"
      ]
     },
     "execution_count": 36,
     "metadata": {},
     "output_type": "execute_result"
    }
   ],
   "source": [
    "list_1"
   ]
  },
  {
   "cell_type": "code",
   "execution_count": null,
   "id": "c2974e2d",
   "metadata": {},
   "outputs": [],
   "source": []
  }
 ],
 "metadata": {
  "kernelspec": {
   "display_name": "Python 3 (ipykernel)",
   "language": "python",
   "name": "python3"
  },
  "language_info": {
   "codemirror_mode": {
    "name": "ipython",
    "version": 3
   },
   "file_extension": ".py",
   "mimetype": "text/x-python",
   "name": "python",
   "nbconvert_exporter": "python",
   "pygments_lexer": "ipython3",
   "version": "3.9.7"
  }
 },
 "nbformat": 4,
 "nbformat_minor": 5
}

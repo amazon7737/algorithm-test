{
 "cells": [
  {
   "cell_type": "code",
   "execution_count": 2,
   "id": "315fda9e",
   "metadata": {},
   "outputs": [],
   "source": [
    "#1167"
   ]
  },
  {
   "cell_type": "code",
   "execution_count": 1,
   "id": "a21d9310",
   "metadata": {},
   "outputs": [],
   "source": [
    "import sys\n",
    "\n",
    "from collections import defaultdict\n",
    "\n"
   ]
  },
  {
   "cell_type": "code",
   "execution_count": 8,
   "id": "b325dad9",
   "metadata": {},
   "outputs": [],
   "source": [
    "input = sys.stdin.readline"
   ]
  },
  {
   "cell_type": "code",
   "execution_count": 2,
   "id": "2eed50f6",
   "metadata": {},
   "outputs": [
    {
     "name": "stdout",
     "output_type": "stream",
     "text": [
      "5\n"
     ]
    }
   ],
   "source": [
    "a = int(input())"
   ]
  },
  {
   "cell_type": "code",
   "execution_count": 4,
   "id": "597f57d7",
   "metadata": {},
   "outputs": [],
   "source": [
    "# cnt = int(input())\n",
    "graph = defaultdict(list)"
   ]
  },
  {
   "cell_type": "code",
   "execution_count": null,
   "id": "c78a9d43",
   "metadata": {},
   "outputs": [],
   "source": [
    "#1 답"
   ]
  },
  {
   "cell_type": "code",
   "execution_count": 6,
   "id": "16ffacf4",
   "metadata": {},
   "outputs": [
    {
     "name": "stdout",
     "output_type": "stream",
     "text": [
      "1 3 2 -1\n",
      "2 4 4 -1\n",
      "3 1 2 4 3 -1\n",
      "4 2 4 3 3 5 6 -1\n",
      "5 4 6 -1\n",
      "5\n"
     ]
    }
   ],
   "source": [
    "for _ in range(a):\n",
    "    temp = list(map(int, input().rsplit()))\n",
    "    key = temp[0]\n",
    "    for i in range(1, len(temp)-1, 2):\n",
    "        graph[key].append((temp[i], temp[i+1]))\n",
    "        \n",
    "max_cnt = 0\n",
    "far_node = 0\n",
    "def dfs(node, cnt):\n",
    "    global max_cnt\n",
    "    global far_node\n",
    "    \n",
    "    if max_cnt < a:\n",
    "        max_cnt = a\n",
    "        far_node = node\n",
    "        \n",
    "    visited[node] = True\n",
    "    for u,c in graph[node]:\n",
    "        if not visited[u]:\n",
    "            dfs(u, cnt+c)\n",
    "visited = [False] * (a+1)\n",
    "dfs(1,0)\n",
    "visited = [False] * (a+1)\n",
    "dfs(far_node, 0)\n",
    "\n",
    "print(max_cnt)"
   ]
  },
  {
   "cell_type": "code",
   "execution_count": null,
   "id": "d66b623d",
   "metadata": {},
   "outputs": [],
   "source": [
    "#2답"
   ]
  },
  {
   "cell_type": "code",
   "execution_count": 7,
   "id": "81aa0898",
   "metadata": {},
   "outputs": [
    {
     "ename": "ValueError",
     "evalue": "invalid literal for int() with base 10: ''",
     "output_type": "error",
     "traceback": [
      "\u001b[0;31m---------------------------------------------------------------------------\u001b[0m",
      "\u001b[0;31mValueError\u001b[0m                                Traceback (most recent call last)",
      "Cell \u001b[0;32mIn [7], line 32\u001b[0m\n\u001b[1;32m     29\u001b[0m     \u001b[38;5;28;01mfor\u001b[39;00m i \u001b[38;5;129;01min\u001b[39;00m \u001b[38;5;28mrange\u001b[39m(n):\n\u001b[1;32m     30\u001b[0m         check[i] \u001b[38;5;241m=\u001b[39m \u001b[38;5;28;01mFalse\u001b[39;00m\n\u001b[0;32m---> 32\u001b[0m n \u001b[38;5;241m=\u001b[39m \u001b[38;5;28mint\u001b[39m(sys\u001b[38;5;241m.\u001b[39mstdin\u001b[38;5;241m.\u001b[39mreadline())\n\u001b[1;32m     34\u001b[0m \u001b[38;5;66;03m# 인접 리스트 생성\u001b[39;00m\n\u001b[1;32m     35\u001b[0m adj \u001b[38;5;241m=\u001b[39m [[] \u001b[38;5;28;01mfor\u001b[39;00m _ \u001b[38;5;129;01min\u001b[39;00m \u001b[38;5;28mrange\u001b[39m(n)]\n",
      "\u001b[0;31mValueError\u001b[0m: invalid literal for int() with base 10: ''"
     ]
    }
   ],
   "source": [
    "import sys, collections\n",
    "\n",
    "# bfs : 임의의 한점에서 가장 먼 점과 그 거리를 리턴하는 함수\n",
    "# dfs로도 충분히 가능하다\n",
    "def bfs(num):\n",
    "    dist, node = 0,0\n",
    "    q = collections.deque()\n",
    "    q.append((num, 0))\n",
    "    check[num] = True\n",
    "    while q:\n",
    "        now, now_dist = q.popleft()\n",
    "        for i in adj[now]:\n",
    "            # 중복방문을 막기위해 check 배열 방문 여부 확인\n",
    "            if check[i[0]] == False:\n",
    "                check[i[0]] = True\n",
    "                # 단순히 두 정점간의 거리만 큐에 넣는 것이 아니라\n",
    "                # 현재까지의 거리와 현재 정점의 거리를 더해줘야 \n",
    "                # 두 정점의 총 거리이므로 now_dist와 i[1]을 더해주고 큐에 넣는다\n",
    "                q.append((i[0], i[1] + now_dist))\n",
    "                \n",
    "                # dist 최대값 갱신과 함께 그때 어떤 노드인지도 갱신\n",
    "                if now_dist + i[1] > dist:\n",
    "                    dist = now_dist + i[1]\n",
    "                    node = i[0]\n",
    "    return dist, node\n",
    "\n",
    "# init : 총 bfs를 두번해야 하기에 check 배열을 초기화하는 함수\n",
    "def init():\n",
    "    for i in range(n):\n",
    "        check[i] = False\n",
    "\n",
    "n = int(sys.stdin.readline())\n",
    "\n",
    "# 인접 리스트 생성\n",
    "adj = [[] for _ in range(n)]\n",
    "for i in range(n):\n",
    "    temp = list(map(int, sys.stdin.readline().split()))\n",
    "    for j in range(1, len(temp) - 1, 2):\n",
    "        adj[temp[0] - 1].append((temp[j] - 1, temp[j + 1]))\n",
    "\n",
    "check = [False] * n\n",
    "# 정점 0에서 시작하여 가장 먼 거리 a가 걸리는 정점 b를 찾는다\n",
    "a,b = bfs(0)\n",
    "\n",
    "# check 초기화\n",
    "init()\n",
    "\n",
    "# 현재 정점 b에서 다시 가장 먼 정점 c를 찾고 그 때의 거리를 출력\n",
    "print(bfs(b)[0])"
   ]
  },
  {
   "cell_type": "code",
   "execution_count": null,
   "id": "abd47182",
   "metadata": {},
   "outputs": [],
   "source": []
  }
 ],
 "metadata": {
  "kernelspec": {
   "display_name": "Python 3 (ipykernel)",
   "language": "python",
   "name": "python3"
  },
  "language_info": {
   "codemirror_mode": {
    "name": "ipython",
    "version": 3
   },
   "file_extension": ".py",
   "mimetype": "text/x-python",
   "name": "python",
   "nbconvert_exporter": "python",
   "pygments_lexer": "ipython3",
   "version": "3.9.7"
  }
 },
 "nbformat": 4,
 "nbformat_minor": 5
}

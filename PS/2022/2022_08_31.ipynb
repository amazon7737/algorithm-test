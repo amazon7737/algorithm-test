{
 "cells": [
  {
   "cell_type": "code",
   "execution_count": 1,
   "id": "eb76804e",
   "metadata": {},
   "outputs": [],
   "source": [
    "#2133\n",
    "\n"
   ]
  },
  {
   "cell_type": "code",
   "execution_count": 2,
   "id": "9c804e68",
   "metadata": {},
   "outputs": [],
   "source": [
    "# # n 이 홀수 일 경우 -> 경우의수 0\n",
    "\n",
    "# # n = 2 일 경우 -> 3\n",
    "\n",
    "# # n = 4 일 경우 -> 11\n",
    "\n",
    "# # dp[2] * dp[2] -> 새로운 모양 2개\n",
    "\n",
    "# # n = 6 일 경우 -> 41\n",
    "\n",
    "# # dp[2] * dp[4] -> 새로운 모양 + dp[4] * dp[2] \n",
    "\n",
    "# # 새로운 모양 2개 더하기\n",
    "\n",
    "# # n = 8 일 경우 -> 153\n",
    "\n",
    "# # dp[2] * dp[6] + 새로운모양 dp[4] * dp[4] + 새로운 모양  + dp[6] * dp[2] , 새로운 모양 2개 더하기\n",
    "\n",
    "# 글로 설명하기는 힘들고 그림으로 직접 그리면서 이해하면 훨씬 잘 이해됨"
   ]
  },
  {
   "cell_type": "code",
   "execution_count": 3,
   "id": "2173cbf6",
   "metadata": {},
   "outputs": [],
   "source": [
    "# 9461"
   ]
  },
  {
   "cell_type": "code",
   "execution_count": 4,
   "id": "340a05c9",
   "metadata": {},
   "outputs": [],
   "source": [
    "#규칙성 찾아보기\n",
    "# DP (동적계획법) 은 무조건 규칙성 찾기 or 경우의 수 -> 이걸 최적화할 방법 = 배열을 이용한 방법\n",
    "\n",
    "# 1 1 1 2 2 3 4 5 7 9"
   ]
  },
  {
   "cell_type": "code",
   "execution_count": 5,
   "id": "7bd60cd0",
   "metadata": {},
   "outputs": [
    {
     "name": "stdout",
     "output_type": "stream",
     "text": [
      "5\n",
      "5\n",
      "2\n",
      "423\n"
     ]
    },
    {
     "ename": "IndexError",
     "evalue": "list index out of range",
     "output_type": "error",
     "traceback": [
      "\u001b[0;31m---------------------------------------------------------------------------\u001b[0m",
      "\u001b[0;31mIndexError\u001b[0m                                Traceback (most recent call last)",
      "Input \u001b[0;32mIn [5]\u001b[0m, in \u001b[0;36m<cell line: 9>\u001b[0;34m()\u001b[0m\n\u001b[1;32m      9\u001b[0m \u001b[38;5;28;01mfor\u001b[39;00m i \u001b[38;5;129;01min\u001b[39;00m \u001b[38;5;28mrange\u001b[39m(t):\n\u001b[1;32m     10\u001b[0m     n \u001b[38;5;241m=\u001b[39m \u001b[38;5;28mint\u001b[39m(\u001b[38;5;28minput\u001b[39m())\n\u001b[0;32m---> 11\u001b[0m     \u001b[38;5;28mprint\u001b[39m(\u001b[43mwh\u001b[49m\u001b[43m[\u001b[49m\u001b[43mn\u001b[49m\u001b[43m]\u001b[49m)\n",
      "\u001b[0;31mIndexError\u001b[0m: list index out of range"
     ]
    }
   ],
   "source": [
    "wh = [0 for i in range(101)]\n",
    "wh[1] = 1\n",
    "wh[2] = 1\n",
    "wh[3] = 1\n",
    "\n",
    "for i in range(0, 98):\n",
    "    wh[i+3] = wh[i] + wh[i+1]\n",
    "t = int(input())\n",
    "for i in range(t):\n",
    "    n = int(input())\n",
    "    print(wh[n])\n",
    "    \n",
    "    "
   ]
  },
  {
   "cell_type": "markdown",
   "id": "b3c7de2b",
   "metadata": {},
   "source": [
    "4### "
   ]
  }
 ],
 "metadata": {
  "kernelspec": {
   "display_name": "Python 3 (ipykernel)",
   "language": "python",
   "name": "python3"
  },
  "language_info": {
   "codemirror_mode": {
    "name": "ipython",
    "version": 3
   },
   "file_extension": ".py",
   "mimetype": "text/x-python",
   "name": "python",
   "nbconvert_exporter": "python",
   "pygments_lexer": "ipython3",
   "version": "3.8.13"
  }
 },
 "nbformat": 4,
 "nbformat_minor": 5
}

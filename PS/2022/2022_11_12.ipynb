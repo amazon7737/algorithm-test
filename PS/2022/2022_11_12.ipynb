{
 "cells": [
  {
   "cell_type": "code",
   "execution_count": 1,
   "id": "1cd4b2ea",
   "metadata": {},
   "outputs": [],
   "source": [
    "#2331"
   ]
  },
  {
   "cell_type": "code",
   "execution_count": 2,
   "id": "820414c3",
   "metadata": {},
   "outputs": [
    {
     "name": "stdout",
     "output_type": "stream",
     "text": [
      "\n"
     ]
    },
    {
     "ename": "ValueError",
     "evalue": "not enough values to unpack (expected 2, got 0)",
     "output_type": "error",
     "traceback": [
      "\u001b[0;31m---------------------------------------------------------------------------\u001b[0m",
      "\u001b[0;31mValueError\u001b[0m                                Traceback (most recent call last)",
      "Cell \u001b[0;32mIn [2], line 1\u001b[0m\n\u001b[0;32m----> 1\u001b[0m a, p \u001b[38;5;241m=\u001b[39m \u001b[38;5;28mmap\u001b[39m(\u001b[38;5;28mint\u001b[39m, \u001b[38;5;28minput\u001b[39m()\u001b[38;5;241m.\u001b[39msplit())\n\u001b[1;32m      3\u001b[0m nums \u001b[38;5;241m=\u001b[39m [a]\n\u001b[1;32m      5\u001b[0m \u001b[38;5;28;01mwhile\u001b[39;00m \u001b[38;5;28;01mTrue\u001b[39;00m:\n",
      "\u001b[0;31mValueError\u001b[0m: not enough values to unpack (expected 2, got 0)"
     ]
    }
   ],
   "source": [
    "a, p = map(int, input().split())\n",
    "\n",
    "nums = [a]\n",
    "\n",
    "while True:\n",
    "    tmp = 0\n",
    "    for s in str(nums[-1]):\n",
    "        tmp += int(s) ** p\n",
    "    if tmp in nums:\n",
    "        break\n",
    "        \n",
    "    nums.append(tmp)\n",
    "print(nums.index(tmp))    "
   ]
  },
  {
   "cell_type": "code",
   "execution_count": 3,
   "id": "fa1be883",
   "metadata": {},
   "outputs": [],
   "source": [
    "#7576\n"
   ]
  },
  {
   "cell_type": "code",
   "execution_count": 4,
   "id": "a9af7b5f",
   "metadata": {},
   "outputs": [],
   "source": [
    "from collections import deque\n"
   ]
  },
  {
   "cell_type": "code",
   "execution_count": null,
   "id": "5ca43ec3",
   "metadata": {},
   "outputs": [],
   "source": [
    "#2차원 상자"
   ]
  },
  {
   "cell_type": "code",
   "execution_count": 5,
   "id": "ca5b94ed",
   "metadata": {},
   "outputs": [
    {
     "name": "stdout",
     "output_type": "stream",
     "text": [
      "\n"
     ]
    },
    {
     "ename": "ValueError",
     "evalue": "not enough values to unpack (expected 2, got 0)",
     "output_type": "error",
     "traceback": [
      "\u001b[0;31m---------------------------------------------------------------------------\u001b[0m",
      "\u001b[0;31mValueError\u001b[0m                                Traceback (most recent call last)",
      "Cell \u001b[0;32mIn [5], line 1\u001b[0m\n\u001b[0;32m----> 1\u001b[0m m, n \u001b[38;5;241m=\u001b[39m \u001b[38;5;28mmap\u001b[39m(\u001b[38;5;28mint\u001b[39m, \u001b[38;5;28minput\u001b[39m()\u001b[38;5;241m.\u001b[39msplit())\n\u001b[1;32m      2\u001b[0m box \u001b[38;5;241m=\u001b[39m [\u001b[38;5;28mlist\u001b[39m(\u001b[38;5;28mmap\u001b[39m(\u001b[38;5;28mint\u001b[39m, \u001b[38;5;28minput\u001b[39m()\u001b[38;5;241m.\u001b[39msplit())) \u001b[38;5;28;01mfor\u001b[39;00m _ \u001b[38;5;129;01min\u001b[39;00m \u001b[38;5;28mrange\u001b[39m(n)]\n",
      "\u001b[0;31mValueError\u001b[0m: not enough values to unpack (expected 2, got 0)"
     ]
    }
   ],
   "source": [
    "m, n = map(int, input().split())\n",
    "box = [list(map(int, input().split())) for _ in range(n)]\n",
    "\n",
    "queue = deque()\n",
    "for i in range(n):\n",
    "    for j in range(m):\n",
    "        if box[i][j] == 1:\n",
    "            queue.append((i, j, 0))\n",
    "\n",
    "dx = [-1, 1, 0, 0]            \n",
    "dy = [0, 0, -1, 1]\n",
    "\n",
    "while queue:\n",
    "    x, y, days = queue.popleft()\n",
    "    \n",
    "    for i in range(4):\n",
    "        nx = x + dx[i]\n",
    "        ny = y + dy[i]\n",
    "        ndays = days + 1\n",
    "        \n",
    "        if 0 <= nx < n and 0 <= ny < m:\n",
    "            if box[nx][ny] == 0:\n",
    "                box[nx][ny] == 1\n",
    "                queue.append((nx, ny, ndays))\n",
    "\n",
    "for i in range(n):\n",
    "    if box[i].count(0):\n",
    "        days = -1\n",
    "        break\n",
    "print(days)        \n",
    "\n"
   ]
  },
  {
   "cell_type": "code",
   "execution_count": 6,
   "id": "d1a38805",
   "metadata": {},
   "outputs": [],
   "source": [
    "#4963"
   ]
  },
  {
   "cell_type": "code",
   "execution_count": 7,
   "id": "57f54eb4",
   "metadata": {},
   "outputs": [],
   "source": [
    "#dfs"
   ]
  },
  {
   "cell_type": "code",
   "execution_count": 8,
   "id": "75059f0c",
   "metadata": {},
   "outputs": [
    {
     "ename": "ValueError",
     "evalue": "not enough values to unpack (expected 2, got 0)",
     "output_type": "error",
     "traceback": [
      "\u001b[0;31m---------------------------------------------------------------------------\u001b[0m",
      "\u001b[0;31mValueError\u001b[0m                                Traceback (most recent call last)",
      "Cell \u001b[0;32mIn [8], line 17\u001b[0m\n\u001b[1;32m     14\u001b[0m       dfs(nx, ny)\n\u001b[1;32m     16\u001b[0m \u001b[38;5;28;01mwhile\u001b[39;00m \u001b[38;5;28;01mTrue\u001b[39;00m:\n\u001b[0;32m---> 17\u001b[0m   w, h \u001b[38;5;241m=\u001b[39m \u001b[38;5;28mmap\u001b[39m(\u001b[38;5;28mint\u001b[39m, read()\u001b[38;5;241m.\u001b[39msplit())\n\u001b[1;32m     18\u001b[0m   \u001b[38;5;28;01mif\u001b[39;00m w \u001b[38;5;241m==\u001b[39m \u001b[38;5;241m0\u001b[39m \u001b[38;5;129;01mand\u001b[39;00m h \u001b[38;5;241m==\u001b[39m \u001b[38;5;241m0\u001b[39m:\n\u001b[1;32m     19\u001b[0m     \u001b[38;5;28;01mbreak\u001b[39;00m\n",
      "\u001b[0;31mValueError\u001b[0m: not enough values to unpack (expected 2, got 0)"
     ]
    }
   ],
   "source": [
    "import sys\n",
    "read = sys.stdin.readline\n",
    "sys.setrecursionlimit(10000)\n",
    "\n",
    "def dfs(x, y):\n",
    "  dx = [1, 1, -1, -1, 1, -1, 0, 0]\n",
    "  dy = [0, 1, 0, 1, -1, -1, 1, -1]\n",
    "\n",
    "  field[x][y] = 0\n",
    "  for i in range(8):\n",
    "    nx = x + dx[i]\n",
    "    ny = y + dy[i]\n",
    "    if 0 <= nx < h and 0 <= ny < w and field[nx][ny] == 1:\n",
    "      dfs(nx, ny)\n",
    "\n",
    "\n",
    "while True:\n",
    "  w, h = map(int, read().split())\n",
    "  if w == 0 and h == 0:\n",
    "    break\n",
    "  field = []\n",
    "  count = 0\n",
    "  for _ in range(h):\n",
    "    field.append(list(map(int, read().split())))\n",
    "  for i in range(h):\n",
    "    for j in range(w):\n",
    "      if field[i][j] == 1:\n",
    "        dfs(i, j)\n",
    "        count += 1\n",
    "  \n",
    "  print(count)"
   ]
  },
  {
   "cell_type": "code",
   "execution_count": 9,
   "id": "855b0ebf",
   "metadata": {},
   "outputs": [],
   "source": [
    "#bfs"
   ]
  },
  {
   "cell_type": "code",
   "execution_count": 10,
   "id": "23670938",
   "metadata": {},
   "outputs": [
    {
     "ename": "ValueError",
     "evalue": "not enough values to unpack (expected 2, got 0)",
     "output_type": "error",
     "traceback": [
      "\u001b[0;31m---------------------------------------------------------------------------\u001b[0m",
      "\u001b[0;31mValueError\u001b[0m                                Traceback (most recent call last)",
      "Cell \u001b[0;32mIn [10], line 21\u001b[0m\n\u001b[1;32m     18\u001b[0m         q\u001b[38;5;241m.\u001b[39mappend([nx, ny])\n\u001b[1;32m     20\u001b[0m \u001b[38;5;28;01mwhile\u001b[39;00m \u001b[38;5;28;01mTrue\u001b[39;00m:\n\u001b[0;32m---> 21\u001b[0m   w, h \u001b[38;5;241m=\u001b[39m \u001b[38;5;28mmap\u001b[39m(\u001b[38;5;28mint\u001b[39m, read()\u001b[38;5;241m.\u001b[39msplit())\n\u001b[1;32m     22\u001b[0m   \u001b[38;5;28;01mif\u001b[39;00m w \u001b[38;5;241m==\u001b[39m \u001b[38;5;241m0\u001b[39m \u001b[38;5;129;01mand\u001b[39;00m h \u001b[38;5;241m==\u001b[39m \u001b[38;5;241m0\u001b[39m:\n\u001b[1;32m     23\u001b[0m     \u001b[38;5;28;01mbreak\u001b[39;00m\n",
      "\u001b[0;31mValueError\u001b[0m: not enough values to unpack (expected 2, got 0)"
     ]
    }
   ],
   "source": [
    "from collections import deque\n",
    "import sys\n",
    "read = sys.stdin.readline\n",
    "\n",
    "def bfs(x, y):\n",
    "  dx = [1, -1, 0, 0, 1, -1, 1, -1]\n",
    "  dy = [0, 0, -1, 1, -1, 1, 1, -1]\n",
    "  field[x][y] = 0\n",
    "  q = deque()\n",
    "  q.append([x, y])\n",
    "  while q:\n",
    "    a, b = q.popleft()\n",
    "    for i in range(8):\n",
    "      nx = a + dx[i]\n",
    "      ny = b + dy[i]\n",
    "      if 0 <= nx < h and 0 <= ny < w and field[nx][ny] == 1:\n",
    "        field[nx][ny] = 0\n",
    "        q.append([nx, ny])\n",
    "\n",
    "while True:\n",
    "  w, h = map(int, read().split())\n",
    "  if w == 0 and h == 0:\n",
    "    break\n",
    "  field = []\n",
    "  count = 0\n",
    "  for _ in range(h):\n",
    "    field.append(list(map(int, read().split())))\n",
    "  for i in range(h):\n",
    "    for j in range(w):\n",
    "      if field[i][j] == 1:\n",
    "        bfs(i, j)\n",
    "        count += 1\n",
    "  print(count)"
   ]
  },
  {
   "cell_type": "code",
   "execution_count": null,
   "id": "f32a5424",
   "metadata": {},
   "outputs": [],
   "source": []
  }
 ],
 "metadata": {
  "kernelspec": {
   "display_name": "Python 3 (ipykernel)",
   "language": "python",
   "name": "python3"
  },
  "language_info": {
   "codemirror_mode": {
    "name": "ipython",
    "version": 3
   },
   "file_extension": ".py",
   "mimetype": "text/x-python",
   "name": "python",
   "nbconvert_exporter": "python",
   "pygments_lexer": "ipython3",
   "version": "3.9.7"
  }
 },
 "nbformat": 4,
 "nbformat_minor": 5
}

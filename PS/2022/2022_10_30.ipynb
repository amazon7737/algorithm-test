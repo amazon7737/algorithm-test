{
 "cells": [
  {
   "cell_type": "code",
   "execution_count": 1,
   "id": "6cdc2ff1",
   "metadata": {},
   "outputs": [],
   "source": [
    "#2609\n"
   ]
  },
  {
   "cell_type": "code",
   "execution_count": 2,
   "id": "fdb50e45",
   "metadata": {},
   "outputs": [
    {
     "name": "stdout",
     "output_type": "stream",
     "text": [
      "24 18\n"
     ]
    }
   ],
   "source": [
    "a, b = map(int,input().split())"
   ]
  },
  {
   "cell_type": "code",
   "execution_count": 3,
   "id": "b784053f",
   "metadata": {},
   "outputs": [],
   "source": [
    "answer = []"
   ]
  },
  {
   "cell_type": "code",
   "execution_count": 4,
   "id": "ad30feb4",
   "metadata": {},
   "outputs": [],
   "source": [
    "for i in range(min(a, b), 0, -1):\n",
    "    if a%i ==0 and b%i == 0:\n",
    "        answer.append(i)\n",
    "        break\n",
    "    \n",
    "for i in range(max(a, b), a*b+1):\n",
    "    if i%a == 0 and i%b == 0:\n",
    "        answer.append(i)\n",
    "        break\n",
    "\n",
    "        "
   ]
  },
  {
   "cell_type": "code",
   "execution_count": 6,
   "id": "df7d9a1c",
   "metadata": {},
   "outputs": [
    {
     "name": "stdout",
     "output_type": "stream",
     "text": [
      "6\n",
      "72\n"
     ]
    }
   ],
   "source": [
    "\n",
    "print(answer[0])\n",
    "print(answer[1])"
   ]
  },
  {
   "cell_type": "code",
   "execution_count": null,
   "id": "a1be5354",
   "metadata": {},
   "outputs": [],
   "source": []
  },
  {
   "cell_type": "code",
   "execution_count": 7,
   "id": "42953936",
   "metadata": {},
   "outputs": [],
   "source": [
    "#1934"
   ]
  },
  {
   "cell_type": "code",
   "execution_count": 1,
   "id": "1497ef99",
   "metadata": {},
   "outputs": [
    {
     "name": "stdout",
     "output_type": "stream",
     "text": [
      "3\n"
     ]
    }
   ],
   "source": [
    "t = int(input())"
   ]
  },
  {
   "cell_type": "code",
   "execution_count": 2,
   "id": "37dece96",
   "metadata": {},
   "outputs": [],
   "source": [
    "answer = []"
   ]
  },
  {
   "cell_type": "code",
   "execution_count": 3,
   "id": "39233e5a",
   "metadata": {},
   "outputs": [
    {
     "name": "stdout",
     "output_type": "stream",
     "text": [
      "1 45000\n",
      "6 10\n",
      "13 17\n"
     ]
    }
   ],
   "source": [
    "for _ in range(t):\n",
    "    a, b = map(int,input().split())\n",
    "    for i in range(max(a, b), a*b+1):\n",
    "        if i%a == 0 and i%b == 0:\n",
    "            answer.append(i)\n",
    "            break\n"
   ]
  },
  {
   "cell_type": "code",
   "execution_count": 4,
   "id": "367d4bc7",
   "metadata": {},
   "outputs": [
    {
     "name": "stdout",
     "output_type": "stream",
     "text": [
      "45000\n",
      "30\n",
      "221\n"
     ]
    }
   ],
   "source": [
    "for i in range(t):\n",
    "    print(answer[i])"
   ]
  },
  {
   "cell_type": "code",
   "execution_count": 5,
   "id": "0630118f",
   "metadata": {},
   "outputs": [
    {
     "data": {
      "text/plain": [
       "[45000, 30, 221]"
      ]
     },
     "execution_count": 5,
     "metadata": {},
     "output_type": "execute_result"
    }
   ],
   "source": [
    "answer"
   ]
  },
  {
   "cell_type": "code",
   "execution_count": 6,
   "id": "5b8931e7",
   "metadata": {},
   "outputs": [],
   "source": [
    "def function():\n",
    "    t = int(input())\n",
    "    for _ in range(t):\n",
    "        a, b = map(int,input().split())\n",
    "    for i in range(max(a, b), a*b+1):\n",
    "        if i%a == 0 and i%b == 0:\n",
    "            answer.append(i)\n",
    "            print(answer[i])\n",
    "            break\n",
    "            \n",
    "    \n",
    "        "
   ]
  },
  {
   "cell_type": "code",
   "execution_count": 7,
   "id": "8e402e6b",
   "metadata": {},
   "outputs": [
    {
     "name": "stdout",
     "output_type": "stream",
     "text": [
      "3\n"
     ]
    }
   ],
   "source": [
    "t = int(input())"
   ]
  },
  {
   "cell_type": "code",
   "execution_count": 8,
   "id": "81a09f8d",
   "metadata": {},
   "outputs": [],
   "source": [
    "def gcd(a, b):\n",
    "    if b==0:\n",
    "        return a\n",
    "    else:\n",
    "        return gcd(b, a%b)\n"
   ]
  },
  {
   "cell_type": "code",
   "execution_count": 11,
   "id": "6bd69ceb",
   "metadata": {},
   "outputs": [
    {
     "name": "stdout",
     "output_type": "stream",
     "text": [
      "1 45000\n",
      "45000\n",
      "6 10\n",
      "30\n",
      "13 17\n",
      "221\n"
     ]
    }
   ],
   "source": [
    "for _ in range(t):\n",
    "    a, b = map(int, input().split())\n",
    "    g = gcd(a,b)\n",
    "    print(int(g*(a/g)*(b/g)))"
   ]
  },
  {
   "cell_type": "code",
   "execution_count": 14,
   "id": "dfdd22cb",
   "metadata": {
    "scrolled": true
   },
   "outputs": [
    {
     "name": "stdout",
     "output_type": "stream",
     "text": [
      "6 10\n",
      "a:  2\n",
      "gcd:  None\n",
      "gcd:  None\n",
      "gcd:  None\n",
      "gcd:  None\n"
     ]
    }
   ],
   "source": [
    "a, b = map(int, input().split())\n",
    "g = gcd(a, b)\n",
    "# print(\"g: \", g)"
   ]
  },
  {
   "cell_type": "code",
   "execution_count": 13,
   "id": "f33df0a8",
   "metadata": {},
   "outputs": [],
   "source": [
    "def gcd(a, b):\n",
    "    if b==0:\n",
    "        print(\"a: \", a)\n",
    "    else:\n",
    "        print(\"gcd: \", gcd(b, a%b))\n",
    "        \n",
    "    "
   ]
  },
  {
   "cell_type": "code",
   "execution_count": 8,
   "id": "65b15d9d",
   "metadata": {
    "scrolled": true
   },
   "outputs": [
    {
     "name": "stdout",
     "output_type": "stream",
     "text": [
      "b:  10\n",
      "a%b:  6\n",
      "2\n",
      "None\n",
      "None\n",
      "None\n",
      "gcd:  None\n"
     ]
    }
   ],
   "source": [
    "if b==0:\n",
    "    print(a)\n",
    "else:\n",
    "    print(\"b: \", b)\n",
    "    print(\"a%b: \", a%b)\n",
    "    print(\"gcd: \", gcd(b, a%b))"
   ]
  },
  {
   "cell_type": "code",
   "execution_count": 9,
   "id": "e55018e7",
   "metadata": {},
   "outputs": [
    {
     "ename": "TypeError",
     "evalue": "unsupported operand type(s) for /: 'int' and 'NoneType'",
     "output_type": "error",
     "traceback": [
      "\u001b[0;31m---------------------------------------------------------------------------\u001b[0m",
      "\u001b[0;31mTypeError\u001b[0m                                 Traceback (most recent call last)",
      "Cell \u001b[0;32mIn [9], line 1\u001b[0m\n\u001b[0;32m----> 1\u001b[0m \u001b[38;5;28mprint\u001b[39m(\u001b[38;5;124m\"\u001b[39m\u001b[38;5;124mg\u001b[39m\u001b[38;5;124m%\u001b[39m\u001b[38;5;124m(a/g)*(b/g)\u001b[39m\u001b[38;5;124m\"\u001b[39m, \u001b[38;5;28mint\u001b[39m(g\u001b[38;5;241m*\u001b[39m(a\u001b[38;5;241m/\u001b[39mg)\u001b[38;5;241m*\u001b[39m(b\u001b[38;5;241m/\u001b[39mg)))\n",
      "\u001b[0;31mTypeError\u001b[0m: unsupported operand type(s) for /: 'int' and 'NoneType'"
     ]
    }
   ],
   "source": [
    "print(\"g%(a/g)*(b/g)\", int(g*(a/g)*(b/g)))"
   ]
  },
  {
   "cell_type": "code",
   "execution_count": 15,
   "id": "38ef37eb",
   "metadata": {},
   "outputs": [],
   "source": [
    "#1850"
   ]
  },
  {
   "cell_type": "code",
   "execution_count": 16,
   "id": "0f0f8fc0",
   "metadata": {},
   "outputs": [
    {
     "name": "stdout",
     "output_type": "stream",
     "text": [
      "3 4\n"
     ]
    }
   ],
   "source": [
    "a, b = map(int,input().split())"
   ]
  },
  {
   "cell_type": "code",
   "execution_count": 17,
   "id": "582357cb",
   "metadata": {},
   "outputs": [],
   "source": [
    "answer = []"
   ]
  },
  {
   "cell_type": "code",
   "execution_count": 18,
   "id": "b3ed84cd",
   "metadata": {},
   "outputs": [],
   "source": [
    "for i in range(min(a, b), 0, -1):\n",
    "    if a%i ==0 and b%i == 0:\n",
    "        answer.append(i)\n",
    "        break"
   ]
  },
  {
   "cell_type": "code",
   "execution_count": 19,
   "id": "68dbbfc8",
   "metadata": {},
   "outputs": [
    {
     "data": {
      "text/plain": [
       "[1]"
      ]
     },
     "execution_count": 19,
     "metadata": {},
     "output_type": "execute_result"
    }
   ],
   "source": [
    "answer"
   ]
  },
  {
   "cell_type": "code",
   "execution_count": 20,
   "id": "e79db23c",
   "metadata": {},
   "outputs": [
    {
     "name": "stdout",
     "output_type": "stream",
     "text": [
      "[1]\n"
     ]
    }
   ],
   "source": [
    "print(answer)"
   ]
  },
  {
   "cell_type": "code",
   "execution_count": 21,
   "id": "83ed58a0",
   "metadata": {},
   "outputs": [],
   "source": [
    "def function():\n",
    "    a, b = map(int,input().split())\n",
    "    answer = []\n",
    "    for i in range(min(a, b), 0, -1):\n",
    "        if a%i ==0 and b%i == 0:\n",
    "            answer.append(i)\n",
    "            break\n",
    "    \n",
    "    print(answer)"
   ]
  },
  {
   "cell_type": "code",
   "execution_count": 25,
   "id": "1820825c",
   "metadata": {},
   "outputs": [],
   "source": [
    "#1850 정답"
   ]
  },
  {
   "cell_type": "code",
   "execution_count": 22,
   "id": "d5b0dd4c",
   "metadata": {},
   "outputs": [],
   "source": [
    "import math"
   ]
  },
  {
   "cell_type": "code",
   "execution_count": 24,
   "id": "684281e3",
   "metadata": {},
   "outputs": [
    {
     "name": "stdout",
     "output_type": "stream",
     "text": [
      "3 4\n",
      "1"
     ]
    }
   ],
   "source": [
    "a,b = map(int,input().split())\n",
    "\n",
    "c = math.gcd(a, b)\n",
    "\n",
    "for _ in range(c):\n",
    "    print(\"1\", end = \"\")\n",
    "    "
   ]
  },
  {
   "cell_type": "code",
   "execution_count": 26,
   "id": "b6cc2b79",
   "metadata": {},
   "outputs": [],
   "source": [
    "#10820\n"
   ]
  },
  {
   "cell_type": "code",
   "execution_count": null,
   "id": "d71c3284",
   "metadata": {},
   "outputs": [],
   "source": []
  }
 ],
 "metadata": {
  "kernelspec": {
   "display_name": "Python 3 (ipykernel)",
   "language": "python",
   "name": "python3"
  },
  "language_info": {
   "codemirror_mode": {
    "name": "ipython",
    "version": 3
   },
   "file_extension": ".py",
   "mimetype": "text/x-python",
   "name": "python",
   "nbconvert_exporter": "python",
   "pygments_lexer": "ipython3",
   "version": "3.9.7"
  }
 },
 "nbformat": 4,
 "nbformat_minor": 5
}

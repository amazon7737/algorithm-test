{
 "cells": [
  {
   "cell_type": "code",
   "execution_count": 2,
   "id": "083b18aa",
   "metadata": {},
   "outputs": [],
   "source": [
    "#2011"
   ]
  },
  {
   "cell_type": "code",
   "execution_count": 1,
   "id": "b21e9058",
   "metadata": {},
   "outputs": [
    {
     "name": "stdout",
     "output_type": "stream",
     "text": [
      "25114\n",
      "6\n"
     ]
    }
   ],
   "source": [
    "a = list(map(int, list(input())))\n",
    "l = len(a)\n",
    " \n",
    "# dp[i] : i번째 수 단계에서 암호 코드의 개수\n",
    "dp = [0] * (l+1)\n",
    " \n",
    "if a[0] == 0: # 암호 만들 수 없는 경우\n",
    "    print(0)\n",
    "else :\n",
    "    a = [0] + a # 인덱싱을 위해 추가한 0\n",
    "    dp[0] = 1\n",
    "    dp[1] = 1 # 첫번째 수로 이뤄진 암호코드는 1개이다.\n",
    " \n",
    "    for i in range(2, l+1):\n",
    "        cur = a[i] # 한 자리\n",
    "        cur2 = a[i-1] * 10 + a[i] # 두 자리\n",
    "        if cur >= 1 and cur <= 9:\n",
    "            dp[i] += dp[i-1]\n",
    "        if cur2 >= 10 and cur2 <= 26:\n",
    "            dp[i] += dp[i-2]\n",
    "        dp[i] %= 1000000\n",
    " \n",
    " \n",
    "    print(dp[l])"
   ]
  },
  {
   "cell_type": "code",
   "execution_count": 4,
   "id": "5badb445",
   "metadata": {},
   "outputs": [],
   "source": [
    "#2751 수 정렬하기 2"
   ]
  },
  {
   "cell_type": "code",
   "execution_count": 5,
   "id": "29308b7f",
   "metadata": {},
   "outputs": [
    {
     "name": "stdout",
     "output_type": "stream",
     "text": [
      "5\n"
     ]
    }
   ],
   "source": [
    "n = int(input())"
   ]
  },
  {
   "cell_type": "code",
   "execution_count": 17,
   "id": "2e639301",
   "metadata": {},
   "outputs": [],
   "source": [
    "a = [0]*n"
   ]
  },
  {
   "cell_type": "code",
   "execution_count": 19,
   "id": "2340d5b6",
   "metadata": {},
   "outputs": [
    {
     "name": "stdout",
     "output_type": "stream",
     "text": [
      "5\n",
      "4\n",
      "3\n",
      "2\n",
      "1\n"
     ]
    }
   ],
   "source": [
    "for i in range(n):\n",
    "    b = int(input())\n",
    "    a[i] = b"
   ]
  },
  {
   "cell_type": "code",
   "execution_count": 24,
   "id": "6d8e451e",
   "metadata": {},
   "outputs": [
    {
     "name": "stdout",
     "output_type": "stream",
     "text": [
      "1\n",
      "2\n",
      "3\n",
      "4\n",
      "5\n"
     ]
    }
   ],
   "source": [
    "a.sort(reverse = False)\n",
    "for i in range(n):\n",
    "    \n",
    "    print(a[i])"
   ]
  },
  {
   "cell_type": "code",
   "execution_count": 20,
   "id": "644b2be4",
   "metadata": {},
   "outputs": [
    {
     "data": {
      "text/plain": [
       "[5, 4, 3, 2, 1]"
      ]
     },
     "execution_count": 20,
     "metadata": {},
     "output_type": "execute_result"
    }
   ],
   "source": [
    "a"
   ]
  },
  {
   "cell_type": "code",
   "execution_count": 25,
   "id": "5fbed76b",
   "metadata": {},
   "outputs": [],
   "source": [
    "#11650"
   ]
  },
  {
   "cell_type": "code",
   "execution_count": 26,
   "id": "ceaa862f",
   "metadata": {},
   "outputs": [
    {
     "name": "stdout",
     "output_type": "stream",
     "text": [
      "5\n"
     ]
    }
   ],
   "source": [
    "n = int(input())"
   ]
  },
  {
   "cell_type": "code",
   "execution_count": 36,
   "id": "a8fe1824",
   "metadata": {},
   "outputs": [
    {
     "name": "stdout",
     "output_type": "stream",
     "text": [
      "1 -1\n"
     ]
    }
   ],
   "source": [
    "a = list(map(int, input().split()))"
   ]
  },
  {
   "cell_type": "code",
   "execution_count": 33,
   "id": "7ed2ab58",
   "metadata": {},
   "outputs": [
    {
     "data": {
      "text/plain": [
       "[1, 1]"
      ]
     },
     "execution_count": 33,
     "metadata": {},
     "output_type": "execute_result"
    }
   ],
   "source": [
    "a"
   ]
  },
  {
   "cell_type": "code",
   "execution_count": 43,
   "id": "da5af494",
   "metadata": {},
   "outputs": [],
   "source": [
    "b = []\n",
    "c = []"
   ]
  },
  {
   "cell_type": "code",
   "execution_count": 34,
   "id": "65fad709",
   "metadata": {},
   "outputs": [],
   "source": [
    "\n",
    "b.append(a[0])\n",
    "c.append(a[1])"
   ]
  },
  {
   "cell_type": "code",
   "execution_count": 46,
   "id": "77d401c1",
   "metadata": {},
   "outputs": [
    {
     "data": {
      "text/plain": [
       "[3, 1, 1, 2, 3]"
      ]
     },
     "execution_count": 46,
     "metadata": {},
     "output_type": "execute_result"
    }
   ],
   "source": [
    "b"
   ]
  },
  {
   "cell_type": "code",
   "execution_count": 44,
   "id": "57f35642",
   "metadata": {},
   "outputs": [
    {
     "name": "stdout",
     "output_type": "stream",
     "text": [
      "3 4\n",
      "1 1\n",
      "1 -1\n",
      "2 2\n",
      "3 3\n"
     ]
    }
   ],
   "source": [
    "for i in range(n):\n",
    "    a = list(map(int, input().split()))\n",
    "    b.append(a[0])\n",
    "    c.append(a[1])"
   ]
  },
  {
   "cell_type": "code",
   "execution_count": 45,
   "id": "fd859953",
   "metadata": {},
   "outputs": [
    {
     "data": {
      "text/plain": [
       "[4, 1, -1, 2, 3]"
      ]
     },
     "execution_count": 45,
     "metadata": {},
     "output_type": "execute_result"
    }
   ],
   "source": [
    "c"
   ]
  },
  {
   "cell_type": "code",
   "execution_count": 47,
   "id": "90f48bc4",
   "metadata": {},
   "outputs": [],
   "source": [
    "b.sort()"
   ]
  },
  {
   "cell_type": "code",
   "execution_count": 49,
   "id": "194c663b",
   "metadata": {},
   "outputs": [],
   "source": [
    "c.sort()"
   ]
  },
  {
   "cell_type": "code",
   "execution_count": 50,
   "id": "1e3de9d0",
   "metadata": {},
   "outputs": [
    {
     "name": "stdout",
     "output_type": "stream",
     "text": [
      "1   -1\n",
      "1   1\n",
      "2   2\n",
      "3   3\n",
      "3   4\n"
     ]
    }
   ],
   "source": [
    "for i in range(n):\n",
    "    print(b[i], \" \", c[i])"
   ]
  },
  {
   "cell_type": "code",
   "execution_count": 72,
   "id": "1bcc0284",
   "metadata": {},
   "outputs": [],
   "source": [
    "b = [[0]*2]*n"
   ]
  },
  {
   "cell_type": "code",
   "execution_count": 79,
   "id": "f8e43024",
   "metadata": {},
   "outputs": [
    {
     "data": {
      "text/plain": [
       "[[1, 0], [1, 0], [1, 0], [1, 0], [1, 0]]"
      ]
     },
     "execution_count": 79,
     "metadata": {},
     "output_type": "execute_result"
    }
   ],
   "source": [
    "b"
   ]
  },
  {
   "cell_type": "code",
   "execution_count": 84,
   "id": "4916b699",
   "metadata": {},
   "outputs": [
    {
     "name": "stdout",
     "output_type": "stream",
     "text": [
      "3 4\n",
      "1 1\n",
      "1 -1\n",
      "2 2\n"
     ]
    },
    {
     "ename": "IndexError",
     "evalue": "list index out of range",
     "output_type": "error",
     "traceback": [
      "\u001b[0;31m---------------------------------------------------------------------------\u001b[0m",
      "\u001b[0;31mIndexError\u001b[0m                                Traceback (most recent call last)",
      "Input \u001b[0;32mIn [84]\u001b[0m, in \u001b[0;36m<cell line: 1>\u001b[0;34m()\u001b[0m\n\u001b[1;32m      2\u001b[0m a \u001b[38;5;241m=\u001b[39m \u001b[38;5;28mlist\u001b[39m(\u001b[38;5;28mmap\u001b[39m(\u001b[38;5;28mint\u001b[39m, \u001b[38;5;28minput\u001b[39m()\u001b[38;5;241m.\u001b[39msplit()))\n\u001b[1;32m      3\u001b[0m \u001b[38;5;28;01mfor\u001b[39;00m j \u001b[38;5;129;01min\u001b[39;00m \u001b[38;5;28mrange\u001b[39m(i):    \n\u001b[0;32m----> 4\u001b[0m     b[i][j] \u001b[38;5;241m=\u001b[39m \u001b[43ma\u001b[49m\u001b[43m[\u001b[49m\u001b[43mj\u001b[49m\u001b[43m]\u001b[49m\n",
      "\u001b[0;31mIndexError\u001b[0m: list index out of range"
     ]
    }
   ],
   "source": [
    "for i in range(n):\n",
    "    a = list(map(int, input().split()))\n",
    "    b.append()\n",
    "        "
   ]
  },
  {
   "cell_type": "code",
   "execution_count": null,
   "id": "72a1e382",
   "metadata": {},
   "outputs": [],
   "source": []
  },
  {
   "cell_type": "code",
   "execution_count": 85,
   "id": "e4629855",
   "metadata": {},
   "outputs": [
    {
     "data": {
      "text/plain": [
       "[[2, 2], [2, 2], [2, 2], [2, 2], [2, 2]]"
      ]
     },
     "execution_count": 85,
     "metadata": {},
     "output_type": "execute_result"
    }
   ],
   "source": [
    "b"
   ]
  },
  {
   "cell_type": "code",
   "execution_count": 1,
   "id": "1e54d942",
   "metadata": {},
   "outputs": [],
   "source": [
    "import sys"
   ]
  },
  {
   "cell_type": "code",
   "execution_count": 3,
   "id": "ec502110",
   "metadata": {},
   "outputs": [
    {
     "name": "stdout",
     "output_type": "stream",
     "text": [
      "5\n"
     ]
    }
   ],
   "source": [
    "n = int(input())"
   ]
  },
  {
   "cell_type": "code",
   "execution_count": 4,
   "id": "fc656726",
   "metadata": {},
   "outputs": [],
   "source": [
    "so = []"
   ]
  },
  {
   "cell_type": "code",
   "execution_count": 5,
   "id": "10c5d3c1",
   "metadata": {},
   "outputs": [
    {
     "name": "stdout",
     "output_type": "stream",
     "text": [
      "3 4\n",
      "1 1\n",
      "1 -1\n",
      "2 2\n",
      "3 3\n"
     ]
    }
   ],
   "source": [
    "for i in range(n):\n",
    "    so.append(list(map(int, input().split())))"
   ]
  },
  {
   "cell_type": "code",
   "execution_count": 6,
   "id": "1d966ef8",
   "metadata": {},
   "outputs": [],
   "source": [
    "so.sort(key=lambda x: (x[0], x[1]))"
   ]
  },
  {
   "cell_type": "code",
   "execution_count": 7,
   "id": "58a98453",
   "metadata": {},
   "outputs": [
    {
     "name": "stdout",
     "output_type": "stream",
     "text": [
      "1 -1\n",
      "1 1\n",
      "2 2\n",
      "3 3\n",
      "3 4\n"
     ]
    }
   ],
   "source": [
    "for i in so:\n",
    "    print(i[0], i[1])"
   ]
  },
  {
   "cell_type": "code",
   "execution_count": 8,
   "id": "8e8ca898",
   "metadata": {},
   "outputs": [
    {
     "ename": "NameError",
     "evalue": "name 'x' is not defined",
     "output_type": "error",
     "traceback": [
      "\u001b[0;31m---------------------------------------------------------------------------\u001b[0m",
      "\u001b[0;31mNameError\u001b[0m                                 Traceback (most recent call last)",
      "Input \u001b[0;32mIn [8]\u001b[0m, in \u001b[0;36m<cell line: 1>\u001b[0;34m()\u001b[0m\n\u001b[0;32m----> 1\u001b[0m \u001b[43mx\u001b[49m\n",
      "\u001b[0;31mNameError\u001b[0m: name 'x' is not defined"
     ]
    }
   ],
   "source": []
  },
  {
   "cell_type": "code",
   "execution_count": null,
   "id": "773298b4",
   "metadata": {},
   "outputs": [],
   "source": []
  }
 ],
 "metadata": {
  "kernelspec": {
   "display_name": "Python 3 (ipykernel)",
   "language": "python",
   "name": "python3"
  },
  "language_info": {
   "codemirror_mode": {
    "name": "ipython",
    "version": 3
   },
   "file_extension": ".py",
   "mimetype": "text/x-python",
   "name": "python",
   "nbconvert_exporter": "python",
   "pygments_lexer": "ipython3",
   "version": "3.8.13"
  }
 },
 "nbformat": 4,
 "nbformat_minor": 5
}

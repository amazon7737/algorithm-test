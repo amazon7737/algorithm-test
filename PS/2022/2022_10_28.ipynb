{
 "cells": [
  {
   "cell_type": "code",
   "execution_count": 4,
   "id": "2ee86b6f",
   "metadata": {},
   "outputs": [],
   "source": [
    "#1406"
   ]
  },
  {
   "cell_type": "code",
   "execution_count": null,
   "id": "fa70c802",
   "metadata": {},
   "outputs": [],
   "source": [
    "import sys\n",
    "\n",
    "stack_l = list(input())\n",
    "stack_r = []\n",
    "n = int(input())\n",
    "\n",
    "for i in range(n):\n",
    "    command = sys.stdin.readline().split()\n",
    "\n",
    "    if command[0] == \"L\" and stack_l:\n",
    "        stack_r.append(stack_l.pop())\n",
    "    elif command[0] == \"D\" and stack_r:\n",
    "        stack_l.append(stack_r.pop())\n",
    "    elif command[0] == \"B\" and stack_l:\n",
    "        stack_l.pop()\n",
    "    elif command[0] == \"P\":\n",
    "        stack_l.append(command[1])\n",
    "\n",
    "print(\"\".join(stack_l + list(reversed(stack_r))))\n"
   ]
  },
  {
   "cell_type": "code",
   "execution_count": 3,
   "id": "7fe84138",
   "metadata": {},
   "outputs": [],
   "source": [
    "#1158"
   ]
  },
  {
   "cell_type": "code",
   "execution_count": 5,
   "id": "a1e0a3f3",
   "metadata": {},
   "outputs": [
    {
     "name": "stdout",
     "output_type": "stream",
     "text": [
      "7 3\n"
     ]
    }
   ],
   "source": [
    "n , k = list(map(int, input().split()))"
   ]
  },
  {
   "cell_type": "code",
   "execution_count": 7,
   "id": "59c1d062",
   "metadata": {},
   "outputs": [
    {
     "data": {
      "text/plain": [
       "3"
      ]
     },
     "execution_count": 7,
     "metadata": {},
     "output_type": "execute_result"
    }
   ],
   "source": [
    "# 1번 ~ 7번까지 7명의 사람이 원을 이루면서 앉아있고, 양의 정수 3이 주어진다.\n"
   ]
  },
  {
   "cell_type": "code",
   "execution_count": 8,
   "id": "e838bcc1",
   "metadata": {},
   "outputs": [],
   "source": [
    "# 3번째 사람을 제거\n",
    "\n",
    "# 1 - 2 - 3 - 4 - 5 - 6 - 7\n",
    "\n",
    "#         v\n",
    "\n",
    "# 1 - 2 - 4 - 5 - 6 - 7\n",
    "\n",
    "# 3 6 - 3\n",
    "# 2 7 - 5\n",
    "# 5 1 - 4"
   ]
  },
  {
   "cell_type": "code",
   "execution_count": 9,
   "id": "398ea5f0",
   "metadata": {},
   "outputs": [
    {
     "ename": "ValueError",
     "evalue": "not enough values to unpack (expected 2, got 0)",
     "output_type": "error",
     "traceback": [
      "\u001b[0;31m---------------------------------------------------------------------------\u001b[0m",
      "\u001b[0;31mValueError\u001b[0m                                Traceback (most recent call last)",
      "Cell \u001b[0;32mIn [9], line 14\u001b[0m\n\u001b[1;32m     11\u001b[0m     \u001b[38;5;28;01mreturn\u001b[39;00m result\n\u001b[1;32m     13\u001b[0m \u001b[38;5;28;01mif\u001b[39;00m \u001b[38;5;18m__name__\u001b[39m \u001b[38;5;241m==\u001b[39m \u001b[38;5;124m\"\u001b[39m\u001b[38;5;124m__main__\u001b[39m\u001b[38;5;124m\"\u001b[39m:\n\u001b[0;32m---> 14\u001b[0m     n, k \u001b[38;5;241m=\u001b[39m \u001b[38;5;28mlist\u001b[39m(\u001b[38;5;28mmap\u001b[39m(\u001b[38;5;28mint\u001b[39m, sys\u001b[38;5;241m.\u001b[39mstdin\u001b[38;5;241m.\u001b[39mreadline()\u001b[38;5;241m.\u001b[39msplit()))\n\u001b[1;32m     15\u001b[0m     result \u001b[38;5;241m=\u001b[39m function(n, k)\n\u001b[1;32m     16\u001b[0m     \u001b[38;5;28;01mfor\u001b[39;00m i \u001b[38;5;129;01min\u001b[39;00m \u001b[38;5;28mrange\u001b[39m(\u001b[38;5;28mlen\u001b[39m(result)):\n",
      "\u001b[0;31mValueError\u001b[0m: not enough values to unpack (expected 2, got 0)"
     ]
    }
   ],
   "source": [
    "import sys\n",
    "\n",
    "def function(n , k):\n",
    "    queue = [i for i in range(1, n+1)]\n",
    "    index = 0;\n",
    "    result = []\n",
    "    while len(queue) > 0:\n",
    "        index = (index + k-1) % len(queue)\n",
    "        result.append(queue[index])\n",
    "        queue.pop(index)\n",
    "    return result\n",
    "\n",
    "if __name__ == \"__main__\":\n",
    "    n, k = list(map(int, sys.stdin.readline().split()))\n",
    "    result = function(n, k)\n",
    "    for i in range(len(result)):\n",
    "        if i == 0:\n",
    "            print(\"<{}\".format(result[i]) , end = '')\n",
    "        else:\n",
    "            print(\", {}\".format(result[i]), end='')\n",
    "    print(\">\")"
   ]
  },
  {
   "cell_type": "code",
   "execution_count": null,
   "id": "7874cafa",
   "metadata": {},
   "outputs": [],
   "source": []
  }
 ],
 "metadata": {
  "kernelspec": {
   "display_name": "Python 3 (ipykernel)",
   "language": "python",
   "name": "python3"
  },
  "language_info": {
   "codemirror_mode": {
    "name": "ipython",
    "version": 3
   },
   "file_extension": ".py",
   "mimetype": "text/x-python",
   "name": "python",
   "nbconvert_exporter": "python",
   "pygments_lexer": "ipython3",
   "version": "3.9.7"
  }
 },
 "nbformat": 4,
 "nbformat_minor": 5
}

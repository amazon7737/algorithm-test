{
 "cells": [
  {
   "cell_type": "code",
   "execution_count": 10,
   "id": "44b8b6c0",
   "metadata": {},
   "outputs": [],
   "source": [
    "#https://leeiopd.tistory.com/entry/%EC%A2%85%EB%A7%8C%EB%B6%81-%EC%86%8C%EC%88%98-%ED%8C%90%EB%B3%84-ON-05-%EC%A0%95%EC%88%98%EB%A1%A0-Python-%ED%8C%8C%EC%9D%B4%EC%8D%AC"
   ]
  },
  {
   "cell_type": "code",
   "execution_count": 6,
   "id": "4e47008c",
   "metadata": {},
   "outputs": [],
   "source": [
    "#소수 판별 알고리즘"
   ]
  },
  {
   "cell_type": "code",
   "execution_count": 8,
   "id": "3444a116",
   "metadata": {},
   "outputs": [],
   "source": [
    "def isPrime(n):\n",
    "    if (n <= 1):\n",
    "        return False\n",
    "    if (n<=2):\n",
    "        return True\n",
    "    \n",
    "    if not(n%2):\n",
    "        return False\n",
    "    \n",
    "    # 합성수 n = p * q 일때, p <= (n ** 0.5) && q >= (n ** 0.5) 이므로,\n",
    "    # (n ** 0.5) 까지 순회하는 것으로 합성수 판별이 가능하다.\n",
    "    sqrtn = int(n ** 0.5)\n",
    "    \n",
    "    for div in range(3, sqrtn+1, 2):\n",
    "        if not (n % div):\n",
    "            return False\n",
    "    return True\n"
   ]
  },
  {
   "cell_type": "code",
   "execution_count": 9,
   "id": "599d2b94",
   "metadata": {},
   "outputs": [
    {
     "name": "stdout",
     "output_type": "stream",
     "text": [
      "False\n"
     ]
    }
   ],
   "source": [
    "print(isPrime(14))"
   ]
  },
  {
   "cell_type": "code",
   "execution_count": 1,
   "id": "772003ae",
   "metadata": {},
   "outputs": [],
   "source": [
    "#에라토스테네스의 체\n"
   ]
  },
  {
   "cell_type": "code",
   "execution_count": 11,
   "id": "99651faf",
   "metadata": {},
   "outputs": [],
   "source": [
    "# int n;\n",
    "# bool is Prime[MAX_N+1];\n",
    "# // 가장 단순한 형태의 에라토스테네스의 체 구현\n",
    "# // 종료한 뒤 isPrime[i] = i 가 소수인가?\n",
    "\n",
    "# void eratosthenes() {\n",
    "#     memset(isPrime, 1, sizeof(isPrime));\n",
    "#     // 1은 항상 예외 처리!\n",
    "#     isPrime[0] = isPrime[1] = false;\n",
    "#     int sqrtn = int(sqrt(n));\n",
    "#     for(int i = 2; i <= sqrtn; ++i)\n",
    "#         //이 수가 아직 지워지지 않았다면\n",
    "#         if(isPrime[i])\n",
    "#             //i의 배수 j들에 대해 isPrime[j] = false로 둔다.\n",
    "#     // i * i 미만의 배수는 이미 지워졌으므로 신경 쓰지 않는다.\n",
    "#             for(int j = i*i; j<=n; j += i)\n",
    "#                 isPrime[j] = false;\n",
    "# }"
   ]
  },
  {
   "cell_type": "code",
   "execution_count": 12,
   "id": "57b4a345",
   "metadata": {},
   "outputs": [],
   "source": [
    "n = 0"
   ]
  },
  {
   "cell_type": "code",
   "execution_count": 16,
   "id": "66c823b4",
   "metadata": {},
   "outputs": [],
   "source": [
    "def eratosthenes(n):\n",
    "    nums = [1] *(n+1)\n",
    "    \n",
    "    nums[0] = 0; nums[1] = 0\n",
    "    print(\"nums: \", nums)\n",
    "    sqrtn = int(n ** 0.5)\n",
    "    print(\"sqrtn: \", sqrtn)\n",
    "    for i in range(sqrtn+1):\n",
    "        if nums[i]:\n",
    "            # (i+i = 2*i) 는 2의 배수를 지울 때, 3*i는 3의 배수를 지울때 지워졌을 것이므로,\n",
    "            # i * i 부터 탐색\n",
    "            \n",
    "            for j in range(i*i, n+1, i):\n",
    "                nums[j] = 0\n",
    "    return nums\n",
    "\n"
   ]
  },
  {
   "cell_type": "code",
   "execution_count": 17,
   "id": "f27dac7b",
   "metadata": {},
   "outputs": [
    {
     "name": "stdout",
     "output_type": "stream",
     "text": [
      "nums:  [0, 0, 1, 1, 1, 1, 1, 1, 1, 1, 1]\n",
      "sqrtn:  3\n",
      "[0, 0, 1, 1, 0, 1, 0, 1, 0, 0, 0]\n"
     ]
    }
   ],
   "source": [
    "print(eratosthenes(10))"
   ]
  },
  {
   "cell_type": "code",
   "execution_count": 41,
   "id": "dfef3930",
   "metadata": {},
   "outputs": [],
   "source": [
    "# 예제: 에라토스테네스의 체를 이용한 빠른 소인수 분해"
   ]
  },
  {
   "cell_type": "code",
   "execution_count": 29,
   "id": "db974041",
   "metadata": {},
   "outputs": [],
   "source": [
    "n = 10"
   ]
  },
  {
   "cell_type": "code",
   "execution_count": 33,
   "id": "f77ca11d",
   "metadata": {},
   "outputs": [],
   "source": [
    "arr = [1] *(n+1)"
   ]
  },
  {
   "cell_type": "code",
   "execution_count": 35,
   "id": "ac4f69f2",
   "metadata": {
    "scrolled": true
   },
   "outputs": [],
   "source": [
    "for i in range(2, n+1, 1):\n",
    "    arr[i] = i"
   ]
  },
  {
   "cell_type": "code",
   "execution_count": 36,
   "id": "fac494c9",
   "metadata": {},
   "outputs": [
    {
     "data": {
      "text/plain": [
       "[1, 1, 2, 3, 4, 5, 6, 7, 8, 9, 10]"
      ]
     },
     "execution_count": 36,
     "metadata": {},
     "output_type": "execute_result"
    }
   ],
   "source": [
    "arr"
   ]
  },
  {
   "cell_type": "code",
   "execution_count": 37,
   "id": "de442847",
   "metadata": {},
   "outputs": [],
   "source": [
    "sqrtn = int(n ** 0.5)"
   ]
  },
  {
   "cell_type": "code",
   "execution_count": 39,
   "id": "e3f89b47",
   "metadata": {},
   "outputs": [],
   "source": [
    "for i in range(2, sqrtn+1, 1):\n",
    "    if arr[i] == i:\n",
    "        for j in range(i*i, n+1, i):\n",
    "            if arr[j] == j:\n",
    "                arr[j] = i"
   ]
  },
  {
   "cell_type": "code",
   "execution_count": 40,
   "id": "6a8b13d2",
   "metadata": {
    "scrolled": true
   },
   "outputs": [
    {
     "data": {
      "text/plain": [
       "[1, 1, 2, 3, 2, 5, 2, 7, 2, 3, 2]"
      ]
     },
     "execution_count": 40,
     "metadata": {},
     "output_type": "execute_result"
    }
   ],
   "source": [
    "arr"
   ]
  },
  {
   "cell_type": "code",
   "execution_count": 43,
   "id": "93ca0eb6",
   "metadata": {},
   "outputs": [],
   "source": [
    "def eratosthenes2(n):\n",
    "    arr = [1] * (n+1)\n",
    "    \n",
    "    for i in range(2, n+1, 1):\n",
    "        arr[i] = i\n",
    "    \n",
    "    arr[0] = 0\n",
    "    arr[1] = 0\n",
    "    \n",
    "    sqrtn = int(n**0.5)\n",
    "    \n",
    "    for i in range(2, sqrtn+1):\n",
    "        if arr[i] == i:\n",
    "            # 가장 작은 소인수를 기록하여 최적화\n",
    "            for j in range(i*i, n+1, i):\n",
    "                if arr[j] == j:\n",
    "                    arr[j] =i\n",
    "                    \n",
    "    # arr 의 인자는 각 숫자의 소인수 분해를 위한 정보로 사용\n",
    "    return arr\n"
   ]
  },
  {
   "cell_type": "code",
   "execution_count": 42,
   "id": "3b75e8d0",
   "metadata": {},
   "outputs": [],
   "source": [
    "# 참고 이것만 모르겟다 \n",
    "#https://leeiopd.tistory.com/entry/%EC%A2%85%EB%A7%8C%EB%B6%81-%EB%B9%A0%EB%A5%B8-%EC%86%8C%EC%9D%B8%EC%88%98-%EB%B6%84%ED%95%B4-%EC%97%90%EB%9D%BC%ED%86%A0%EC%8A%A4%ED%85%8C%EB%84%A4%EC%8A%A4%EC%9D%98-%EC%B2%B4-%EC%82%AC%EC%9A%A9-%EC%A0%95%EC%88%98%EB%A1%A0-Python-%ED%8C%8C%EC%9D%B4%EC%8D%AC"
   ]
  },
  {
   "cell_type": "code",
   "execution_count": 44,
   "id": "66800e9c",
   "metadata": {},
   "outputs": [],
   "source": [
    "def factor(n):\n",
    "    global nums\n",
    "    \n",
    "    ret = []\n",
    "    \n",
    "    while(n>1):\n",
    "        ret.append(nums[n])\n",
    "        n //= nums[n]\n",
    "    return ret\n",
    "\n",
    "n = 28\n",
    "\n",
    "# n 이하의 숫자들의 최소 소수\n",
    "nums = eratosthenes2(n)\n",
    "\n",
    "# n 이하의 숫자들의 최소 소수들을 이용하여 소인수 분해 진행"
   ]
  },
  {
   "cell_type": "code",
   "execution_count": null,
   "id": "a752ddcb",
   "metadata": {},
   "outputs": [],
   "source": []
  }
 ],
 "metadata": {
  "kernelspec": {
   "display_name": "Python 3 (ipykernel)",
   "language": "python",
   "name": "python3"
  },
  "language_info": {
   "codemirror_mode": {
    "name": "ipython",
    "version": 3
   },
   "file_extension": ".py",
   "mimetype": "text/x-python",
   "name": "python",
   "nbconvert_exporter": "python",
   "pygments_lexer": "ipython3",
   "version": "3.9.7"
  }
 },
 "nbformat": 4,
 "nbformat_minor": 5
}

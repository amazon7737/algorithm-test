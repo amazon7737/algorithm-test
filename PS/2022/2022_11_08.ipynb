{
 "cells": [
  {
   "cell_type": "code",
   "execution_count": 1,
   "id": "1fe35615",
   "metadata": {},
   "outputs": [],
   "source": [
    "#2331"
   ]
  },
  {
   "cell_type": "code",
   "execution_count": 3,
   "id": "e2135981",
   "metadata": {},
   "outputs": [
    {
     "name": "stdout",
     "output_type": "stream",
     "text": [
      "57 2\n"
     ]
    }
   ],
   "source": [
    "a, p = map(int, input().split())"
   ]
  },
  {
   "cell_type": "code",
   "execution_count": 13,
   "id": "95a6398b",
   "metadata": {},
   "outputs": [],
   "source": [
    "tmp = str(a)"
   ]
  },
  {
   "cell_type": "code",
   "execution_count": 14,
   "id": "8a958972",
   "metadata": {},
   "outputs": [],
   "source": [
    "arr = []"
   ]
  },
  {
   "cell_type": "code",
   "execution_count": 15,
   "id": "d0fcb55b",
   "metadata": {},
   "outputs": [],
   "source": [
    "arr.append(a)"
   ]
  },
  {
   "cell_type": "code",
   "execution_count": 66,
   "id": "c0d5fb41",
   "metadata": {},
   "outputs": [],
   "source": [
    "# arr.append(int(tmp[0])**p + int(tmp[1])**p)"
   ]
  },
  {
   "cell_type": "code",
   "execution_count": 10,
   "id": "0fa0d653",
   "metadata": {},
   "outputs": [
    {
     "data": {
      "text/plain": [
       "str"
      ]
     },
     "execution_count": 10,
     "metadata": {},
     "output_type": "execute_result"
    }
   ],
   "source": [
    "# type(tmp[0])"
   ]
  },
  {
   "cell_type": "code",
   "execution_count": 21,
   "id": "aafdbe43",
   "metadata": {},
   "outputs": [
    {
     "data": {
      "text/plain": [
       "[57, 74, 65, 61, 37, 58, 89, 145, 42, 20, 4, 16]"
      ]
     },
     "execution_count": 21,
     "metadata": {},
     "output_type": "execute_result"
    }
   ],
   "source": [
    "arr"
   ]
  },
  {
   "cell_type": "code",
   "execution_count": 17,
   "id": "779aeb2c",
   "metadata": {},
   "outputs": [
    {
     "data": {
      "text/plain": [
       "'57'"
      ]
     },
     "execution_count": 17,
     "metadata": {},
     "output_type": "execute_result"
    }
   ],
   "source": [
    "tmp"
   ]
  },
  {
   "cell_type": "code",
   "execution_count": 9,
   "id": "7ac2800a",
   "metadata": {},
   "outputs": [],
   "source": [
    "tmp2 = 0"
   ]
  },
  {
   "cell_type": "code",
   "execution_count": 20,
   "id": "ce963bc9",
   "metadata": {
    "scrolled": true
   },
   "outputs": [
    {
     "data": {
      "text/plain": [
       "37"
      ]
     },
     "execution_count": 20,
     "metadata": {},
     "output_type": "execute_result"
    }
   ],
   "source": [
    "tmp2"
   ]
  },
  {
   "cell_type": "code",
   "execution_count": 19,
   "id": "567d0069",
   "metadata": {},
   "outputs": [],
   "source": [
    "while True:\n",
    "    for i in range(len(tmp)):\n",
    "        \n",
    "        tmp2 += (int(tmp[i])**p)\n",
    "    \n",
    "    if tmp2 in arr:\n",
    "        break\n",
    "    else:\n",
    "        arr.append(tmp2)\n",
    "    tmp = str(tmp2)\n",
    "    tmp2 = 0\n",
    "    \n",
    "    "
   ]
  },
  {
   "cell_type": "code",
   "execution_count": 12,
   "id": "090b2dbb",
   "metadata": {},
   "outputs": [
    {
     "name": "stdout",
     "output_type": "stream",
     "text": [
      "{89, 65, 4, 37, 74, 42, 16, 145, 20, 57, 58, 61}\n"
     ]
    }
   ],
   "source": [
    "print(set(arr))"
   ]
  },
  {
   "cell_type": "code",
   "execution_count": 89,
   "id": "477844b3",
   "metadata": {},
   "outputs": [
    {
     "data": {
      "text/plain": [
       "int"
      ]
     },
     "execution_count": 89,
     "metadata": {},
     "output_type": "execute_result"
    }
   ],
   "source": [
    "type(tmp)"
   ]
  },
  {
   "cell_type": "code",
   "execution_count": 36,
   "id": "c581b9c0",
   "metadata": {},
   "outputs": [],
   "source": [
    "def function():\n",
    "    a, p = map(int, input().split())\n",
    "    tmp = str(a)\n",
    "    arr = []\n",
    "    arr.append(a)\n",
    "    tmp2 = 0\n",
    "    for i in range(len(tmp)):\n",
    "        arr.append((int(tmp[i])**p))\n"
   ]
  },
  {
   "cell_type": "code",
   "execution_count": 35,
   "id": "ce93db85",
   "metadata": {},
   "outputs": [
    {
     "name": "stdout",
     "output_type": "stream",
     "text": [
      "57 2\n",
      "74\n"
     ]
    }
   ],
   "source": [
    "function()"
   ]
  },
  {
   "cell_type": "code",
   "execution_count": 37,
   "id": "5eb730a9",
   "metadata": {},
   "outputs": [
    {
     "data": {
      "text/plain": [
       "[500]"
      ]
     },
     "execution_count": 37,
     "metadata": {},
     "output_type": "execute_result"
    }
   ],
   "source": [
    "arr"
   ]
  },
  {
   "cell_type": "code",
   "execution_count": 22,
   "id": "c84c4f54",
   "metadata": {},
   "outputs": [
    {
     "ename": "ValueError",
     "evalue": "not enough values to unpack (expected 2, got 0)",
     "output_type": "error",
     "traceback": [
      "\u001b[0;31m---------------------------------------------------------------------------\u001b[0m",
      "\u001b[0;31mValueError\u001b[0m                                Traceback (most recent call last)",
      "Cell \u001b[0;32mIn [22], line 3\u001b[0m\n\u001b[1;32m      1\u001b[0m \u001b[38;5;28;01mfrom\u001b[39;00m \u001b[38;5;21;01msys\u001b[39;00m \u001b[38;5;28;01mimport\u001b[39;00m stdin\n\u001b[0;32m----> 3\u001b[0m A, P \u001b[38;5;241m=\u001b[39m \u001b[38;5;28mmap\u001b[39m(\u001b[38;5;28mint\u001b[39m, stdin\u001b[38;5;241m.\u001b[39mreadline()\u001b[38;5;241m.\u001b[39msplit())\n\u001b[1;32m      4\u001b[0m check \u001b[38;5;241m=\u001b[39m [A]\n\u001b[1;32m      6\u001b[0m \u001b[38;5;28;01mwhile\u001b[39;00m \u001b[38;5;28;01mTrue\u001b[39;00m:\n",
      "\u001b[0;31mValueError\u001b[0m: not enough values to unpack (expected 2, got 0)"
     ]
    }
   ],
   "source": [
    "from sys import stdin\n",
    "\n",
    "A, P = map(int, stdin.readline().split())\n",
    "check = [A]\n",
    "\n",
    "while True:\n",
    "    new = 0\n",
    "    for i in (str(check[-1])):\n",
    "        new += int(i) ** P\n",
    "    if new in check:\n",
    "        while True:\n",
    "            if new == check.pop():\n",
    "                print(len(check))\n",
    "                exit()\n",
    "    else:\n",
    "        check.append(new)"
   ]
  },
  {
   "cell_type": "code",
   "execution_count": 1,
   "id": "a42cc623",
   "metadata": {},
   "outputs": [],
   "source": [
    "#9466"
   ]
  },
  {
   "cell_type": "code",
   "execution_count": 3,
   "id": "c30e82d1",
   "metadata": {},
   "outputs": [
    {
     "name": "stdout",
     "output_type": "stream",
     "text": [
      "2\n",
      "7\n",
      "3 1 3 7 3 4 6\n",
      "3\n",
      "8\n",
      "1 2 3 4 5 6 7 8\n",
      "0\n"
     ]
    }
   ],
   "source": [
    "t = int(input())\n",
    "\n",
    "for _ in range(t):\n",
    "    n = int(input())\n",
    "    picks = [0] + list(map(int, input().split()))\n",
    "    \n",
    "    visited = [0] * (n+1)\n",
    "    res = 0\n",
    "    \n",
    "    for i in range(1, n+1):\n",
    "        if visited[i]:\n",
    "            continue\n",
    "        f = i\n",
    "        loop = [f]\n",
    "        visited[f] = 1\n",
    "        while True:\n",
    "            t = picks[f]\n",
    "            if visited[t]:\n",
    "                break\n",
    "            f = t\n",
    "            loop.append(f)\n",
    "            visited[f] = 1\n",
    "        \n",
    "        if loop and t in loop:\n",
    "            res += len(loop[loop.index(t):])\n",
    "    print(n - res)\n",
    "    \n",
    "        \n",
    "        "
   ]
  },
  {
   "cell_type": "code",
   "execution_count": null,
   "id": "34b5c86d",
   "metadata": {},
   "outputs": [],
   "source": []
  }
 ],
 "metadata": {
  "kernelspec": {
   "display_name": "Python 3 (ipykernel)",
   "language": "python",
   "name": "python3"
  },
  "language_info": {
   "codemirror_mode": {
    "name": "ipython",
    "version": 3
   },
   "file_extension": ".py",
   "mimetype": "text/x-python",
   "name": "python",
   "nbconvert_exporter": "python",
   "pygments_lexer": "ipython3",
   "version": "3.9.7"
  }
 },
 "nbformat": 4,
 "nbformat_minor": 5
}

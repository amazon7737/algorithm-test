{
 "cells": [
  {
   "cell_type": "code",
   "execution_count": 15,
   "id": "99b37bc5",
   "metadata": {},
   "outputs": [],
   "source": [
    "#9012"
   ]
  },
  {
   "cell_type": "code",
   "execution_count": 1,
   "id": "6b2d808e",
   "metadata": {},
   "outputs": [
    {
     "name": "stdout",
     "output_type": "stream",
     "text": [
      "6\n"
     ]
    }
   ],
   "source": [
    "t = int(input())"
   ]
  },
  {
   "cell_type": "code",
   "execution_count": 12,
   "id": "3fdc55c7",
   "metadata": {},
   "outputs": [
    {
     "name": "stdout",
     "output_type": "stream",
     "text": [
      "(()())((()))\n"
     ]
    }
   ],
   "source": [
    "\n",
    "m = list(map(str, input()))"
   ]
  },
  {
   "cell_type": "code",
   "execution_count": 3,
   "id": "0d0437df",
   "metadata": {},
   "outputs": [
    {
     "data": {
      "text/plain": [
       "['(', '(', ')', ')', '(', ')', ')']"
      ]
     },
     "execution_count": 3,
     "metadata": {},
     "output_type": "execute_result"
    }
   ],
   "source": [
    "m"
   ]
  },
  {
   "cell_type": "code",
   "execution_count": 1,
   "id": "e8e6cd18",
   "metadata": {},
   "outputs": [],
   "source": [
    "count = 0"
   ]
  },
  {
   "cell_type": "code",
   "execution_count": 14,
   "id": "6d1c4b6d",
   "metadata": {},
   "outputs": [
    {
     "name": "stdout",
     "output_type": "stream",
     "text": [
      "YES\n"
     ]
    }
   ],
   "source": [
    "for i in range(len(m)):\n",
    "    if m[i] == \"(\":\n",
    "        count += 1\n",
    "    if m[i] == \")\":\n",
    "        count -= 1\n",
    "\n",
    "if count != 0:\n",
    "    print(\"NO\")\n",
    "else:\n",
    "    print(\"YES\")"
   ]
  },
  {
   "cell_type": "code",
   "execution_count": 7,
   "id": "e2c0bcb7",
   "metadata": {},
   "outputs": [
    {
     "data": {
      "text/plain": [
       "-1"
      ]
     },
     "execution_count": 7,
     "metadata": {},
     "output_type": "execute_result"
    }
   ],
   "source": [
    "count"
   ]
  },
  {
   "cell_type": "code",
   "execution_count": 3,
   "id": "07b9b07e",
   "metadata": {},
   "outputs": [
    {
     "name": "stdout",
     "output_type": "stream",
     "text": [
      "6\n",
      "(())())\n",
      "NO\n",
      "(((()())()\n",
      "NO\n",
      "(()())((()))\n",
      "YES\n",
      "((()()(()))(((())))()\n",
      "NO\n",
      "()()()()(()()())()\n",
      "YES\n",
      "(()((())()(\n",
      "NO\n"
     ]
    }
   ],
   "source": [
    "#실패\n",
    "\n",
    "T = int(input())\n",
    "for j in range(t):\n",
    "    \n",
    "    m = list(map(str, input()))\n",
    "    count = 0\n",
    "    for i in range(len(m)):\n",
    "        if m[i] == \"(\":\n",
    "            count += 1\n",
    "        if m[i] == \")\":\n",
    "            count -= 1\n",
    "\n",
    "    if count != 0:\n",
    "        print(\"NO\")\n",
    "    else:\n",
    "        print(\"YES\")\n"
   ]
  },
  {
   "cell_type": "code",
   "execution_count": 2,
   "id": "068f5e2d",
   "metadata": {},
   "outputs": [
    {
     "name": "stdout",
     "output_type": "stream",
     "text": [
      "3\n",
      "(()())((()))\n",
      "()()()()(()()())()\n",
      "\n",
      "YES\n"
     ]
    }
   ],
   "source": [
    "#\n",
    "\n",
    "T = int(input())\n",
    "\n",
    "for i in range(t):\n",
    "    m = list(input())\n",
    "    \n",
    "    while len(m) != 0:\n",
    "        if m[0] == ')':\n",
    "            print(\"NO\")\n",
    "            break\n",
    "        else:\n",
    "            if ')' in m:\n",
    "                m.remove(')')\n",
    "                m.remove('(')\n",
    "\n",
    "            else:\n",
    "                print(\"NO\")\n",
    "                break\n",
    "                \n",
    "if len(m) == 0:\n",
    "    print(\"YES\")\n",
    "    "
   ]
  },
  {
   "cell_type": "code",
   "execution_count": 4,
   "id": "2517e75b",
   "metadata": {},
   "outputs": [
    {
     "name": "stdout",
     "output_type": "stream",
     "text": [
      "6\n",
      "(())())\n",
      "NO\n",
      "(((()())()\n",
      "NO\n",
      "(()())((()))\n",
      "YES\n",
      "((()()(()))(((())))()\n",
      "NO\n",
      "()()()()(()()())()\n",
      "YES\n",
      "(()((())()(\n",
      "NO\n"
     ]
    }
   ],
   "source": [
    "T = int(input())\n",
    "\n",
    "for i in range(T):\n",
    "    ps = list(input())\n",
    "    \n",
    "    while len(ps) != 0:\n",
    "        if ps[0] == ')':\n",
    "            print('NO')\n",
    "            break\n",
    "        else:\n",
    "            if ')' in ps:\n",
    "                ps.remove(')')\n",
    "                ps.remove('(')\n",
    "            else:\n",
    "                print(\"NO\")\n",
    "                break\n",
    "    if len(ps)==0:\n",
    "        print(\"YES\")"
   ]
  },
  {
   "cell_type": "code",
   "execution_count": 5,
   "id": "346eeb17",
   "metadata": {},
   "outputs": [
    {
     "name": "stdout",
     "output_type": "stream",
     "text": [
      "6\n"
     ]
    }
   ],
   "source": [
    "T = int(input())"
   ]
  },
  {
   "cell_type": "code",
   "execution_count": 11,
   "id": "a3b94042",
   "metadata": {},
   "outputs": [
    {
     "name": "stdout",
     "output_type": "stream",
     "text": [
      ")))))\n"
     ]
    }
   ],
   "source": [
    "ps = list(input())"
   ]
  },
  {
   "cell_type": "code",
   "execution_count": 7,
   "id": "2e075c66",
   "metadata": {},
   "outputs": [
    {
     "data": {
      "text/plain": [
       "['(', '(', ')', ')', '(', ')', ')']"
      ]
     },
     "execution_count": 7,
     "metadata": {},
     "output_type": "execute_result"
    }
   ],
   "source": [
    "ps"
   ]
  },
  {
   "cell_type": "code",
   "execution_count": 8,
   "id": "8839b710",
   "metadata": {},
   "outputs": [
    {
     "data": {
      "text/plain": [
       "'('"
      ]
     },
     "execution_count": 8,
     "metadata": {},
     "output_type": "execute_result"
    }
   ],
   "source": [
    "if ps[0] == ')':\n",
    "    print(\"No\")\n",
    "    break\n",
    "else:\n",
    "    if ')' in ps"
   ]
  },
  {
   "cell_type": "code",
   "execution_count": 12,
   "id": "f0446f0d",
   "metadata": {},
   "outputs": [
    {
     "data": {
      "text/plain": [
       "True"
      ]
     },
     "execution_count": 12,
     "metadata": {},
     "output_type": "execute_result"
    }
   ],
   "source": [
    "')' in ps"
   ]
  },
  {
   "cell_type": "code",
   "execution_count": 13,
   "id": "a157def1",
   "metadata": {},
   "outputs": [
    {
     "ename": "ValueError",
     "evalue": "list.remove(x): x not in list",
     "output_type": "error",
     "traceback": [
      "\u001b[0;31m---------------------------------------------------------------------------\u001b[0m",
      "\u001b[0;31mValueError\u001b[0m                                Traceback (most recent call last)",
      "Cell \u001b[0;32mIn [13], line 1\u001b[0m\n\u001b[0;32m----> 1\u001b[0m ps\u001b[38;5;241m.\u001b[39mremove(\u001b[38;5;124m'\u001b[39m\u001b[38;5;124m(\u001b[39m\u001b[38;5;124m'\u001b[39m)\n",
      "\u001b[0;31mValueError\u001b[0m: list.remove(x): x not in list"
     ]
    }
   ],
   "source": [
    "ps.remove('(')"
   ]
  },
  {
   "cell_type": "code",
   "execution_count": 14,
   "id": "843cad67",
   "metadata": {},
   "outputs": [
    {
     "data": {
      "text/plain": [
       "5"
      ]
     },
     "execution_count": 14,
     "metadata": {},
     "output_type": "execute_result"
    }
   ],
   "source": [
    "len(ps)"
   ]
  },
  {
   "cell_type": "code",
   "execution_count": 16,
   "id": "4c0a9cbf",
   "metadata": {},
   "outputs": [],
   "source": [
    "#10799"
   ]
  },
  {
   "cell_type": "code",
   "execution_count": 31,
   "id": "b0cf3fbf",
   "metadata": {},
   "outputs": [],
   "source": [
    "count_1 = 0"
   ]
  },
  {
   "cell_type": "code",
   "execution_count": 32,
   "id": "7d08cee7",
   "metadata": {},
   "outputs": [],
   "source": [
    "count_2 = 0"
   ]
  },
  {
   "cell_type": "code",
   "execution_count": 33,
   "id": "46749bfb",
   "metadata": {},
   "outputs": [
    {
     "name": "stdout",
     "output_type": "stream",
     "text": [
      "()(((()())(())()))(())\n"
     ]
    }
   ],
   "source": [
    "b = list(input())"
   ]
  },
  {
   "cell_type": "code",
   "execution_count": 34,
   "id": "bbff5e09",
   "metadata": {},
   "outputs": [],
   "source": [
    "for i in range(len(b)):\n",
    "    if b[i] == '(':\n",
    "        count_1 += 1\n",
    "    if b[i] == ')':\n",
    "        count_2 += 1\n"
   ]
  },
  {
   "cell_type": "code",
   "execution_count": 35,
   "id": "aad0c96f",
   "metadata": {},
   "outputs": [
    {
     "data": {
      "text/plain": [
       "11"
      ]
     },
     "execution_count": 35,
     "metadata": {},
     "output_type": "execute_result"
    }
   ],
   "source": [
    "count_1"
   ]
  },
  {
   "cell_type": "code",
   "execution_count": 36,
   "id": "1c965792",
   "metadata": {},
   "outputs": [
    {
     "data": {
      "text/plain": [
       "11"
      ]
     },
     "execution_count": 36,
     "metadata": {},
     "output_type": "execute_result"
    }
   ],
   "source": [
    "count_2"
   ]
  },
  {
   "cell_type": "code",
   "execution_count": 37,
   "id": "8de38d26",
   "metadata": {},
   "outputs": [
    {
     "name": "stdout",
     "output_type": "stream",
     "text": [
      "\n",
      "0\n"
     ]
    }
   ],
   "source": [
    "#1\n",
    "def iron_bar(word):\n",
    "    stack = []\n",
    "    result = 0\n",
    "    \n",
    "    for x in range(len(word)):\n",
    "        if word[x] == '(':\n",
    "            stack.append(work[x])\n",
    "        else:\n",
    "            if word[x-1] == '(':\n",
    "                stack.pop()\n",
    "                result += len(stack)\n",
    "            else:\n",
    "                stack.pop()\n",
    "                result += 1\n",
    "    return result\n",
    "\n",
    "if __name__ == '__main__':\n",
    "    print(iron_bar(str(input())))"
   ]
  },
  {
   "cell_type": "code",
   "execution_count": 38,
   "id": "317ff4a8",
   "metadata": {},
   "outputs": [
    {
     "name": "stdout",
     "output_type": "stream",
     "text": [
      "\n",
      "0\n"
     ]
    }
   ],
   "source": [
    "#2\n",
    "def iron_bar(word):\n",
    "    stack = []\n",
    "    result = 0\n",
    "    \n",
    "    for x in range(len(word)):\n",
    "        if word[x] == '(' :\n",
    "            stack.append(work[x])\n",
    "        else:\n",
    "            if word[x-1] == '(':\n",
    "                stack.pop()\n",
    "                result += len(stack)\n",
    "            else:\n",
    "                stack.pop()\n",
    "                result += 1\n",
    "    return result\n",
    "\n",
    "if __name__ == '__main__':\n",
    "    print(iron_bar(str(input())))\n",
    "    "
   ]
  },
  {
   "cell_type": "code",
   "execution_count": 39,
   "id": "cfa4c707",
   "metadata": {},
   "outputs": [
    {
     "name": "stdout",
     "output_type": "stream",
     "text": [
      "\n",
      "0\n"
     ]
    }
   ],
   "source": [
    "#3\n",
    "def iron_bar(word):\n",
    "    stack = []\n",
    "    result = 0\n",
    "    \n",
    "    for x in range(len(word)):\n",
    "        if word[x] == '(':\n",
    "            stack.append(word[x])\n",
    "        else:\n",
    "            if word[x-1] == '(':\n",
    "                stack.pop()\n",
    "                result += len(stack)\n",
    "            else:\n",
    "                stack.pop()\n",
    "                result += 1\n",
    "    return result\n",
    "\n",
    "if __name__ == '__main__':\n",
    "    print(iron_bar(str(input())))"
   ]
  },
  {
   "cell_type": "code",
   "execution_count": 40,
   "id": "c05e476c",
   "metadata": {},
   "outputs": [
    {
     "name": "stdout",
     "output_type": "stream",
     "text": [
      "\n",
      "0\n"
     ]
    }
   ],
   "source": [
    "#4\n",
    "\n",
    "def iron_bar(word):\n",
    "    stack = []\n",
    "    result = 0\n",
    "    \n",
    "    for x in range(len(word)):\n",
    "        if word[x] == '(':\n",
    "            stack.append(word[x])\n",
    "        else:\n",
    "            if word[x-1] == '(':\n",
    "                stack.pop()\n",
    "                result += len(stack)\n",
    "            else:\n",
    "                stack.pop()\n",
    "                result += 1\n",
    "    return result\n",
    "\n",
    "if __name__ == '__main__':\n",
    "    print(iron_bar(str(input())))\n",
    "    \n",
    "    "
   ]
  },
  {
   "cell_type": "code",
   "execution_count": 41,
   "id": "0444ba42",
   "metadata": {},
   "outputs": [
    {
     "name": "stdout",
     "output_type": "stream",
     "text": [
      "\n",
      "0\n"
     ]
    }
   ],
   "source": [
    "#5\n",
    "\n",
    "def iron_bar(word):\n",
    "    stack = []\n",
    "    result = 0\n",
    "    \n",
    "    for x in range(len(word)):\n",
    "        if word[x] == '(':\n",
    "            stack.append(word[x])\n",
    "        else:\n",
    "            if word[x-1] == '(':\n",
    "                stack.pop()\n",
    "                result += len(stack)\n",
    "            else:\n",
    "                stack.pop()\n",
    "                result += 1\n",
    "    return result\n",
    "\n",
    "if __name__ == '__main__':\n",
    "    print(iron_bar(str(input())))\n",
    "    \n",
    "    "
   ]
  },
  {
   "cell_type": "code",
   "execution_count": 42,
   "id": "33f97dd0",
   "metadata": {},
   "outputs": [
    {
     "name": "stdout",
     "output_type": "stream",
     "text": [
      "\n",
      "0\n"
     ]
    }
   ],
   "source": [
    "#6\n",
    "\n",
    "def iron_bar(word):\n",
    "    stack = []\n",
    "    result = 0\n",
    "    \n",
    "    for x in range(len(word)):\n",
    "        if word[x] == '(':\n",
    "            stack.append(word[x])\n",
    "        else:\n",
    "            if word[x-1] == '(':\n",
    "                stack.pop()\n",
    "                result += len(stack)\n",
    "            else:\n",
    "                stack.pop()\n",
    "                result += 1\n",
    "    return result\n",
    "\n",
    "if __name__ == '__main__':\n",
    "    print(iron_bar(str(input())))"
   ]
  },
  {
   "cell_type": "code",
   "execution_count": 43,
   "id": "49c304e1",
   "metadata": {},
   "outputs": [
    {
     "name": "stdout",
     "output_type": "stream",
     "text": [
      "\n",
      "0\n"
     ]
    }
   ],
   "source": [
    "#7\n",
    "\n",
    "def iron_bar(word):\n",
    "    stack = []\n",
    "    result = 0\n",
    "    \n",
    "    for x in range(len(word)):\n",
    "        if word[x] == '(':\n",
    "            stack.append(word[x])\n",
    "        else:\n",
    "            if word[x-1] == '(':\n",
    "                stack.pop()\n",
    "                result += len(stack)\n",
    "            else:\n",
    "                stack.pop()\n",
    "                result += 1\n",
    "    return result\n",
    "\n",
    "\n",
    "if __name__ == '__main__':\n",
    "    print(iron_bar(str(input())))\n",
    "    \n",
    "    "
   ]
  },
  {
   "cell_type": "code",
   "execution_count": 1,
   "id": "aad788d3",
   "metadata": {},
   "outputs": [
    {
     "name": "stdout",
     "output_type": "stream",
     "text": [
      "15\n"
     ]
    }
   ],
   "source": [
    "n = int(input())"
   ]
  },
  {
   "cell_type": "code",
   "execution_count": 2,
   "id": "17a27e75",
   "metadata": {},
   "outputs": [],
   "source": [
    "from collections import deque"
   ]
  },
  {
   "cell_type": "code",
   "execution_count": 3,
   "id": "e71b4dc1",
   "metadata": {},
   "outputs": [],
   "source": [
    "arr = []"
   ]
  },
  {
   "cell_type": "code",
   "execution_count": 12,
   "id": "e58a81cc",
   "metadata": {},
   "outputs": [],
   "source": [
    "def push(queue, x):\n",
    "    queue.appendleft(x)"
   ]
  },
  {
   "cell_type": "code",
   "execution_count": 13,
   "id": "c1e6defb",
   "metadata": {},
   "outputs": [],
   "source": [
    "def pop():\n",
    "#     temp = arr[0]\n",
    "#     arr.pop()\n",
    "#     return temp\n",
    "    if not queue:\n",
    "        print(-1)\n",
    "    else:\n",
    "        pritn(queue[-1])\n",
    "        queue.pop()"
   ]
  },
  {
   "cell_type": "code",
   "execution_count": 16,
   "id": "209dfcc1",
   "metadata": {},
   "outputs": [],
   "source": [
    "def size():\n",
    "    print(len(queue))\n",
    "    "
   ]
  },
  {
   "cell_type": "code",
   "execution_count": 17,
   "id": "a17d1668",
   "metadata": {},
   "outputs": [],
   "source": [
    "def empty():\n",
    "    if not queue:\n",
    "        print(1)\n",
    "    else:\n",
    "        print(0)"
   ]
  },
  {
   "cell_type": "code",
   "execution_count": 18,
   "id": "4fe71b13",
   "metadata": {},
   "outputs": [],
   "source": [
    "def front():\n",
    "    if queue:\n",
    "        print(queue[-1])\n",
    "    else:\n",
    "        print(-1)"
   ]
  },
  {
   "cell_type": "code",
   "execution_count": 19,
   "id": "cf80e20f",
   "metadata": {},
   "outputs": [],
   "source": [
    "def back():\n",
    "    if queue:\n",
    "        print(queue[0])\n",
    "    else:\n",
    "        print(-1)"
   ]
  },
  {
   "cell_type": "code",
   "execution_count": 23,
   "id": "5bce43cb",
   "metadata": {},
   "outputs": [],
   "source": [
    "def function(order_list):\n",
    "    queue = deque()\n",
    "    \n",
    "    for x in order_list:\n",
    "        if x == 'pop':\n",
    "            pop(queue)\n",
    "        elif x == 'size':\n",
    "            size(queue)\n",
    "        elif x == 'empty':\n",
    "            empty(queue)\n",
    "        elif x == 'front':\n",
    "            front(queue)\n",
    "        elif x == 'back':\n",
    "            back(queue)\n",
    "        else:\n",
    "            push_num = x.split()[-1]\n",
    "            push(queue, push_num)\n",
    "            \n",
    "            "
   ]
  },
  {
   "cell_type": "code",
   "execution_count": 11,
   "id": "6d8d2d5b",
   "metadata": {
    "scrolled": true
   },
   "outputs": [
    {
     "ename": "SyntaxError",
     "evalue": "invalid syntax (43936387.py, line 1)",
     "output_type": "error",
     "traceback": [
      "\u001b[0;36m  Cell \u001b[0;32mIn [11], line 1\u001b[0;36m\u001b[0m\n\u001b[0;31m    push 1\u001b[0m\n\u001b[0m         ^\u001b[0m\n\u001b[0;31mSyntaxError\u001b[0m\u001b[0;31m:\u001b[0m invalid syntax\n"
     ]
    }
   ],
   "source": [
    "push 1"
   ]
  },
  {
   "cell_type": "code",
   "execution_count": 24,
   "id": "c52ae65d",
   "metadata": {},
   "outputs": [
    {
     "name": "stdout",
     "output_type": "stream",
     "text": [
      "15\n",
      "push 1\n",
      "push 2\n",
      "front\n",
      "back\n",
      "size\n",
      "empty\n",
      "pop\n",
      "pop\n",
      "pop\n",
      "size \n",
      "empty\n",
      "pop\n",
      "push 3\n",
      "empty\n",
      "front\n"
     ]
    },
    {
     "ename": "TypeError",
     "evalue": "front() takes 0 positional arguments but 1 was given",
     "output_type": "error",
     "traceback": [
      "\u001b[0;31m---------------------------------------------------------------------------\u001b[0m",
      "\u001b[0;31mTypeError\u001b[0m                                 Traceback (most recent call last)",
      "Cell \u001b[0;32mIn [24], line 5\u001b[0m\n\u001b[1;32m      2\u001b[0m n \u001b[38;5;241m=\u001b[39m \u001b[38;5;28mint\u001b[39m(\u001b[38;5;28minput\u001b[39m())\n\u001b[1;32m      3\u001b[0m order_list \u001b[38;5;241m=\u001b[39m [\u001b[38;5;28mstr\u001b[39m(\u001b[38;5;28minput\u001b[39m()) \u001b[38;5;28;01mfor\u001b[39;00m _ \u001b[38;5;129;01min\u001b[39;00m \u001b[38;5;28mrange\u001b[39m(n)]\n\u001b[0;32m----> 5\u001b[0m function(order_list)\n",
      "Cell \u001b[0;32mIn [23], line 12\u001b[0m, in \u001b[0;36mfunction\u001b[0;34m(order_list)\u001b[0m\n\u001b[1;32m     10\u001b[0m     empty(queue)\n\u001b[1;32m     11\u001b[0m \u001b[38;5;28;01melif\u001b[39;00m x \u001b[38;5;241m==\u001b[39m \u001b[38;5;124m'\u001b[39m\u001b[38;5;124mfront\u001b[39m\u001b[38;5;124m'\u001b[39m:\n\u001b[0;32m---> 12\u001b[0m     \u001b[43mfront\u001b[49m\u001b[43m(\u001b[49m\u001b[43mqueue\u001b[49m\u001b[43m)\u001b[49m\n\u001b[1;32m     13\u001b[0m \u001b[38;5;28;01melif\u001b[39;00m x \u001b[38;5;241m==\u001b[39m \u001b[38;5;124m'\u001b[39m\u001b[38;5;124mback\u001b[39m\u001b[38;5;124m'\u001b[39m:\n\u001b[1;32m     14\u001b[0m     back(queue)\n",
      "\u001b[0;31mTypeError\u001b[0m: front() takes 0 positional arguments but 1 was given"
     ]
    }
   ],
   "source": [
    "if __name__ == '__main__':\n",
    "    n = int(input())\n",
    "    order_list = [str(input()) for _ in range(n)]\n",
    "    \n",
    "    function(order_list)"
   ]
  },
  {
   "cell_type": "code",
   "execution_count": 25,
   "id": "63fb237e",
   "metadata": {},
   "outputs": [],
   "source": [
    "from collections import deque\n",
    "\n"
   ]
  },
  {
   "cell_type": "code",
   "execution_count": 26,
   "id": "3647226c",
   "metadata": {},
   "outputs": [
    {
     "ename": "SyntaxError",
     "evalue": "invalid syntax (1226780343.py, line 17)",
     "output_type": "error",
     "traceback": [
      "\u001b[0;36m  Cell \u001b[0;32mIn [26], line 17\u001b[0;36m\u001b[0m\n\u001b[0;31m    elst:\u001b[0m\n\u001b[0m         ^\u001b[0m\n\u001b[0;31mSyntaxError\u001b[0m\u001b[0;31m:\u001b[0m invalid syntax\n"
     ]
    }
   ],
   "source": [
    "# 1\n",
    "\n",
    "def push(queue, x):\n",
    "    queue.appendleft(x)\n",
    "    \n",
    "def pop(queue):\n",
    "    if not queue:\n",
    "        print(-1)\n",
    "    else:\n",
    "        print(queue[-1])\n",
    "        queue.pop()\n",
    "        \n",
    "def size(queue):\n",
    "    print(len(queue))\n",
    "    \n",
    "def empty(queue):\n",
    "    if not queue:\n",
    "        print(1)\n",
    "    elst:\n",
    "        print(0)\n",
    "\n",
    "def front(queue):\n",
    "    if queue:\n",
    "        print(queue[-1])\n",
    "    else:\n",
    "        print(-1)\n",
    "def back(queue):\n",
    "    if queue:\n",
    "        print(queue[0])\n",
    "    else:\n",
    "        print(-1)\n",
    "\n",
    "        \n",
    "def solve(order_list):\n",
    "    queue = deque()\n",
    "    \n",
    "    for x in order_list:\n",
    "        if x == 'pop':\n",
    "            pop(queue)\n",
    "        elif x == 'size':\n",
    "            size(queue)\n",
    "        elif x == 'empty':\n",
    "            empty(queue)\n",
    "        elif x == 'front':\n",
    "            front(queue)\n",
    "        elif x == 'back':\n",
    "            back(queue)\n",
    "        else:\n",
    "            push_num = x.split()[-1]\n",
    "            push(queue, push_num)\n",
    "    \n",
    "    \n",
    "if __name__ == '__main__':\n",
    "    n = int(input())\n",
    "    order_list = [str(input()) for _ in range(n)]\n",
    "    \n",
    "    solve(order_list)\n",
    "    \n",
    "    "
   ]
  },
  {
   "cell_type": "code",
   "execution_count": 27,
   "id": "5c23a0a0",
   "metadata": {},
   "outputs": [],
   "source": [
    "# 2\n",
    "from collections import deque\n",
    "\n"
   ]
  },
  {
   "cell_type": "code",
   "execution_count": null,
   "id": "e740bc53",
   "metadata": {},
   "outputs": [],
   "source": [
    "def push(queue, x):\n",
    "    queue.appendleft(x)\n",
    "    \n",
    "def pop(queue):\n",
    "    if not queue:\n",
    "        print(-1)\n",
    "    else:\n",
    "        print(queue[-1])\n",
    "        queue.pop()\n",
    "    \n",
    "def size(queue):\n",
    "    print(len(queue))\n",
    "    \n",
    "    \n",
    "def "
   ]
  }
 ],
 "metadata": {
  "kernelspec": {
   "display_name": "Python 3 (ipykernel)",
   "language": "python",
   "name": "python3"
  },
  "language_info": {
   "codemirror_mode": {
    "name": "ipython",
    "version": 3
   },
   "file_extension": ".py",
   "mimetype": "text/x-python",
   "name": "python",
   "nbconvert_exporter": "python",
   "pygments_lexer": "ipython3",
   "version": "3.9.7"
  }
 },
 "nbformat": 4,
 "nbformat_minor": 5
}

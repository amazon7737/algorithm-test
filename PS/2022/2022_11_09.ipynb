{
 "cells": [
  {
   "cell_type": "code",
   "execution_count": 1,
   "id": "cd4fc501",
   "metadata": {},
   "outputs": [],
   "source": [
    "#2667"
   ]
  },
  {
   "cell_type": "code",
   "execution_count": 2,
   "id": "0572a5ff",
   "metadata": {},
   "outputs": [],
   "source": [
    "#답\n"
   ]
  },
  {
   "cell_type": "code",
   "execution_count": 1,
   "id": "3258e415",
   "metadata": {},
   "outputs": [
    {
     "ename": "ValueError",
     "evalue": "invalid literal for int() with base 10: ''",
     "output_type": "error",
     "traceback": [
      "\u001b[0;31m---------------------------------------------------------------------------\u001b[0m",
      "\u001b[0;31mValueError\u001b[0m                                Traceback (most recent call last)",
      "Cell \u001b[0;32mIn [1], line 25\u001b[0m\n\u001b[1;32m     21\u001b[0m                 cnt \u001b[38;5;241m+\u001b[39m\u001b[38;5;241m=\u001b[39m \u001b[38;5;241m1\u001b[39m\n\u001b[1;32m     22\u001b[0m     \u001b[38;5;28;01mreturn\u001b[39;00m cnt\n\u001b[0;32m---> 25\u001b[0m N \u001b[38;5;241m=\u001b[39m \u001b[38;5;28mint\u001b[39m(sys\u001b[38;5;241m.\u001b[39mstdin\u001b[38;5;241m.\u001b[39mreadline()\u001b[38;5;241m.\u001b[39mrstrip())\n\u001b[1;32m     27\u001b[0m graph \u001b[38;5;241m=\u001b[39m [\u001b[38;5;28mlist\u001b[39m(\u001b[38;5;28mmap\u001b[39m(\u001b[38;5;28mint\u001b[39m, sys\u001b[38;5;241m.\u001b[39mstdin\u001b[38;5;241m.\u001b[39mreadline()\u001b[38;5;241m.\u001b[39mrstrip())) \u001b[38;5;28;01mfor\u001b[39;00m _ \u001b[38;5;129;01min\u001b[39;00m \u001b[38;5;28mrange\u001b[39m(N)]\n\u001b[1;32m     29\u001b[0m dx \u001b[38;5;241m=\u001b[39m [\u001b[38;5;241m-\u001b[39m\u001b[38;5;241m1\u001b[39m, \u001b[38;5;241m1\u001b[39m, \u001b[38;5;241m0\u001b[39m, \u001b[38;5;241m0\u001b[39m]\n",
      "\u001b[0;31mValueError\u001b[0m: invalid literal for int() with base 10: ''"
     ]
    }
   ],
   "source": [
    "import sys\n",
    "from collections import deque\n",
    "\n",
    "\n",
    "def BFS(x, y):\n",
    "\n",
    "    deq = deque()\n",
    "    deq.append((x, y))\n",
    "    graph[x][y] = 0\n",
    "    cnt = 1\n",
    "    while deq:\n",
    "        x, y = deq.popleft()\n",
    "        for i in range(4):\n",
    "            nx = x + dx[i]\n",
    "            ny = y + dy[i]\n",
    "            if nx < 0 or ny < 0 or nx >= N or ny >= N:\n",
    "                continue\n",
    "            if graph[nx][ny] == 1:\n",
    "                graph[nx][ny] = 0\n",
    "                deq.append((nx, ny))\n",
    "                cnt += 1\n",
    "    return cnt\n",
    "\n",
    "\n",
    "N = int(sys.stdin.readline().rstrip())\n",
    "\n",
    "graph = [list(map(int, sys.stdin.readline().rstrip())) for _ in range(N)]\n",
    "\n",
    "dx = [-1, 1, 0, 0]\n",
    "dy = [0, 0, -1, 1]\n",
    "\n",
    "apart = []\n",
    "\n",
    "\n",
    "result = 0\n",
    "\n",
    "for i in range(N):\n",
    "    for j in range(N):\n",
    "        if graph[i][j] == 1:\n",
    "            apart.append(BFS(i, j))\n",
    "apart.sort()\n",
    "print(len(apart))\n",
    "for a in apart:\n",
    "    print(a)"
   ]
  },
  {
   "cell_type": "code",
   "execution_count": 1,
   "id": "e1f45916",
   "metadata": {},
   "outputs": [],
   "source": [
    "#4963"
   ]
  },
  {
   "cell_type": "code",
   "execution_count": 2,
   "id": "c7b1f0a7",
   "metadata": {},
   "outputs": [],
   "source": [
    "# bfs"
   ]
  },
  {
   "cell_type": "code",
   "execution_count": 4,
   "id": "4fd39ef6",
   "metadata": {},
   "outputs": [],
   "source": [
    "import sys\n",
    "read = sys.stdin.readline\n",
    "sys.setrecursionlimit(10000)\n",
    "\n",
    "def dfs(x,y):\n",
    "    dx = [1, 1, -1, -1, 1, -1, 0, 0]\n",
    "    dy = [0, 1, 0, 1, -1, -1, 1, -1]\n",
    "    \n",
    "    field = []\n",
    "    count = 0\n",
    "    for _ in range(h):\n",
    "        field.append(list(map(int, read().split())))\n",
    "    for i in range(h):\n",
    "        for j in range(w):\n",
    "            if field[i][j] == 1:\n",
    "                dfs(i, j)\n",
    "                count += 1\n",
    "    print(count)            "
   ]
  },
  {
   "cell_type": "code",
   "execution_count": 5,
   "id": "89f60fef",
   "metadata": {},
   "outputs": [],
   "source": [
    "# dfs"
   ]
  },
  {
   "cell_type": "code",
   "execution_count": 7,
   "id": "84e06c33",
   "metadata": {},
   "outputs": [
    {
     "ename": "ValueError",
     "evalue": "not enough values to unpack (expected 2, got 0)",
     "output_type": "error",
     "traceback": [
      "\u001b[0;31m---------------------------------------------------------------------------\u001b[0m",
      "\u001b[0;31mValueError\u001b[0m                                Traceback (most recent call last)",
      "Cell \u001b[0;32mIn [7], line 21\u001b[0m\n\u001b[1;32m     18\u001b[0m                 q\u001b[38;5;241m.\u001b[39mappend([nx, ny])\n\u001b[1;32m     20\u001b[0m \u001b[38;5;28;01mwhile\u001b[39;00m \u001b[38;5;28;01mTrue\u001b[39;00m:\n\u001b[0;32m---> 21\u001b[0m     w, h \u001b[38;5;241m=\u001b[39m \u001b[38;5;28mmap\u001b[39m(\u001b[38;5;28mint\u001b[39m, read()\u001b[38;5;241m.\u001b[39msplit())\n\u001b[1;32m     22\u001b[0m     \u001b[38;5;28;01mif\u001b[39;00m w \u001b[38;5;241m==\u001b[39m \u001b[38;5;241m0\u001b[39m \u001b[38;5;129;01mand\u001b[39;00m h \u001b[38;5;241m==\u001b[39m \u001b[38;5;241m0\u001b[39m:\n\u001b[1;32m     23\u001b[0m         \u001b[38;5;28;01mbreak\u001b[39;00m\n",
      "\u001b[0;31mValueError\u001b[0m: not enough values to unpack (expected 2, got 0)"
     ]
    }
   ],
   "source": [
    "from collections import deque\n",
    "import sys\n",
    "read = sys.stdin.readline\n",
    "\n",
    "def bfs(x, y):\n",
    "    dx = [1, -1, 0, 0, 1, -1, 1, -1]\n",
    "    dy = [0, 0, -1, 1, -1, 1, 1, -1]\n",
    "    field[x][y] = 0\n",
    "    q = deque()\n",
    "    q.append([x, y])\n",
    "    while q:\n",
    "        a, b = q.popleft()\n",
    "        for i in range(8):\n",
    "            nx = a + dx[i]\n",
    "            ny = b + dy[i]\n",
    "            if 0 <= nx < h and 0 <= ny < w and field[nx][ny] == 1:\n",
    "                field[nx][ny] = 0\n",
    "                q.append([nx, ny])\n",
    "\n",
    "while True:\n",
    "    w, h = map(int, read().split())\n",
    "    if w == 0 and h == 0:\n",
    "        break\n",
    "    field = []\n",
    "    count = 0\n",
    "    for _ in range(h):\n",
    "        field.append(list(map(int, read().split())))\n",
    "    for i in range(h):\n",
    "        for j in range(w):\n",
    "            if field[i][j] == 1:\n",
    "                bfs(i, j)\n",
    "                count += 1\n",
    "    print(count)\n",
    "    "
   ]
  },
  {
   "cell_type": "code",
   "execution_count": null,
   "id": "3fb60763",
   "metadata": {},
   "outputs": [],
   "source": []
  }
 ],
 "metadata": {
  "kernelspec": {
   "display_name": "Python 3 (ipykernel)",
   "language": "python",
   "name": "python3"
  },
  "language_info": {
   "codemirror_mode": {
    "name": "ipython",
    "version": 3
   },
   "file_extension": ".py",
   "mimetype": "text/x-python",
   "name": "python",
   "nbconvert_exporter": "python",
   "pygments_lexer": "ipython3",
   "version": "3.9.7"
  }
 },
 "nbformat": 4,
 "nbformat_minor": 5
}

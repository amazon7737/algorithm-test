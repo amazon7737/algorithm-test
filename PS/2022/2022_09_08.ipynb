{
 "cells": [
  {
   "cell_type": "code",
   "execution_count": 1,
   "id": "2988aea6",
   "metadata": {},
   "outputs": [],
   "source": [
    "#피보나치 수를 Dynamic Programming 을 이용하여 해결"
   ]
  },
  {
   "cell_type": "code",
   "execution_count": 2,
   "id": "e484ecf4",
   "metadata": {},
   "outputs": [],
   "source": [
    "dp = []\n",
    "a = []\n"
   ]
  },
  {
   "cell_type": "code",
   "execution_count": 9,
   "id": "760c6484",
   "metadata": {},
   "outputs": [
    {
     "name": "stdout",
     "output_type": "stream",
     "text": [
      "10\n"
     ]
    }
   ],
   "source": [
    "n = int(input())"
   ]
  },
  {
   "cell_type": "code",
   "execution_count": 10,
   "id": "ba157885",
   "metadata": {},
   "outputs": [],
   "source": [
    "dp = [0]*n"
   ]
  },
  {
   "cell_type": "code",
   "execution_count": 11,
   "id": "36f76e13",
   "metadata": {},
   "outputs": [],
   "source": [
    "dp[0] = 1\n",
    "dp[1] = 1"
   ]
  },
  {
   "cell_type": "code",
   "execution_count": 12,
   "id": "5af3cd89",
   "metadata": {},
   "outputs": [],
   "source": [
    "for i in range(2, n):\n",
    "    dp[i] = dp[i-1] + dp[i-2]"
   ]
  },
  {
   "cell_type": "code",
   "execution_count": 13,
   "id": "3b97eec8",
   "metadata": {},
   "outputs": [
    {
     "data": {
      "text/plain": [
       "[1, 1, 2, 3, 5, 8, 13, 21, 34, 55]"
      ]
     },
     "execution_count": 13,
     "metadata": {},
     "output_type": "execute_result"
    }
   ],
   "source": []
  },
  {
   "cell_type": "code",
   "execution_count": null,
   "id": "dd0df1fa",
   "metadata": {},
   "outputs": [],
   "source": []
  }
 ],
 "metadata": {
  "kernelspec": {
   "display_name": "Python 3 (ipykernel)",
   "language": "python",
   "name": "python3"
  },
  "language_info": {
   "codemirror_mode": {
    "name": "ipython",
    "version": 3
   },
   "file_extension": ".py",
   "mimetype": "text/x-python",
   "name": "python",
   "nbconvert_exporter": "python",
   "pygments_lexer": "ipython3",
   "version": "3.8.13"
  }
 },
 "nbformat": 4,
 "nbformat_minor": 5
}

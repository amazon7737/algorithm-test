{
 "cells": [
  {
   "cell_type": "code",
   "execution_count": 81,
   "id": "a801b94c",
   "metadata": {},
   "outputs": [],
   "source": [
    "#7576"
   ]
  },
  {
   "cell_type": "code",
   "execution_count": 82,
   "id": "1490b4a7",
   "metadata": {},
   "outputs": [],
   "source": [
    "import numpy as np"
   ]
  },
  {
   "cell_type": "code",
   "execution_count": 83,
   "id": "1fcec9ab",
   "metadata": {},
   "outputs": [
    {
     "name": "stdout",
     "output_type": "stream",
     "text": [
      "6 4\n"
     ]
    }
   ],
   "source": [
    "m, n = map(int, input().split())"
   ]
  },
  {
   "cell_type": "code",
   "execution_count": 84,
   "id": "df5ddcb7",
   "metadata": {},
   "outputs": [],
   "source": [
    "# a = list(map(int, input().split()))"
   ]
  },
  {
   "cell_type": "code",
   "execution_count": 85,
   "id": "5c64d12b",
   "metadata": {},
   "outputs": [],
   "source": [
    "# a"
   ]
  },
  {
   "cell_type": "code",
   "execution_count": 86,
   "id": "381de0d2",
   "metadata": {},
   "outputs": [],
   "source": [
    "#1\n",
    "\n",
    "# 0 0 0 0 0 0\n",
    "# 0 0 0 0 0 0\n",
    "# 0 0 0 0 0 0\n",
    "# 0 0 0 0 0 1"
   ]
  },
  {
   "cell_type": "code",
   "execution_count": 87,
   "id": "22e552f7",
   "metadata": {},
   "outputs": [],
   "source": [
    "#2\n",
    "\n",
    "# 0 0 0 0 0 0\n",
    "# 0 0 0 0 0 0\n",
    "# 0 0 0 0 0 1\n",
    "# 0 0 0 0 1 1"
   ]
  },
  {
   "cell_type": "code",
   "execution_count": 88,
   "id": "18be16df",
   "metadata": {},
   "outputs": [],
   "source": [
    "#3\n",
    "\n",
    "# 0 0 0 0 0 0\n",
    "# 0 0 0 0 0 1\n",
    "# 0 0 0 0 1 1\n",
    "# 0 0 0 1 1 1"
   ]
  },
  {
   "cell_type": "code",
   "execution_count": 89,
   "id": "66491cba",
   "metadata": {},
   "outputs": [],
   "source": [
    "#4\n",
    "\n",
    "# 0 0 0 0 0 1\n",
    "# 0 0 0 0 1 1\n",
    "# 0 0 0 1 1 1\n",
    "# 0 0 1 1 1 1"
   ]
  },
  {
   "cell_type": "code",
   "execution_count": null,
   "id": "aa25e40f",
   "metadata": {},
   "outputs": [],
   "source": []
  },
  {
   "cell_type": "code",
   "execution_count": 90,
   "id": "5bf91ae4",
   "metadata": {},
   "outputs": [],
   "source": [
    "#6\n",
    "\n",
    "# 0 0 0 0 1 1\n",
    "# 0 0 0 1 1 1\n",
    "# 0 0 1 1 1 1\n",
    "# 0 1 1 1 1 1"
   ]
  },
  {
   "cell_type": "code",
   "execution_count": 91,
   "id": "ab5154d7",
   "metadata": {},
   "outputs": [],
   "source": [
    "#7\n",
    "\n",
    "# 0 0 0 1 1 1\n",
    "# 0 0 1 1 1 1\n",
    "# 0 1 1 1 1 1\n",
    "# 1 1 1 1 1 1"
   ]
  },
  {
   "cell_type": "code",
   "execution_count": 92,
   "id": "537ae9c6",
   "metadata": {},
   "outputs": [],
   "source": [
    "#8\n",
    "\n",
    "# 0 0 1 1 1 1\n",
    "# 0 1 1 1 1 1\n",
    "# 1 1 1 1 1 1\n",
    "# 1 1 1 1 1 1"
   ]
  },
  {
   "cell_type": "code",
   "execution_count": 93,
   "id": "a19b3cc4",
   "metadata": {},
   "outputs": [],
   "source": [
    "#9\n",
    "\n",
    "# 0 1 1 1 1 1\n",
    "# 1 1 1 1 1 1\n",
    "# 1 1 1 1 1 1\n",
    "# 1 1 1 1 1 1"
   ]
  },
  {
   "cell_type": "code",
   "execution_count": 94,
   "id": "be501af5",
   "metadata": {},
   "outputs": [],
   "source": [
    "#9  -> 8번 (총익는)\n",
    "\n",
    "# 1 1 1 1 1 1\n",
    "# 1 1 1 1 1 1\n",
    "# 1 1 1 1 1 1\n",
    "# 1 1 1 1 1 1"
   ]
  },
  {
   "cell_type": "code",
   "execution_count": 95,
   "id": "d38faa69",
   "metadata": {},
   "outputs": [],
   "source": [
    "arr = np.array([[], []])"
   ]
  },
  {
   "cell_type": "code",
   "execution_count": 96,
   "id": "381743f3",
   "metadata": {},
   "outputs": [
    {
     "data": {
      "text/plain": [
       "array([], shape=(2, 0), dtype=float64)"
      ]
     },
     "execution_count": 96,
     "metadata": {},
     "output_type": "execute_result"
    }
   ],
   "source": [
    "arr"
   ]
  },
  {
   "cell_type": "code",
   "execution_count": 97,
   "id": "0341ae86",
   "metadata": {},
   "outputs": [
    {
     "data": {
      "text/plain": [
       "array([], dtype=float64)"
      ]
     },
     "execution_count": 97,
     "metadata": {},
     "output_type": "execute_result"
    }
   ],
   "source": [
    "arr[0]"
   ]
  },
  {
   "cell_type": "code",
   "execution_count": 98,
   "id": "17a7385e",
   "metadata": {},
   "outputs": [],
   "source": [
    "arr = np.zeros((n, m))"
   ]
  },
  {
   "cell_type": "code",
   "execution_count": 99,
   "id": "0da5aa99",
   "metadata": {
    "scrolled": true
   },
   "outputs": [],
   "source": [
    "arr[0][1] = 1"
   ]
  },
  {
   "cell_type": "code",
   "execution_count": 100,
   "id": "293824a3",
   "metadata": {},
   "outputs": [
    {
     "data": {
      "text/plain": [
       "array([[0., 1., 0., 0., 0., 0.],\n",
       "       [0., 0., 0., 0., 0., 0.],\n",
       "       [0., 0., 0., 0., 0., 0.],\n",
       "       [0., 0., 0., 0., 0., 0.]])"
      ]
     },
     "execution_count": 100,
     "metadata": {},
     "output_type": "execute_result"
    }
   ],
   "source": [
    "arr"
   ]
  },
  {
   "cell_type": "code",
   "execution_count": 101,
   "id": "5c2b5803",
   "metadata": {},
   "outputs": [],
   "source": [
    "arr[3][5] = 1"
   ]
  },
  {
   "cell_type": "code",
   "execution_count": 102,
   "id": "1560a082",
   "metadata": {},
   "outputs": [],
   "source": [
    "count = 0"
   ]
  },
  {
   "cell_type": "code",
   "execution_count": 103,
   "id": "56995b0e",
   "metadata": {},
   "outputs": [],
   "source": [
    "# while (arr == 0) == False:\n",
    "#     for i in range():\n",
    "#         for j in range():\n",
    "#             #arr[i][j]\n",
    "            \n",
    "                "
   ]
  },
  {
   "cell_type": "code",
   "execution_count": null,
   "id": "6b5fba98",
   "metadata": {},
   "outputs": [],
   "source": []
  },
  {
   "cell_type": "code",
   "execution_count": 104,
   "id": "2aaa0915",
   "metadata": {},
   "outputs": [],
   "source": [
    "# if (arr == 1) == True:\n",
    "#     print(arr.index(1))"
   ]
  },
  {
   "cell_type": "code",
   "execution_count": 105,
   "id": "5494f5a5",
   "metadata": {},
   "outputs": [],
   "source": [
    "# if 1 in arr:\n",
    "#     print(arr)"
   ]
  },
  {
   "cell_type": "code",
   "execution_count": 106,
   "id": "bcfc0404",
   "metadata": {},
   "outputs": [],
   "source": [
    "arr2 = np.where(arr == 1)"
   ]
  },
  {
   "cell_type": "code",
   "execution_count": 109,
   "id": "9eea6799",
   "metadata": {},
   "outputs": [
    {
     "data": {
      "text/plain": [
       "(array([0, 3]), array([1, 5]))"
      ]
     },
     "execution_count": 109,
     "metadata": {},
     "output_type": "execute_result"
    }
   ],
   "source": [
    "arr2"
   ]
  },
  {
   "cell_type": "code",
   "execution_count": 108,
   "id": "45948a95",
   "metadata": {},
   "outputs": [
    {
     "data": {
      "text/plain": [
       "1"
      ]
     },
     "execution_count": 108,
     "metadata": {},
     "output_type": "execute_result"
    }
   ],
   "source": [
    "arr2[1][0]"
   ]
  },
  {
   "cell_type": "code",
   "execution_count": 112,
   "id": "1401333a",
   "metadata": {},
   "outputs": [
    {
     "data": {
      "text/plain": [
       "0"
      ]
     },
     "execution_count": 112,
     "metadata": {},
     "output_type": "execute_result"
    }
   ],
   "source": [
    "arr2[0][0]"
   ]
  },
  {
   "cell_type": "code",
   "execution_count": null,
   "id": "0c4e10b8",
   "metadata": {},
   "outputs": [],
   "source": []
  }
 ],
 "metadata": {
  "kernelspec": {
   "display_name": "Python 3 (ipykernel)",
   "language": "python",
   "name": "python3"
  },
  "language_info": {
   "codemirror_mode": {
    "name": "ipython",
    "version": 3
   },
   "file_extension": ".py",
   "mimetype": "text/x-python",
   "name": "python",
   "nbconvert_exporter": "python",
   "pygments_lexer": "ipython3",
   "version": "3.9.7"
  }
 },
 "nbformat": 4,
 "nbformat_minor": 5
}

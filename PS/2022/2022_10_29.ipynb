{
 "cells": [
  {
   "cell_type": "code",
   "execution_count": 30,
   "id": "33c21ae9",
   "metadata": {},
   "outputs": [
    {
     "ename": "ValueError",
     "evalue": "not enough values to unpack (expected 2, got 0)",
     "output_type": "error",
     "traceback": [
      "\u001b[0;31m---------------------------------------------------------------------------\u001b[0m",
      "\u001b[0;31mValueError\u001b[0m                                Traceback (most recent call last)",
      "Cell \u001b[0;32mIn [30], line 1\u001b[0m\n\u001b[0;32m----> 1\u001b[0m n , k \u001b[38;5;241m=\u001b[39m \u001b[38;5;28mmap\u001b[39m(\u001b[38;5;28mint\u001b[39m, \u001b[38;5;28minput\u001b[39m()\u001b[38;5;241m.\u001b[39msplit())\n",
      "\u001b[0;31mValueError\u001b[0m: not enough values to unpack (expected 2, got 0)"
     ]
    }
   ],
   "source": [
    "n , k = map(int, input().split())"
   ]
  },
  {
   "cell_type": "code",
   "execution_count": 3,
   "id": "d04708b8",
   "metadata": {},
   "outputs": [],
   "source": [
    "arr  = [i for i in range(1, n+1)]"
   ]
  },
  {
   "cell_type": "code",
   "execution_count": 4,
   "id": "8ae395be",
   "metadata": {},
   "outputs": [],
   "source": [
    "answer = []\n",
    "num = 0\n"
   ]
  },
  {
   "cell_type": "code",
   "execution_count": 9,
   "id": "40e704e9",
   "metadata": {},
   "outputs": [
    {
     "ename": "ZeroDivisionError",
     "evalue": "integer division or modulo by zero",
     "output_type": "error",
     "traceback": [
      "\u001b[0;31m---------------------------------------------------------------------------\u001b[0m",
      "\u001b[0;31mZeroDivisionError\u001b[0m                         Traceback (most recent call last)",
      "Cell \u001b[0;32mIn [9], line 4\u001b[0m\n\u001b[1;32m      2\u001b[0m     num \u001b[38;5;241m+\u001b[39m\u001b[38;5;241m=\u001b[39m k\u001b[38;5;241m-\u001b[39m\u001b[38;5;241m1\u001b[39m\n\u001b[1;32m      3\u001b[0m     \u001b[38;5;28;01mif\u001b[39;00m num \u001b[38;5;241m>\u001b[39m\u001b[38;5;241m=\u001b[39m \u001b[38;5;28mlen\u001b[39m(arr):\n\u001b[0;32m----> 4\u001b[0m         num \u001b[38;5;241m=\u001b[39m num\u001b[38;5;241m%\u001b[39m \u001b[38;5;28mlen\u001b[39m(arr)\n\u001b[1;32m      5\u001b[0m     answer\u001b[38;5;241m.\u001b[39mappend(\u001b[38;5;28mstr\u001b[39m(arr\u001b[38;5;241m.\u001b[39mpop(num)))\n\u001b[1;32m      6\u001b[0m \u001b[38;5;28mprint\u001b[39m(\u001b[38;5;124m\"\u001b[39m\u001b[38;5;124m<\u001b[39m\u001b[38;5;124m\"\u001b[39m,\u001b[38;5;124m\"\u001b[39m\u001b[38;5;124m, \u001b[39m\u001b[38;5;124m\"\u001b[39m\u001b[38;5;241m.\u001b[39mjoin(answer)[:],\u001b[38;5;124m\"\u001b[39m\u001b[38;5;124m>\u001b[39m\u001b[38;5;124m\"\u001b[39m, sep\u001b[38;5;241m=\u001b[39m\u001b[38;5;124m'\u001b[39m\u001b[38;5;124m'\u001b[39m)\n",
      "\u001b[0;31mZeroDivisionError\u001b[0m: integer division or modulo by zero"
     ]
    }
   ],
   "source": [
    "for t in range(n):\n",
    "    num += k-1\n",
    "    if num >= len(arr):\n",
    "        num = num% len(arr)\n",
    "    answer.append(str(arr.pop(num)))\n",
    "print(\"<\",\", \".join(answer)[:],\">\", sep='')"
   ]
  },
  {
   "cell_type": "code",
   "execution_count": 11,
   "id": "95c95c70",
   "metadata": {},
   "outputs": [
    {
     "data": {
      "text/plain": [
       "3"
      ]
     },
     "execution_count": 11,
     "metadata": {},
     "output_type": "execute_result"
    }
   ],
   "source": [
    "num += k"
   ]
  },
  {
   "cell_type": "code",
   "execution_count": 12,
   "id": "ce47a0b0",
   "metadata": {},
   "outputs": [
    {
     "ename": "ZeroDivisionError",
     "evalue": "integer division or modulo by zero",
     "output_type": "error",
     "traceback": [
      "\u001b[0;31m---------------------------------------------------------------------------\u001b[0m",
      "\u001b[0;31mZeroDivisionError\u001b[0m                         Traceback (most recent call last)",
      "Cell \u001b[0;32mIn [12], line 4\u001b[0m\n\u001b[1;32m      2\u001b[0m     num \u001b[38;5;241m+\u001b[39m\u001b[38;5;241m=\u001b[39m k\u001b[38;5;241m-\u001b[39m\u001b[38;5;241m1\u001b[39m\n\u001b[1;32m      3\u001b[0m     \u001b[38;5;28;01mif\u001b[39;00m num \u001b[38;5;241m>\u001b[39m\u001b[38;5;241m=\u001b[39m \u001b[38;5;28mlen\u001b[39m(arr):\n\u001b[0;32m----> 4\u001b[0m         num \u001b[38;5;241m=\u001b[39m num \u001b[38;5;241m%\u001b[39m \u001b[38;5;28mlen\u001b[39m(arr)\n\u001b[1;32m      5\u001b[0m     answer\u001b[38;5;241m.\u001b[39mappend(\u001b[38;5;28mstr\u001b[39m(arr\u001b[38;5;241m.\u001b[39mpop(num)))\n\u001b[1;32m      6\u001b[0m \u001b[38;5;28mprint\u001b[39m(\u001b[38;5;124m\"\u001b[39m\u001b[38;5;124m<\u001b[39m\u001b[38;5;124m\"\u001b[39m, \u001b[38;5;124m\"\u001b[39m\u001b[38;5;124m, \u001b[39m\u001b[38;5;124m\"\u001b[39m\u001b[38;5;241m.\u001b[39mjoin(answer)[:], \u001b[38;5;124m\"\u001b[39m\u001b[38;5;124m>\u001b[39m\u001b[38;5;124m\"\u001b[39m, sep\u001b[38;5;241m=\u001b[39m\u001b[38;5;124m'\u001b[39m\u001b[38;5;124m'\u001b[39m)\n",
      "\u001b[0;31mZeroDivisionError\u001b[0m: integer division or modulo by zero"
     ]
    }
   ],
   "source": [
    "for t in range(n):\n",
    "    num += k-1\n",
    "    if num >= len(arr):\n",
    "        num = num % len(arr)\n",
    "    answer.append(str(arr.pop(num)))\n",
    "print(\"<\", \", \".join(answer)[:], \">\", sep='')\n",
    "\n"
   ]
  },
  {
   "cell_type": "code",
   "execution_count": 13,
   "id": "33cc527c",
   "metadata": {},
   "outputs": [
    {
     "ename": "ZeroDivisionError",
     "evalue": "integer division or modulo by zero",
     "output_type": "error",
     "traceback": [
      "\u001b[0;31m---------------------------------------------------------------------------\u001b[0m",
      "\u001b[0;31mZeroDivisionError\u001b[0m                         Traceback (most recent call last)",
      "Cell \u001b[0;32mIn [13], line 4\u001b[0m\n\u001b[1;32m      2\u001b[0m     num \u001b[38;5;241m+\u001b[39m\u001b[38;5;241m=\u001b[39m k\u001b[38;5;241m-\u001b[39m\u001b[38;5;241m1\u001b[39m\n\u001b[1;32m      3\u001b[0m     \u001b[38;5;28;01mif\u001b[39;00m num \u001b[38;5;241m>\u001b[39m\u001b[38;5;241m=\u001b[39m \u001b[38;5;28mlen\u001b[39m(arr):\n\u001b[0;32m----> 4\u001b[0m         num \u001b[38;5;241m=\u001b[39m num \u001b[38;5;241m%\u001b[39m \u001b[38;5;28mlen\u001b[39m(arr)\n\u001b[1;32m      5\u001b[0m     answer\u001b[38;5;241m.\u001b[39mappend(\u001b[38;5;28mstr\u001b[39m(arr\u001b[38;5;241m.\u001b[39mpop(num)))\n\u001b[1;32m      6\u001b[0m \u001b[38;5;28mprint\u001b[39m(\u001b[38;5;124m\"\u001b[39m\u001b[38;5;124m<\u001b[39m\u001b[38;5;124m\"\u001b[39m, \u001b[38;5;124m\"\u001b[39m\u001b[38;5;124m, \u001b[39m\u001b[38;5;124m\"\u001b[39m\u001b[38;5;241m.\u001b[39mjoin(answer)[:], \u001b[38;5;124m\"\u001b[39m\u001b[38;5;124m>\u001b[39m\u001b[38;5;124m\"\u001b[39m, sep\u001b[38;5;241m=\u001b[39m\u001b[38;5;124m'\u001b[39m\u001b[38;5;124m'\u001b[39m)\n",
      "\u001b[0;31mZeroDivisionError\u001b[0m: integer division or modulo by zero"
     ]
    }
   ],
   "source": [
    "for t in range(n):\n",
    "    num += k-1\n",
    "    if num >= len(arr):\n",
    "        num = num % len(arr)\n",
    "    answer.append(str(arr.pop(num)))\n",
    "print(\"<\", \", \".join(answer)[:], \">\", sep='')\n",
    "\n"
   ]
  },
  {
   "cell_type": "code",
   "execution_count": 1,
   "id": "744218d8",
   "metadata": {},
   "outputs": [
    {
     "name": "stdout",
     "output_type": "stream",
     "text": [
      "7 3\n"
     ]
    }
   ],
   "source": [
    "n, k = map(int, input().split())"
   ]
  },
  {
   "cell_type": "code",
   "execution_count": 2,
   "id": "ef5f47a0",
   "metadata": {},
   "outputs": [],
   "source": [
    "arr = [i for i in range(1, n+1)]\n"
   ]
  },
  {
   "cell_type": "code",
   "execution_count": 3,
   "id": "bb32e025",
   "metadata": {},
   "outputs": [
    {
     "data": {
      "text/plain": [
       "[1, 2, 3, 4, 5, 6, 7]"
      ]
     },
     "execution_count": 3,
     "metadata": {},
     "output_type": "execute_result"
    }
   ],
   "source": [
    "arr"
   ]
  },
  {
   "cell_type": "code",
   "execution_count": 4,
   "id": "e105c592",
   "metadata": {},
   "outputs": [],
   "source": [
    "key = 0"
   ]
  },
  {
   "cell_type": "code",
   "execution_count": 5,
   "id": "648e9f75",
   "metadata": {},
   "outputs": [],
   "source": [
    "result = []"
   ]
  },
  {
   "cell_type": "code",
   "execution_count": 8,
   "id": "fb4dafdc",
   "metadata": {},
   "outputs": [],
   "source": [
    "while len(arr) > 0:\n",
    "    key = (key + (k-1)) % len(arr)\n",
    "    print(key)\n",
    "    result.append(arr.pop(key))"
   ]
  },
  {
   "cell_type": "code",
   "execution_count": 9,
   "id": "6fcae797",
   "metadata": {},
   "outputs": [
    {
     "name": "stdout",
     "output_type": "stream",
     "text": [
      "<3, 6, 2, 7, 5, 1, 4>\n"
     ]
    }
   ],
   "source": [
    "print(\"<%s>\" % \", \".join(map(str, result)))"
   ]
  },
  {
   "cell_type": "code",
   "execution_count": 10,
   "id": "91ad3fed",
   "metadata": {},
   "outputs": [
    {
     "data": {
      "text/plain": [
       "0"
      ]
     },
     "execution_count": 10,
     "metadata": {},
     "output_type": "execute_result"
    }
   ],
   "source": [
    "key"
   ]
  },
  {
   "cell_type": "code",
   "execution_count": 11,
   "id": "aac87775",
   "metadata": {},
   "outputs": [
    {
     "data": {
      "text/plain": [
       "[3, 6, 2, 7, 5, 1, 4]"
      ]
     },
     "execution_count": 11,
     "metadata": {},
     "output_type": "execute_result"
    }
   ],
   "source": [
    "result"
   ]
  },
  {
   "cell_type": "code",
   "execution_count": 12,
   "id": "5d4fe633",
   "metadata": {},
   "outputs": [],
   "source": [
    "# 1 - 2 - 3 - 4 - 5 - 6 - 7\n",
    "\n",
    "# 3\n",
    "\n",
    "# 1 - 2 - 4 - 5 - 6 - 7\n",
    "\n",
    "# 6\n",
    "\n",
    "# 1 - 2 - 4 - 5 - 7\n",
    "\n",
    "# 2\n",
    "\n",
    "# 1 - 4 - 5 - 7a"
   ]
  },
  {
   "cell_type": "code",
   "execution_count": 14,
   "id": "142bf887",
   "metadata": {},
   "outputs": [],
   "source": [
    "# from sys import stdin\n",
    "# input = stdin.readline\n",
    "\n",
    "# n, k = map(int, input().split())\n",
    "# nums = list(range(1, n+1))\n",
    "# index = k-1\n",
    "# result = []\n",
    "# for _ in range(n):\n",
    "#     index = index % len(nums)\n",
    "#     result.append(nums.pop(index))\n",
    "#     index += k - 1\n",
    "    \n",
    "# print(\"<{}>\".format(\", \".join(map(str, result))))\n",
    "\n"
   ]
  },
  {
   "cell_type": "code",
   "execution_count": 15,
   "id": "853c3a78",
   "metadata": {},
   "outputs": [],
   "source": [
    "# python 에서 원형 큐를 구현하는 문제\n",
    "# Circular Queue => deque , rotate() method\n"
   ]
  },
  {
   "cell_type": "code",
   "execution_count": 1,
   "id": "db191e27",
   "metadata": {},
   "outputs": [
    {
     "name": "stdout",
     "output_type": "stream",
     "text": [
      "7 3\n"
     ]
    }
   ],
   "source": [
    "n, k = map(int,input().split())\n"
   ]
  },
  {
   "cell_type": "code",
   "execution_count": 8,
   "id": "6078fcd9",
   "metadata": {},
   "outputs": [
    {
     "name": "stdout",
     "output_type": "stream",
     "text": [
      "idx: (before) 0\n",
      "idx:  2\n",
      "queue:  [1, 2, 3, 4, 5, 6, 7]\n",
      "result:  [3]\n",
      "idx: (before) 2\n",
      "idx:  4\n",
      "queue:  [1, 2, 4, 5, 6, 7]\n",
      "result:  [3, 6]\n",
      "idx: (before) 4\n",
      "idx:  1\n",
      "queue:  [1, 2, 4, 5, 7]\n",
      "result:  [3, 6, 2]\n",
      "idx: (before) 1\n",
      "idx:  3\n",
      "queue:  [1, 4, 5, 7]\n",
      "result:  [3, 6, 2, 7]\n",
      "idx: (before) 3\n",
      "idx:  2\n",
      "queue:  [1, 4, 5]\n",
      "result:  [3, 6, 2, 7, 5]\n",
      "idx: (before) 2\n",
      "idx:  0\n",
      "queue:  [1, 4]\n",
      "result:  [3, 6, 2, 7, 5, 1]\n",
      "idx: (before) 0\n",
      "idx:  0\n",
      "queue:  [4]\n",
      "result:  [3, 6, 2, 7, 5, 1, 4]\n"
     ]
    }
   ],
   "source": [
    "\n",
    "queue = [ i  for i in range(1, n+1)]\n",
    "result = []\n",
    "idx = 0\n",
    "while queue:\n",
    "    print(\"idx: (before)\", idx)\n",
    "    idx = (idx+(k-1)) % len(queue)\n",
    "    print(\"idx: \", idx)\n",
    "    print(\"queue: \", queue)\n",
    "    result.append(queue.pop(idx))\n",
    "    print(\"result: \", result)\n",
    "    \n"
   ]
  },
  {
   "cell_type": "code",
   "execution_count": 19,
   "id": "24c82d16",
   "metadata": {},
   "outputs": [
    {
     "name": "stdout",
     "output_type": "stream",
     "text": [
      "<3, 6, 2, 7, 5, 1, 4>\n"
     ]
    }
   ],
   "source": [
    "print(\"<\"+\", \".join(map(str, result)) + \">\")"
   ]
  },
  {
   "cell_type": "code",
   "execution_count": 26,
   "id": "f597c535",
   "metadata": {},
   "outputs": [
    {
     "name": "stdout",
     "output_type": "stream",
     "text": [
      "<3, 6, 2, 7, 5, 1, 4>\n"
     ]
    }
   ],
   "source": [
    "print(\"<\"+\", \".join(map(str, result)) + \">\")"
   ]
  },
  {
   "cell_type": "code",
   "execution_count": 3,
   "id": "747aaeb6",
   "metadata": {},
   "outputs": [
    {
     "name": "stdout",
     "output_type": "stream",
     "text": [
      "<3, 6, 2, 7, 5, 1, 4>\n"
     ]
    }
   ],
   "source": [
    "print(\"<\"+\", \".join(map(str, result)) + \">\")"
   ]
  },
  {
   "cell_type": "code",
   "execution_count": 28,
   "id": "ff86c53a",
   "metadata": {},
   "outputs": [
    {
     "ename": "NameError",
     "evalue": "name 'queue' is not defined",
     "output_type": "error",
     "traceback": [
      "\u001b[0;31m---------------------------------------------------------------------------\u001b[0m",
      "\u001b[0;31mNameError\u001b[0m                                 Traceback (most recent call last)",
      "Cell \u001b[0;32mIn [28], line 1\u001b[0m\n\u001b[0;32m----> 1\u001b[0m queue\n",
      "\u001b[0;31mNameError\u001b[0m: name 'queue' is not defined"
     ]
    }
   ],
   "source": [
    "queue"
   ]
  },
  {
   "cell_type": "code",
   "execution_count": null,
   "id": "319fda1a",
   "metadata": {},
   "outputs": [],
   "source": []
  }
 ],
 "metadata": {
  "kernelspec": {
   "display_name": "Python 3 (ipykernel)",
   "language": "python",
   "name": "python3"
  },
  "language_info": {
   "codemirror_mode": {
    "name": "ipython",
    "version": 3
   },
   "file_extension": ".py",
   "mimetype": "text/x-python",
   "name": "python",
   "nbconvert_exporter": "python",
   "pygments_lexer": "ipython3",
   "version": "3.9.7"
  }
 },
 "nbformat": 4,
 "nbformat_minor": 5
}

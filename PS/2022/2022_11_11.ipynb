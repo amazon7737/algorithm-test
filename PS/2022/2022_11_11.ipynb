{
 "cells": [
  {
   "cell_type": "code",
   "execution_count": 1,
   "id": "ba5f8d01",
   "metadata": {},
   "outputs": [],
   "source": [
    "#10451\n",
    "\n"
   ]
  },
  {
   "cell_type": "code",
   "execution_count": 5,
   "id": "2c434f91",
   "metadata": {},
   "outputs": [],
   "source": [
    "#bfs"
   ]
  },
  {
   "cell_type": "code",
   "execution_count": 2,
   "id": "252afacb",
   "metadata": {},
   "outputs": [
    {
     "name": "stdout",
     "output_type": "stream",
     "text": [
      "\n"
     ]
    },
    {
     "ename": "ValueError",
     "evalue": "invalid literal for int() with base 10: ''",
     "output_type": "error",
     "traceback": [
      "\u001b[0;31m---------------------------------------------------------------------------\u001b[0m",
      "\u001b[0;31mValueError\u001b[0m                                Traceback (most recent call last)",
      "Cell \u001b[0;32mIn [2], line 1\u001b[0m\n\u001b[0;32m----> 1\u001b[0m T\u001b[38;5;241m=\u001b[39m\u001b[38;5;28mint\u001b[39m(\u001b[38;5;28minput\u001b[39m())\n\u001b[1;32m      3\u001b[0m \u001b[38;5;28;01mdef\u001b[39;00m \u001b[38;5;21mbfs\u001b[39m(V):\n\u001b[1;32m      4\u001b[0m     queue \u001b[38;5;241m=\u001b[39m [V]\n",
      "\u001b[0;31mValueError\u001b[0m: invalid literal for int() with base 10: ''"
     ]
    }
   ],
   "source": [
    "T=int(input())\n",
    "\n",
    "def bfs(V):\n",
    "    queue = [V]\n",
    "    visited[V] = 1  #방문한 곳 1로 표시\n",
    "    while queue:\n",
    "        V = queue[0]\n",
    "        queue.pop(0)\n",
    "        next = arr[V]\n",
    "        if visited[next] == 0: #아직 방문하지 않은 곳인 경우\n",
    "            visited[next] = 1\n",
    "            queue.append(next)\n",
    "    return 1\n",
    "\n",
    "for i in range(T):\n",
    "    answer = 0\n",
    "    N = int(input())\n",
    "    arr = [0] + list(map(int, input().split()))\n",
    "    visited = [0] * (N + 1)\n",
    "\n",
    "    for i in range(1, N+1):\n",
    "        if visited[i] == 0:\n",
    "            answer += bfs(i)\n",
    "    print(answer) #순열 사이클의 개수"
   ]
  },
  {
   "cell_type": "code",
   "execution_count": 3,
   "id": "1e41f01c",
   "metadata": {},
   "outputs": [],
   "source": [
    "#dfs"
   ]
  },
  {
   "cell_type": "code",
   "execution_count": 4,
   "id": "eeb847c7",
   "metadata": {},
   "outputs": [
    {
     "name": "stdout",
     "output_type": "stream",
     "text": [
      "\n"
     ]
    },
    {
     "ename": "ValueError",
     "evalue": "invalid literal for int() with base 10: ''",
     "output_type": "error",
     "traceback": [
      "\u001b[0;31m---------------------------------------------------------------------------\u001b[0m",
      "\u001b[0;31mValueError\u001b[0m                                Traceback (most recent call last)",
      "Cell \u001b[0;32mIn [4], line 4\u001b[0m\n\u001b[1;32m      1\u001b[0m \u001b[38;5;28;01mimport\u001b[39;00m \u001b[38;5;21;01msys\u001b[39;00m\n\u001b[1;32m      2\u001b[0m sys\u001b[38;5;241m.\u001b[39msetrecursionlimit(\u001b[38;5;241m10\u001b[39m\u001b[38;5;241m*\u001b[39m\u001b[38;5;241m*\u001b[39m\u001b[38;5;241m7\u001b[39m)\n\u001b[0;32m----> 4\u001b[0m T\u001b[38;5;241m=\u001b[39m\u001b[38;5;28mint\u001b[39m(\u001b[38;5;28minput\u001b[39m())\n\u001b[1;32m      6\u001b[0m \u001b[38;5;28;01mdef\u001b[39;00m \u001b[38;5;21mdfs\u001b[39m(V):\n\u001b[1;32m      7\u001b[0m     visited[V]\u001b[38;5;241m=\u001b[39m\u001b[38;5;241m1\u001b[39m  \u001b[38;5;66;03m#방문한 곳 1로 표시\u001b[39;00m\n",
      "\u001b[0;31mValueError\u001b[0m: invalid literal for int() with base 10: ''"
     ]
    }
   ],
   "source": [
    "import sys\n",
    "sys.setrecursionlimit(10**7)\n",
    "\n",
    "T=int(input())\n",
    "\n",
    "def dfs(V):\n",
    "    visited[V]=1  #방문한 곳 1로 표시\n",
    "    next=arr[V]\n",
    "    if visited[next]==0: #아직 방문하지 않은 곳인 경우\n",
    "        dfs(next)\n",
    "\n",
    "for i in range(T):\n",
    "    answer = 0\n",
    "    N = int(input())\n",
    "    arr = [0] + list(map(int, input().split()))\n",
    "    visited = [0] * (N + 1)\n",
    "\n",
    "    for i in range(1, N+1):\n",
    "        if visited[i]==0:\n",
    "            dfs(i)\n",
    "            answer+=1\n",
    "    print(answer) #순열 사이클의 개수"
   ]
  },
  {
   "cell_type": "code",
   "execution_count": null,
   "id": "18a813ec",
   "metadata": {},
   "outputs": [],
   "source": []
  }
 ],
 "metadata": {
  "kernelspec": {
   "display_name": "Python 3 (ipykernel)",
   "language": "python",
   "name": "python3"
  },
  "language_info": {
   "codemirror_mode": {
    "name": "ipython",
    "version": 3
   },
   "file_extension": ".py",
   "mimetype": "text/x-python",
   "name": "python",
   "nbconvert_exporter": "python",
   "pygments_lexer": "ipython3",
   "version": "3.9.7"
  }
 },
 "nbformat": 4,
 "nbformat_minor": 5
}

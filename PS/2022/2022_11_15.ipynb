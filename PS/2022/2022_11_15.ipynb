{
 "cells": [
  {
   "cell_type": "code",
   "execution_count": 1,
   "id": "91397865",
   "metadata": {},
   "outputs": [],
   "source": [
    "#2178"
   ]
  },
  {
   "cell_type": "code",
   "execution_count": 2,
   "id": "318dd1fd",
   "metadata": {},
   "outputs": [
    {
     "ename": "ValueError",
     "evalue": "not enough values to unpack (expected 2, got 0)",
     "output_type": "error",
     "traceback": [
      "\u001b[0;31m---------------------------------------------------------------------------\u001b[0m",
      "\u001b[0;31mValueError\u001b[0m                                Traceback (most recent call last)",
      "Cell \u001b[0;32mIn [2], line 5\u001b[0m\n\u001b[1;32m      2\u001b[0m \u001b[38;5;28;01mfrom\u001b[39;00m \u001b[38;5;21;01mcollections\u001b[39;00m \u001b[38;5;28;01mimport\u001b[39;00m deque\n\u001b[1;32m      3\u001b[0m \u001b[38;5;28minput\u001b[39m \u001b[38;5;241m=\u001b[39m sys\u001b[38;5;241m.\u001b[39mstdin\u001b[38;5;241m.\u001b[39mreadline\n\u001b[0;32m----> 5\u001b[0m n, m \u001b[38;5;241m=\u001b[39m \u001b[38;5;28mtuple\u001b[39m(\u001b[38;5;28mmap\u001b[39m(\u001b[38;5;28mint\u001b[39m, \u001b[38;5;28minput\u001b[39m()\u001b[38;5;241m.\u001b[39msplit()))\n\u001b[1;32m      6\u001b[0m alist \u001b[38;5;241m=\u001b[39m [\u001b[38;5;28mlist\u001b[39m(\u001b[38;5;28mmap\u001b[39m(\u001b[38;5;28mint\u001b[39m, \u001b[38;5;28minput\u001b[39m()\u001b[38;5;241m.\u001b[39mstrip())) \u001b[38;5;28;01mfor\u001b[39;00m _ \u001b[38;5;129;01min\u001b[39;00m \u001b[38;5;28mrange\u001b[39m(n)]\n\u001b[1;32m      7\u001b[0m visited \u001b[38;5;241m=\u001b[39m [[\u001b[38;5;28;01mFalse\u001b[39;00m \u001b[38;5;28;01mfor\u001b[39;00m _ \u001b[38;5;129;01min\u001b[39;00m \u001b[38;5;28mrange\u001b[39m(m)] \u001b[38;5;28;01mfor\u001b[39;00m _ \u001b[38;5;129;01min\u001b[39;00m \u001b[38;5;28mrange\u001b[39m(n)]\n",
      "\u001b[0;31mValueError\u001b[0m: not enough values to unpack (expected 2, got 0)"
     ]
    }
   ],
   "source": [
    "import sys\n",
    "from collections import deque\n",
    "input = sys.stdin.readline\n",
    "\n",
    "n, m = tuple(map(int, input().split()))\n",
    "alist = [list(map(int, input().strip())) for _ in range(n)]\n",
    "visited = [[False for _ in range(m)] for _ in range(n)]\n",
    "\n",
    "dx = [-1, 1, 0, 0]\n",
    "dy = [0, 0, -1, 1]\n",
    "def bfs(x, y):\n",
    "    q = deque([(x, y, 1)])\n",
    "    visited[x][y] = True\n",
    "    while q:\n",
    "        x, y, distance = q.popleft()\n",
    "        if x == n-1 and y == m-1:\n",
    "            print(distance)\n",
    "            break\n",
    "        else:\n",
    "            for i in range(4):\n",
    "                nx = x + dx[i]\n",
    "                ny = y + dy[i]\n",
    "                if 0 <= nx < n and 0 <= ny < m and not visited[nx][ny] and alist[nx][ny] == 1:\n",
    "                    visited[nx][ny] = True\n",
    "                    q.append((nx, ny, distance + 1))\n",
    "                    \n",
    "bfs(0, 0)                    "
   ]
  },
  {
   "cell_type": "code",
   "execution_count": 3,
   "id": "39994a67",
   "metadata": {},
   "outputs": [],
   "source": [
    "#2146\n"
   ]
  },
  {
   "cell_type": "code",
   "execution_count": 5,
   "id": "25475346",
   "metadata": {},
   "outputs": [
    {
     "ename": "ValueError",
     "evalue": "invalid literal for int() with base 10: ''",
     "output_type": "error",
     "traceback": [
      "\u001b[0;31m---------------------------------------------------------------------------\u001b[0m",
      "\u001b[0;31mValueError\u001b[0m                                Traceback (most recent call last)",
      "Cell \u001b[0;32mIn [5], line 5\u001b[0m\n\u001b[1;32m      2\u001b[0m \u001b[38;5;28;01mfrom\u001b[39;00m \u001b[38;5;21;01mcollections\u001b[39;00m \u001b[38;5;28;01mimport\u001b[39;00m deque\n\u001b[1;32m      4\u001b[0m \u001b[38;5;28minput\u001b[39m \u001b[38;5;241m=\u001b[39m sys\u001b[38;5;241m.\u001b[39mstdin\u001b[38;5;241m.\u001b[39mreadline\n\u001b[0;32m----> 5\u001b[0m n \u001b[38;5;241m=\u001b[39m \u001b[38;5;28mint\u001b[39m(\u001b[38;5;28minput\u001b[39m())\n\u001b[1;32m      6\u001b[0m board \u001b[38;5;241m=\u001b[39m [\u001b[38;5;28mlist\u001b[39m(\u001b[38;5;28mmap\u001b[39m(\u001b[38;5;28mint\u001b[39m, \u001b[38;5;28minput\u001b[39m()\u001b[38;5;241m.\u001b[39msplit())) \u001b[38;5;28;01mfor\u001b[39;00m _ \u001b[38;5;129;01min\u001b[39;00m \u001b[38;5;28mrange\u001b[39m(n)]\n\u001b[1;32m      7\u001b[0m visited \u001b[38;5;241m=\u001b[39m [[\u001b[38;5;28;01mFalse\u001b[39;00m] \u001b[38;5;241m*\u001b[39m n \u001b[38;5;28;01mfor\u001b[39;00m _ \u001b[38;5;129;01min\u001b[39;00m \u001b[38;5;28mrange\u001b[39m(n)]\n",
      "\u001b[0;31mValueError\u001b[0m: invalid literal for int() with base 10: ''"
     ]
    }
   ],
   "source": [
    "import sys\n",
    "from collections import deque\n",
    "\n",
    "input = sys.stdin.readline\n",
    "n = int(input())\n",
    "board = [list(map(int, input().split())) for _ in range(n)]\n",
    "visited = [[False] * n for _ in range(n)]\n",
    "dir = [[-1, 0], [1, 0], [0, -1], [0, 1]]\n",
    "distance = [[-1] * n for _ in range(n)]\n",
    "sea = deque([])\n",
    "\n",
    "#육지 넘버링\n",
    "def numbering(board, number):\n",
    "    q = deque([])\n",
    "    for i in range(n):\n",
    "        for j in range(n):\n",
    "            if board[i][j] == 1 and not visited[i][j]:\n",
    "                q.append((i, j))\n",
    "                visited[i][j] = True\n",
    "                board[i][j] = number\n",
    "                distance[i][j] = 0\n",
    "                \n",
    "                while q:\n",
    "                    r, c = q.popleft()\n",
    "                    for d in range(4):\n",
    "                        nr = r + dir[d][0]\n",
    "                        nc = c + dir[d][1]\n",
    "                        if 0 <= nr < n and 0 <= nc < n and not visited[nr][nc]:\n",
    "                            #육지라면 넘버링 계속 진행\n",
    "                            if board[nr][nc] == 1:\n",
    "                                q.append((nr, nc))\n",
    "                                visited[nr][nc] = True\n",
    "                                board[nr][nc] = number\n",
    "                                distance[nr][nc] = 0\n",
    "                                \n",
    "                            #육지의 상하좌우 중 하나가 바다라면 (가장자리라느 ㄴ말과 같음)\n",
    "                            \n",
    "                            elif board[nr][nc] == 0:\n",
    "                                sea.append((r, c, number))\n",
    "                                #실수로 ( nr, nc, number)를 저장했음.\n",
    "                                # 다음 좌표가 아닌 현재 좌표 ( r, c, number)를 저장해야함.\n",
    "                                \n",
    "                number += 1\n",
    "                \n",
    "# 다리 놓기\n",
    "def extend(board):\n",
    "    answer = 1e9\n",
    "    while sea:\n",
    "        r, c, bridge = sea.popleft()\n",
    "        for i in range(4):\n",
    "            nr = r + dir[i][0]\n",
    "            nc = c + dir[i][1]\n",
    "            if 0 <= nr < n and 0 <= nc < n:\n",
    "                # 바다라면 다리를 놓아준다.\n",
    "                if board[nr][nc] == 0:\n",
    "                    #육지번호가 bridge 인 육지에서 다리를 설치한다는 뜻\n",
    "                    board[nr][nc] = bridge\n",
    "                    distance[nr][nc] = distance[r][c] + 1 #다리 길이 +1\n",
    "                    sea.append((nr, nc, bridge))\n",
    "                    \n",
    "                #다른 육지에서 놓은 다리와 만날경우 거리 계산\n",
    "                # 즉, 섬과 섬이 이어졌다는 뜻\n",
    "                elif board[nr][nc] != bridge:\n",
    "                    answer = min(answer, distance[r][c] + distance[nr][nc])\n",
    "                    # flag 변수를 만들어서 강제로 while 문 종료시켜도 될 듯하다.\n",
    "                    # --> 섬과 섬을 잇는 최초의 다리는 가장 짧은 다리이기 때문이다.\n",
    "    return answer\n",
    "\n",
    "numbering(board, 1)\n",
    "print(extend(board))\n"
   ]
  },
  {
   "cell_type": "code",
   "execution_count": null,
   "id": "eb6710f3",
   "metadata": {},
   "outputs": [],
   "source": []
  }
 ],
 "metadata": {
  "kernelspec": {
   "display_name": "Python 3 (ipykernel)",
   "language": "python",
   "name": "python3"
  },
  "language_info": {
   "codemirror_mode": {
    "name": "ipython",
    "version": 3
   },
   "file_extension": ".py",
   "mimetype": "text/x-python",
   "name": "python",
   "nbconvert_exporter": "python",
   "pygments_lexer": "ipython3",
   "version": "3.9.7"
  }
 },
 "nbformat": 4,
 "nbformat_minor": 5
}

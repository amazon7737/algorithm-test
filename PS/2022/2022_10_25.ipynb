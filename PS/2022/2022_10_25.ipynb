{
 "cells": [
  {
   "cell_type": "code",
   "execution_count": 6,
   "id": "b813122c",
   "metadata": {},
   "outputs": [
    {
     "name": "stdout",
     "output_type": "stream",
     "text": [
      "10 20 30 40\n"
     ]
    }
   ],
   "source": [
    "f = list(map(str, input().split()))"
   ]
  },
  {
   "cell_type": "code",
   "execution_count": 8,
   "id": "935ef5ad",
   "metadata": {},
   "outputs": [
    {
     "data": {
      "text/plain": [
       "'10'"
      ]
     },
     "execution_count": 8,
     "metadata": {},
     "output_type": "execute_result"
    }
   ],
   "source": [
    "f[0]"
   ]
  },
  {
   "cell_type": "code",
   "execution_count": 11,
   "id": "99387e19",
   "metadata": {},
   "outputs": [],
   "source": [
    "\n",
    "a = f[0]\n",
    "b = f[1]\n",
    "c = f[2]\n",
    "d = f[3]\n",
    "    \n"
   ]
  },
  {
   "cell_type": "code",
   "execution_count": 20,
   "id": "ed7d7d6a",
   "metadata": {},
   "outputs": [],
   "source": [
    "s = a+b\n",
    "t = c+d\n",
    "s = int(s)\n",
    "t = int(t)"
   ]
  },
  {
   "cell_type": "code",
   "execution_count": 21,
   "id": "372826b4",
   "metadata": {},
   "outputs": [
    {
     "name": "stdout",
     "output_type": "stream",
     "text": [
      "4060\n"
     ]
    }
   ],
   "source": [
    "print(s+t)"
   ]
  },
  {
   "cell_type": "code",
   "execution_count": 22,
   "id": "de1c83fe",
   "metadata": {},
   "outputs": [],
   "source": [
    "def function():\n",
    "    f = list(map(str, input().split()))\n",
    "    a = f[0]\n",
    "    b = f[1]\n",
    "    c = f[2]\n",
    "    d = f[3]\n",
    "    s = a+b\n",
    "    t = c+d\n",
    "    s = int(s)\n",
    "    t = int(t)\n",
    "    print(s+t)\n"
   ]
  },
  {
   "cell_type": "code",
   "execution_count": 23,
   "id": "557c5f01",
   "metadata": {},
   "outputs": [
    {
     "name": "stdout",
     "output_type": "stream",
     "text": [
      "10 20 30 40\n",
      "4060\n"
     ]
    }
   ],
   "source": [
    "function()"
   ]
  },
  {
   "cell_type": "code",
   "execution_count": null,
   "id": "47c25ba9",
   "metadata": {},
   "outputs": [],
   "source": []
  }
 ],
 "metadata": {
  "kernelspec": {
   "display_name": "Python 3 (ipykernel)",
   "language": "python",
   "name": "python3"
  },
  "language_info": {
   "codemirror_mode": {
    "name": "ipython",
    "version": 3
   },
   "file_extension": ".py",
   "mimetype": "text/x-python",
   "name": "python",
   "nbconvert_exporter": "python",
   "pygments_lexer": "ipython3",
   "version": "3.9.7"
  }
 },
 "nbformat": 4,
 "nbformat_minor": 5
}

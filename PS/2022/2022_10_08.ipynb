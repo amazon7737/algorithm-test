{
 "cells": [
  {
   "cell_type": "code",
   "execution_count": 39,
   "id": "bc628300",
   "metadata": {},
   "outputs": [],
   "source": [
    "#10866\n",
    "\n",
    "from collections import deque"
   ]
  },
  {
   "cell_type": "code",
   "execution_count": 2,
   "id": "93b590c9",
   "metadata": {},
   "outputs": [
    {
     "name": "stdout",
     "output_type": "stream",
     "text": [
      "deque(['name', 'age', 'DOB'])\n"
     ]
    }
   ],
   "source": [
    "queue = deque(['name', 'age', 'DOB'])\n",
    "\n",
    "print(queue)"
   ]
  },
  {
   "cell_type": "code",
   "execution_count": 25,
   "id": "27d893c7",
   "metadata": {},
   "outputs": [],
   "source": [
    "def push_front(x):\n",
    "    queue.append(x)\n",
    "    \n",
    "def push_back(x):\n",
    "    queue.appendleft(x)\n",
    "    \n",
    "\n",
    "    "
   ]
  },
  {
   "cell_type": "code",
   "execution_count": 33,
   "id": "57d8444b",
   "metadata": {},
   "outputs": [],
   "source": [
    "def pop_front():\n",
    "    if not len(queue):\n",
    "        print(-1)\n",
    "    queue.pop()\n",
    "    \n",
    "def pop_back():\n",
    "    if not len(queue):\n",
    "        print(-1)\n",
    "    queue.popleft()\n",
    "    \n",
    "def size():\n",
    "    print(len(queue))"
   ]
  },
  {
   "cell_type": "code",
   "execution_count": 27,
   "id": "cccabd5e",
   "metadata": {},
   "outputs": [],
   "source": [
    "def empty():\n",
    "    if len(queue) == 0:\n",
    "        print(1)\n",
    "    else:\n",
    "        print(0)\n",
    "        "
   ]
  },
  {
   "cell_type": "code",
   "execution_count": 28,
   "id": "373361de",
   "metadata": {},
   "outputs": [],
   "source": [
    "def front():\n",
    "    if len(queue) == 0:\n",
    "        print(-1)\n",
    "    print(queue[-1])\n",
    "    \n",
    "def back():\n",
    "    if len(queue) == 0:\n",
    "        print(-1)\n",
    "    print(queue[0])"
   ]
  },
  {
   "cell_type": "code",
   "execution_count": 7,
   "id": "a7e33e3c",
   "metadata": {
    "scrolled": true
   },
   "outputs": [
    {
     "data": {
      "text/plain": [
       "deque(['hi', 'name', 'age', 'DOB', 'hi'])"
      ]
     },
     "execution_count": 7,
     "metadata": {},
     "output_type": "execute_result"
    }
   ],
   "source": [
    "queue"
   ]
  },
  {
   "cell_type": "code",
   "execution_count": 14,
   "id": "552ae50e",
   "metadata": {},
   "outputs": [],
   "source": [
    "pop_back()"
   ]
  },
  {
   "cell_type": "code",
   "execution_count": 15,
   "id": "40549c2b",
   "metadata": {},
   "outputs": [
    {
     "data": {
      "text/plain": [
       "deque(['name', 'age', 'DOB'])"
      ]
     },
     "execution_count": 15,
     "metadata": {},
     "output_type": "execute_result"
    }
   ],
   "source": [
    "queue"
   ]
  },
  {
   "cell_type": "code",
   "execution_count": 21,
   "id": "d7b3d03a",
   "metadata": {},
   "outputs": [
    {
     "name": "stdout",
     "output_type": "stream",
     "text": [
      "DOB\n"
     ]
    }
   ],
   "source": [
    "front()"
   ]
  },
  {
   "cell_type": "code",
   "execution_count": 22,
   "id": "4fa30a1e",
   "metadata": {},
   "outputs": [
    {
     "data": {
      "text/plain": [
       "deque(['name', 'age', 'DOB'])"
      ]
     },
     "execution_count": 22,
     "metadata": {},
     "output_type": "execute_result"
    }
   ],
   "source": [
    "queue"
   ]
  },
  {
   "cell_type": "code",
   "execution_count": 23,
   "id": "8265d57e",
   "metadata": {
    "scrolled": true
   },
   "outputs": [
    {
     "name": "stdout",
     "output_type": "stream",
     "text": [
      "15\n"
     ]
    }
   ],
   "source": [
    "n = int(input())"
   ]
  },
  {
   "cell_type": "code",
   "execution_count": 34,
   "id": "b8e12d5f",
   "metadata": {},
   "outputs": [
    {
     "name": "stdout",
     "output_type": "stream",
     "text": [
      "push_back 1\n",
      "push_front 2\n",
      "front\n",
      "back\n",
      "size\n",
      "empty\n",
      "pop_front\n",
      "pop_back\n",
      "pop_front\n",
      "size\n",
      "empty\n",
      "pop_back\n",
      "puch_front 3\n",
      "empty\n",
      "front\n"
     ]
    }
   ],
   "source": [
    "s = [str(input()) for _ in range(n)]"
   ]
  },
  {
   "cell_type": "code",
   "execution_count": null,
   "id": "6d166c9a",
   "metadata": {},
   "outputs": [],
   "source": []
  },
  {
   "cell_type": "code",
   "execution_count": 37,
   "id": "c436c888",
   "metadata": {},
   "outputs": [],
   "source": [
    "def solve(s):\n",
    "    queue = deque()\n",
    "    \n",
    "    for order in s:\n",
    "        if order == 'pop_front':\n",
    "            print(pop_front(queue))\n",
    "        elif order == 'pop_back':\n",
    "            print(pop_back(queue))\n",
    "        elif order == 'size':\n",
    "            print(size(queue))\n",
    "        elif order == 'empty':\n",
    "            print(empty(queue))\n",
    "        elif order == 'front':\n",
    "            print(front(queue))\n",
    "        elif order == 'back':\n",
    "            print(back(queue))\n",
    "        else:\n",
    "            order, num = order.split()\n",
    "            if order == 'push_front':\n",
    "                push_front_x(queue, num)\n",
    "            else:\n",
    "                push_back_x(queue, num)\n",
    "                \n",
    "                "
   ]
  },
  {
   "cell_type": "code",
   "execution_count": 38,
   "id": "5713d375",
   "metadata": {},
   "outputs": [
    {
     "name": "stdout",
     "output_type": "stream",
     "text": [
      "15\n",
      "push_back 1\n",
      "push_front 2\n",
      "front\n",
      "back\n",
      "size\n",
      "empty\n",
      "pop_front\n",
      "pop_back\n",
      "pop_front\n",
      "size\n",
      "empty\n",
      "pop_back\n",
      "push_front 3\n",
      "empty\n",
      "front\n"
     ]
    },
    {
     "ename": "TypeError",
     "evalue": "front() takes 0 positional arguments but 1 was given",
     "output_type": "error",
     "traceback": [
      "\u001b[0;31m---------------------------------------------------------------------------\u001b[0m",
      "\u001b[0;31mTypeError\u001b[0m                                 Traceback (most recent call last)",
      "Cell \u001b[0;32mIn [38], line 5\u001b[0m\n\u001b[1;32m      3\u001b[0m \u001b[38;5;28;01mfor\u001b[39;00m _ \u001b[38;5;129;01min\u001b[39;00m \u001b[38;5;28mrange\u001b[39m(n):\n\u001b[1;32m      4\u001b[0m     s \u001b[38;5;241m=\u001b[39m [\u001b[38;5;28mstr\u001b[39m(\u001b[38;5;28minput\u001b[39m())]\n\u001b[0;32m----> 5\u001b[0m solve(s)\n",
      "Cell \u001b[0;32mIn [37], line 14\u001b[0m, in \u001b[0;36msolve\u001b[0;34m(s)\u001b[0m\n\u001b[1;32m     12\u001b[0m     \u001b[38;5;28mprint\u001b[39m(empty(queue))\n\u001b[1;32m     13\u001b[0m \u001b[38;5;28;01melif\u001b[39;00m order \u001b[38;5;241m==\u001b[39m \u001b[38;5;124m'\u001b[39m\u001b[38;5;124mfront\u001b[39m\u001b[38;5;124m'\u001b[39m:\n\u001b[0;32m---> 14\u001b[0m     \u001b[38;5;28mprint\u001b[39m(\u001b[43mfront\u001b[49m\u001b[43m(\u001b[49m\u001b[43mqueue\u001b[49m\u001b[43m)\u001b[49m)\n\u001b[1;32m     15\u001b[0m \u001b[38;5;28;01melif\u001b[39;00m order \u001b[38;5;241m==\u001b[39m \u001b[38;5;124m'\u001b[39m\u001b[38;5;124mback\u001b[39m\u001b[38;5;124m'\u001b[39m:\n\u001b[1;32m     16\u001b[0m     \u001b[38;5;28mprint\u001b[39m(back(queue))\n",
      "\u001b[0;31mTypeError\u001b[0m: front() takes 0 positional arguments but 1 was given"
     ]
    }
   ],
   "source": [
    "if __name__ == '__main__':\n",
    "    n = int(input())\n",
    "    for _ in range(n):\n",
    "        s = [str(input())]\n",
    "    solve(s)"
   ]
  },
  {
   "cell_type": "code",
   "execution_count": 40,
   "id": "c38ecbb9",
   "metadata": {},
   "outputs": [],
   "source": [
    "#10808"
   ]
  },
  {
   "cell_type": "code",
   "execution_count": 56,
   "id": "2156f431",
   "metadata": {},
   "outputs": [
    {
     "name": "stdout",
     "output_type": "stream",
     "text": [
      "department\n"
     ]
    }
   ],
   "source": [
    "s = str(input())"
   ]
  },
  {
   "cell_type": "code",
   "execution_count": 66,
   "id": "d7494983",
   "metadata": {},
   "outputs": [
    {
     "data": {
      "text/plain": [
       "'department'"
      ]
     },
     "execution_count": 66,
     "metadata": {},
     "output_type": "execute_result"
    }
   ],
   "source": [
    "s"
   ]
  },
  {
   "cell_type": "code",
   "execution_count": 67,
   "id": "242d198b",
   "metadata": {},
   "outputs": [
    {
     "data": {
      "text/plain": [
       "'d'"
      ]
     },
     "execution_count": 67,
     "metadata": {},
     "output_type": "execute_result"
    }
   ],
   "source": [
    "s[0]"
   ]
  },
  {
   "cell_type": "code",
   "execution_count": 62,
   "id": "f3c8e34b",
   "metadata": {},
   "outputs": [],
   "source": [
    "alpha = ['a', 'b', 'c', 'd', 'e', 'f', 'g', 'h', 'i', 'j', 'k', 'l', 'm', 'n', 'o', 'p', 'q','r','s','t','u','v','w','x','y','z']\n",
    "\n"
   ]
  },
  {
   "cell_type": "code",
   "execution_count": 97,
   "id": "9ededfc3",
   "metadata": {},
   "outputs": [],
   "source": [
    "count = [0]*len(alpha)"
   ]
  },
  {
   "cell_type": "code",
   "execution_count": 98,
   "id": "3d79d6db",
   "metadata": {},
   "outputs": [],
   "source": [
    "for i in range(len(s)):\n",
    "    for j in range(len(alpha)):\n",
    "        if s[i] == alpha[j]:\n",
    "            count[j] += 1"
   ]
  },
  {
   "cell_type": "code",
   "execution_count": 99,
   "id": "09aa67fb",
   "metadata": {},
   "outputs": [
    {
     "name": "stdout",
     "output_type": "stream",
     "text": [
      "[1, 0, 0, 1, 2, 0, 0, 0, 0, 0, 0, 0, 1, 1, 0, 1, 0, 1, 0, 2, 0, 0, 0, 0, 0, 0]\n"
     ]
    }
   ],
   "source": [
    "print(count)"
   ]
  },
  {
   "cell_type": "code",
   "execution_count": 102,
   "id": "2e6d0af7",
   "metadata": {},
   "outputs": [
    {
     "name": "stdout",
     "output_type": "stream",
     "text": [
      "1 \n"
     ]
    }
   ],
   "source": [
    "print(count[0], \"\")"
   ]
  },
  {
   "cell_type": "code",
   "execution_count": 108,
   "id": "7694dfdf",
   "metadata": {},
   "outputs": [],
   "source": [
    "count2 = []"
   ]
  },
  {
   "cell_type": "code",
   "execution_count": 106,
   "id": "c63726b9",
   "metadata": {},
   "outputs": [],
   "source": [
    "count2.append(count[0])"
   ]
  },
  {
   "cell_type": "code",
   "execution_count": 87,
   "id": "1a013abc",
   "metadata": {},
   "outputs": [
    {
     "name": "stdout",
     "output_type": "stream",
     "text": [
      "1 0 0\n"
     ]
    }
   ],
   "source": [
    "print(count[0], count[1], count[2])"
   ]
  },
  {
   "cell_type": "code",
   "execution_count": 109,
   "id": "28739ff6",
   "metadata": {},
   "outputs": [
    {
     "data": {
      "text/plain": [
       "[]"
      ]
     },
     "execution_count": 109,
     "metadata": {},
     "output_type": "execute_result"
    }
   ],
   "source": [
    "count2"
   ]
  },
  {
   "cell_type": "code",
   "execution_count": 110,
   "id": "1b8b91d0",
   "metadata": {},
   "outputs": [
    {
     "name": "stdout",
     "output_type": "stream",
     "text": [
      "0 1 1 0 0 1 1 1 1 1 1 1 0 0 1 0 1 0 1 0 1 1 1 1 1 1 "
     ]
    }
   ],
   "source": [
    "for x in count:\n",
    "    print(count[x], end = ' ')"
   ]
  },
  {
   "cell_type": "code",
   "execution_count": 111,
   "id": "096ef2d1",
   "metadata": {},
   "outputs": [],
   "source": [
    "alpa = {chr(x):0 for x in range(97, 122+1)}"
   ]
  },
  {
   "cell_type": "code",
   "execution_count": 112,
   "id": "b61fdb82",
   "metadata": {},
   "outputs": [
    {
     "data": {
      "text/plain": [
       "{'a': 0,\n",
       " 'b': 0,\n",
       " 'c': 0,\n",
       " 'd': 0,\n",
       " 'e': 0,\n",
       " 'f': 0,\n",
       " 'g': 0,\n",
       " 'h': 0,\n",
       " 'i': 0,\n",
       " 'j': 0,\n",
       " 'k': 0,\n",
       " 'l': 0,\n",
       " 'm': 0,\n",
       " 'n': 0,\n",
       " 'o': 0,\n",
       " 'p': 0,\n",
       " 'q': 0,\n",
       " 'r': 0,\n",
       " 's': 0,\n",
       " 't': 0,\n",
       " 'u': 0,\n",
       " 'v': 0,\n",
       " 'w': 0,\n",
       " 'x': 0,\n",
       " 'y': 0,\n",
       " 'z': 0}"
      ]
     },
     "execution_count": 112,
     "metadata": {},
     "output_type": "execute_result"
    }
   ],
   "source": [
    "alpa"
   ]
  },
  {
   "cell_type": "code",
   "execution_count": null,
   "id": "350f0d00",
   "metadata": {},
   "outputs": [],
   "source": []
  }
 ],
 "metadata": {
  "kernelspec": {
   "display_name": "Python 3 (ipykernel)",
   "language": "python",
   "name": "python3"
  },
  "language_info": {
   "codemirror_mode": {
    "name": "ipython",
    "version": 3
   },
   "file_extension": ".py",
   "mimetype": "text/x-python",
   "name": "python",
   "nbconvert_exporter": "python",
   "pygments_lexer": "ipython3",
   "version": "3.9.7"
  }
 },
 "nbformat": 4,
 "nbformat_minor": 5
}
